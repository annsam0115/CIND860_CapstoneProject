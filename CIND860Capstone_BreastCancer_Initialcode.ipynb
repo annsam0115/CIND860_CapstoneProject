{
  "nbformat": 4,
  "nbformat_minor": 0,
  "metadata": {
    "colab": {
      "provenance": [],
      "gpuType": "T4"
    },
    "kernelspec": {
      "name": "python3",
      "display_name": "Python 3"
    },
    "language_info": {
      "name": "python"
    },
    "accelerator": "GPU"
  },
  "cells": [
    {
      "cell_type": "markdown",
      "source": [
        "#Libraries"
      ],
      "metadata": {
        "id": "4L-COOXaC-yN"
      }
    },
    {
      "cell_type": "code",
      "execution_count": 77,
      "metadata": {
        "id": "gztpq48_7GEY"
      },
      "outputs": [],
      "source": [
        "import os\n",
        "from os import listdir\n",
        "\n",
        "import pandas as pd\n",
        "import numpy as np\n",
        "from numpy import hstack\n",
        "import matplotlib.pyplot as plt\n",
        "from matplotlib.image import imread\n",
        "import plotly.express as px\n",
        "import seaborn as sns\n",
        "\n",
        "import cv2\n",
        "from sklearn.model_selection import train_test_split\n",
        "from sklearn.metrics import confusion_matrix, r2_score, mean_absolute_error, accuracy_score\n",
        "\n",
        "import tensorflow as tf\n",
        "from keras.utils import to_categorical\n",
        "from keras.preprocessing import image\n",
        "from keras.layers import Dense, LSTM, GRU, Embedding, Flatten, Activation, Dropout\n",
        "from keras import optimizers\n",
        "\n",
        "from scipy.ndimage import shift\n",
        "import glob\n",
        "import PIL\n",
        "import random"
      ]
    },
    {
      "cell_type": "markdown",
      "source": [
        "#Raw Data Import"
      ],
      "metadata": {
        "id": "YS3HDhnzEjvV"
      }
    },
    {
      "cell_type": "code",
      "source": [
        "from google.colab import drive\n",
        "drive.mount('/content/drive/')\n",
        "\n",
        "!ls /content/drive/"
      ],
      "metadata": {
        "colab": {
          "base_uri": "https://localhost:8080/"
        },
        "id": "7Nxu2fNuBi7d",
        "outputId": "6560fccd-f397-42ab-b74b-58b122d4d6b4"
      },
      "execution_count": 78,
      "outputs": [
        {
          "output_type": "stream",
          "name": "stdout",
          "text": [
            "Drive already mounted at /content/drive/; to attempt to forcibly remount, call drive.mount(\"/content/drive/\", force_remount=True).\n",
            "MyDrive  Shareddrives\n"
          ]
        }
      ]
    },
    {
      "cell_type": "markdown",
      "source": [
        "#Data Preprocessing"
      ],
      "metadata": {
        "id": "2l4BCYSicXJK"
      }
    },
    {
      "cell_type": "code",
      "source": [
        "dicom_info = pd.read_csv('/content/drive/MyDrive/CIND860/csv/dicom_info.csv')\n",
        "calc_case_test = pd.read_csv('/content/drive/MyDrive/CIND860/csv/calc_case_description_test_set.csv')\n",
        "calc_case_train = pd.read_csv('/content/drive/MyDrive/CIND860/csv/calc_case_description_train_set.csv')\n",
        "mass_case_test = pd.read_csv('/content/drive/MyDrive/CIND860/csv/mass_case_description_test_set.csv')\n",
        "mass_case_train = pd.read_csv('/content/drive/MyDrive/CIND860/csv/mass_case_description_train_set.csv')\n",
        "image_dir = '/content/drive/MyDrive/CIND860/jpeg'"
      ],
      "metadata": {
        "id": "cm9aIKyx7xPI"
      },
      "execution_count": 79,
      "outputs": []
    },
    {
      "cell_type": "code",
      "source": [
        "dicom_info.info()"
      ],
      "metadata": {
        "colab": {
          "base_uri": "https://localhost:8080/"
        },
        "id": "2-dvMP758afl",
        "outputId": "0cf6a5c0-4999-4228-882f-b7ed10a3bfd8"
      },
      "execution_count": 80,
      "outputs": [
        {
          "output_type": "stream",
          "name": "stdout",
          "text": [
            "<class 'pandas.core.frame.DataFrame'>\n",
            "RangeIndex: 10237 entries, 0 to 10236\n",
            "Data columns (total 38 columns):\n",
            " #   Column                                       Non-Null Count  Dtype  \n",
            "---  ------                                       --------------  -----  \n",
            " 0   file_path                                    10237 non-null  object \n",
            " 1   image_path                                   10237 non-null  object \n",
            " 2   AccessionNumber                              0 non-null      float64\n",
            " 3   BitsAllocated                                10237 non-null  int64  \n",
            " 4   BitsStored                                   10237 non-null  int64  \n",
            " 5   BodyPartExamined                             10237 non-null  object \n",
            " 6   Columns                                      10237 non-null  int64  \n",
            " 7   ContentDate                                  10237 non-null  int64  \n",
            " 8   ContentTime                                  10237 non-null  float64\n",
            " 9   ConversionType                               10237 non-null  object \n",
            " 10  HighBit                                      10237 non-null  int64  \n",
            " 11  InstanceNumber                               10237 non-null  int64  \n",
            " 12  LargestImagePixelValue                       10237 non-null  int64  \n",
            " 13  Laterality                                   9671 non-null   object \n",
            " 14  Modality                                     10237 non-null  object \n",
            " 15  PatientBirthDate                             0 non-null      float64\n",
            " 16  PatientID                                    10237 non-null  object \n",
            " 17  PatientName                                  10237 non-null  object \n",
            " 18  PatientOrientation                           10237 non-null  object \n",
            " 19  PatientSex                                   0 non-null      float64\n",
            " 20  PhotometricInterpretation                    10237 non-null  object \n",
            " 21  PixelRepresentation                          10237 non-null  int64  \n",
            " 22  ReferringPhysicianName                       0 non-null      float64\n",
            " 23  Rows                                         10237 non-null  int64  \n",
            " 24  SOPClassUID                                  10237 non-null  object \n",
            " 25  SOPInstanceUID                               10237 non-null  object \n",
            " 26  SamplesPerPixel                              10237 non-null  int64  \n",
            " 27  SecondaryCaptureDeviceManufacturer           10237 non-null  object \n",
            " 28  SecondaryCaptureDeviceManufacturerModelName  10237 non-null  object \n",
            " 29  SeriesDescription                            9671 non-null   object \n",
            " 30  SeriesInstanceUID                            10237 non-null  object \n",
            " 31  SeriesNumber                                 10237 non-null  int64  \n",
            " 32  SmallestImagePixelValue                      10237 non-null  int64  \n",
            " 33  SpecificCharacterSet                         10237 non-null  object \n",
            " 34  StudyDate                                    9671 non-null   float64\n",
            " 35  StudyID                                      10237 non-null  object \n",
            " 36  StudyInstanceUID                             10237 non-null  object \n",
            " 37  StudyTime                                    9671 non-null   float64\n",
            "dtypes: float64(7), int64(12), object(19)\n",
            "memory usage: 3.0+ MB\n"
          ]
        }
      ]
    },
    {
      "cell_type": "code",
      "source": [
        "calc_case_test.info()"
      ],
      "metadata": {
        "colab": {
          "base_uri": "https://localhost:8080/"
        },
        "id": "hKqtvhaU8kpV",
        "outputId": "514f0e14-da2c-4053-a54c-ce2ae4f2e9cb"
      },
      "execution_count": 81,
      "outputs": [
        {
          "output_type": "stream",
          "name": "stdout",
          "text": [
            "<class 'pandas.core.frame.DataFrame'>\n",
            "RangeIndex: 326 entries, 0 to 325\n",
            "Data columns (total 14 columns):\n",
            " #   Column                   Non-Null Count  Dtype \n",
            "---  ------                   --------------  ----- \n",
            " 0   patient_id               326 non-null    object\n",
            " 1   breast density           326 non-null    int64 \n",
            " 2   left or right breast     326 non-null    object\n",
            " 3   image view               326 non-null    object\n",
            " 4   abnormality id           326 non-null    int64 \n",
            " 5   abnormality type         326 non-null    object\n",
            " 6   calc type                322 non-null    object\n",
            " 7   calc distribution        263 non-null    object\n",
            " 8   assessment               326 non-null    int64 \n",
            " 9   pathology                326 non-null    object\n",
            " 10  subtlety                 326 non-null    int64 \n",
            " 11  image file path          326 non-null    object\n",
            " 12  cropped image file path  326 non-null    object\n",
            " 13  ROI mask file path       326 non-null    object\n",
            "dtypes: int64(4), object(10)\n",
            "memory usage: 35.8+ KB\n"
          ]
        }
      ]
    },
    {
      "cell_type": "code",
      "source": [
        "calc_case_train.info()"
      ],
      "metadata": {
        "id": "guNvs_3U9JGE",
        "colab": {
          "base_uri": "https://localhost:8080/"
        },
        "outputId": "7151b24a-2931-407b-8797-db1fec0c2823"
      },
      "execution_count": 82,
      "outputs": [
        {
          "output_type": "stream",
          "name": "stdout",
          "text": [
            "<class 'pandas.core.frame.DataFrame'>\n",
            "RangeIndex: 1546 entries, 0 to 1545\n",
            "Data columns (total 14 columns):\n",
            " #   Column                   Non-Null Count  Dtype \n",
            "---  ------                   --------------  ----- \n",
            " 0   patient_id               1546 non-null   object\n",
            " 1   breast density           1546 non-null   int64 \n",
            " 2   left or right breast     1546 non-null   object\n",
            " 3   image view               1546 non-null   object\n",
            " 4   abnormality id           1546 non-null   int64 \n",
            " 5   abnormality type         1546 non-null   object\n",
            " 6   calc type                1526 non-null   object\n",
            " 7   calc distribution        1170 non-null   object\n",
            " 8   assessment               1546 non-null   int64 \n",
            " 9   pathology                1546 non-null   object\n",
            " 10  subtlety                 1546 non-null   int64 \n",
            " 11  image file path          1546 non-null   object\n",
            " 12  cropped image file path  1546 non-null   object\n",
            " 13  ROI mask file path       1546 non-null   object\n",
            "dtypes: int64(4), object(10)\n",
            "memory usage: 169.2+ KB\n"
          ]
        }
      ]
    },
    {
      "cell_type": "code",
      "source": [
        "mass_case_test.info()"
      ],
      "metadata": {
        "colab": {
          "base_uri": "https://localhost:8080/"
        },
        "id": "yZ63KH_lCveu",
        "outputId": "0410eb7e-1e9a-4961-8398-160415425e10"
      },
      "execution_count": 83,
      "outputs": [
        {
          "output_type": "stream",
          "name": "stdout",
          "text": [
            "<class 'pandas.core.frame.DataFrame'>\n",
            "RangeIndex: 378 entries, 0 to 377\n",
            "Data columns (total 14 columns):\n",
            " #   Column                   Non-Null Count  Dtype \n",
            "---  ------                   --------------  ----- \n",
            " 0   patient_id               378 non-null    object\n",
            " 1   breast_density           378 non-null    int64 \n",
            " 2   left or right breast     378 non-null    object\n",
            " 3   image view               378 non-null    object\n",
            " 4   abnormality id           378 non-null    int64 \n",
            " 5   abnormality type         378 non-null    object\n",
            " 6   mass shape               378 non-null    object\n",
            " 7   mass margins             361 non-null    object\n",
            " 8   assessment               378 non-null    int64 \n",
            " 9   pathology                378 non-null    object\n",
            " 10  subtlety                 378 non-null    int64 \n",
            " 11  image file path          378 non-null    object\n",
            " 12  cropped image file path  378 non-null    object\n",
            " 13  ROI mask file path       378 non-null    object\n",
            "dtypes: int64(4), object(10)\n",
            "memory usage: 41.5+ KB\n"
          ]
        }
      ]
    },
    {
      "cell_type": "code",
      "source": [
        "mass_case_train.info()"
      ],
      "metadata": {
        "colab": {
          "base_uri": "https://localhost:8080/"
        },
        "id": "yBTsqugtC0hV",
        "outputId": "4ffd73e7-7534-463e-e136-e6093b21f1d2"
      },
      "execution_count": 84,
      "outputs": [
        {
          "output_type": "stream",
          "name": "stdout",
          "text": [
            "<class 'pandas.core.frame.DataFrame'>\n",
            "RangeIndex: 1318 entries, 0 to 1317\n",
            "Data columns (total 14 columns):\n",
            " #   Column                   Non-Null Count  Dtype \n",
            "---  ------                   --------------  ----- \n",
            " 0   patient_id               1318 non-null   object\n",
            " 1   breast_density           1318 non-null   int64 \n",
            " 2   left or right breast     1318 non-null   object\n",
            " 3   image view               1318 non-null   object\n",
            " 4   abnormality id           1318 non-null   int64 \n",
            " 5   abnormality type         1318 non-null   object\n",
            " 6   mass shape               1314 non-null   object\n",
            " 7   mass margins             1275 non-null   object\n",
            " 8   assessment               1318 non-null   int64 \n",
            " 9   pathology                1318 non-null   object\n",
            " 10  subtlety                 1318 non-null   int64 \n",
            " 11  image file path          1318 non-null   object\n",
            " 12  cropped image file path  1318 non-null   object\n",
            " 13  ROI mask file path       1318 non-null   object\n",
            "dtypes: int64(4), object(10)\n",
            "memory usage: 144.3+ KB\n"
          ]
        }
      ]
    },
    {
      "cell_type": "code",
      "source": [
        "cropped_images = dicom_info[dicom_info.SeriesDescription == 'cropped images'].image_path\n",
        "cropped_images.head()"
      ],
      "metadata": {
        "colab": {
          "base_uri": "https://localhost:8080/"
        },
        "id": "wXTRUMbYEdkV",
        "outputId": "abf8c95c-2152-4b45-8f90-528614f1ad61"
      },
      "execution_count": 85,
      "outputs": [
        {
          "output_type": "execute_result",
          "data": {
            "text/plain": [
              "0     CBIS-DDSM/jpeg/1.3.6.1.4.1.9590.100.1.2.129308...\n",
              "3     CBIS-DDSM/jpeg/1.3.6.1.4.1.9590.100.1.2.381187...\n",
              "6     CBIS-DDSM/jpeg/1.3.6.1.4.1.9590.100.1.2.153339...\n",
              "7     CBIS-DDSM/jpeg/1.3.6.1.4.1.9590.100.1.2.178994...\n",
              "10    CBIS-DDSM/jpeg/1.3.6.1.4.1.9590.100.1.2.411833...\n",
              "Name: image_path, dtype: object"
            ]
          },
          "metadata": {},
          "execution_count": 85
        }
      ]
    },
    {
      "cell_type": "code",
      "source": [
        "cropped_images = cropped_images.apply(lambda x: x.replace('CBIS-DDSM/jpeg', image_dir))\n",
        "cropped_images.head()"
      ],
      "metadata": {
        "colab": {
          "base_uri": "https://localhost:8080/"
        },
        "id": "1PBG8SlsFsxS",
        "outputId": "da688f17-4251-4c76-b9fb-3de25955c245"
      },
      "execution_count": 86,
      "outputs": [
        {
          "output_type": "execute_result",
          "data": {
            "text/plain": [
              "0     /content/drive/MyDrive/CIND860/jpeg/1.3.6.1.4....\n",
              "3     /content/drive/MyDrive/CIND860/jpeg/1.3.6.1.4....\n",
              "6     /content/drive/MyDrive/CIND860/jpeg/1.3.6.1.4....\n",
              "7     /content/drive/MyDrive/CIND860/jpeg/1.3.6.1.4....\n",
              "10    /content/drive/MyDrive/CIND860/jpeg/1.3.6.1.4....\n",
              "Name: image_path, dtype: object"
            ]
          },
          "metadata": {},
          "execution_count": 86
        }
      ]
    },
    {
      "cell_type": "code",
      "source": [
        "for file in cropped_images[0:10]:\n",
        "    cropped_images_show = PIL.Image.open(file)\n",
        "    gray_img= cropped_images_show.convert(\"L\")\n",
        "    plt.imshow(gray_img, cmap='gray')"
      ],
      "metadata": {
        "colab": {
          "base_uri": "https://localhost:8080/",
          "height": 434
        },
        "id": "HqjU6D1OgI8N",
        "outputId": "9b22fe5e-3b7e-4739-de43-2f6f3438fb21"
      },
      "execution_count": 87,
      "outputs": [
        {
          "output_type": "display_data",
          "data": {
            "text/plain": [
              "<Figure size 640x480 with 1 Axes>"
            ],
            "image/png": "[encoded data removed]"
          },
          "metadata": {}
        }
      ]
    },
    {
      "cell_type": "code",
      "source": [
        "full_mammogram_images = dicom_info[dicom_info.SeriesDescription == 'full mammogram images'].image_path\n",
        "full_mammogram_images.head()"
      ],
      "metadata": {
        "colab": {
          "base_uri": "https://localhost:8080/"
        },
        "id": "t7Cx890ugMKT",
        "outputId": "7cc26a98-f7f7-4943-c127-8cfb0c9d755f"
      },
      "execution_count": 88,
      "outputs": [
        {
          "output_type": "execute_result",
          "data": {
            "text/plain": [
              "1     CBIS-DDSM/jpeg/1.3.6.1.4.1.9590.100.1.2.248386...\n",
              "2     CBIS-DDSM/jpeg/1.3.6.1.4.1.9590.100.1.2.267213...\n",
              "11    CBIS-DDSM/jpeg/1.3.6.1.4.1.9590.100.1.2.210396...\n",
              "12    CBIS-DDSM/jpeg/1.3.6.1.4.1.9590.100.1.2.749566...\n",
              "15    CBIS-DDSM/jpeg/1.3.6.1.4.1.9590.100.1.2.987658...\n",
              "Name: image_path, dtype: object"
            ]
          },
          "metadata": {},
          "execution_count": 88
        }
      ]
    },
    {
      "cell_type": "code",
      "source": [
        "full_mammogram_images = full_mammogram_images.apply(lambda x: x.replace('CBIS-DDSM/jpeg', image_dir))\n",
        "full_mammogram_images.head()"
      ],
      "metadata": {
        "colab": {
          "base_uri": "https://localhost:8080/"
        },
        "id": "p8VXKRFngS6D",
        "outputId": "4ae5b1bd-6ad7-450e-fa90-ffb8f0fbd033"
      },
      "execution_count": 89,
      "outputs": [
        {
          "output_type": "execute_result",
          "data": {
            "text/plain": [
              "1     /content/drive/MyDrive/CIND860/jpeg/1.3.6.1.4....\n",
              "2     /content/drive/MyDrive/CIND860/jpeg/1.3.6.1.4....\n",
              "11    /content/drive/MyDrive/CIND860/jpeg/1.3.6.1.4....\n",
              "12    /content/drive/MyDrive/CIND860/jpeg/1.3.6.1.4....\n",
              "15    /content/drive/MyDrive/CIND860/jpeg/1.3.6.1.4....\n",
              "Name: image_path, dtype: object"
            ]
          },
          "metadata": {},
          "execution_count": 89
        }
      ]
    },
    {
      "cell_type": "code",
      "source": [
        "for file  in full_mammogram_images[0:10]:\n",
        "    full_mammogram_images_show = PIL.Image.open(file)\n",
        "    gray_img= full_mammogram_images_show.convert(\"L\")\n",
        "    plt.imshow(gray_img, cmap='gray')"
      ],
      "metadata": {
        "colab": {
          "base_uri": "https://localhost:8080/",
          "height": 435
        },
        "id": "uGWn0cdfgVyg",
        "outputId": "167ba94c-cf20-4e5e-8909-35b1616d2979"
      },
      "execution_count": 90,
      "outputs": [
        {
          "output_type": "display_data",
          "data": {
            "text/plain": [
              "<Figure size 640x480 with 1 Axes>"
            ],
            "image/png": "[encoded data removed]"
          },
          "metadata": {}
        }
      ]
    },
    {
      "cell_type": "code",
      "source": [
        "ROI_mask_images = dicom_info[dicom_info.SeriesDescription == 'ROI mask images'].image_path\n",
        "ROI_mask_images.head()"
      ],
      "metadata": {
        "colab": {
          "base_uri": "https://localhost:8080/"
        },
        "id": "22qAtTS5gbzB",
        "outputId": "b3887686-055d-4107-9779-c8b3598f97d4"
      },
      "execution_count": 91,
      "outputs": [
        {
          "output_type": "execute_result",
          "data": {
            "text/plain": [
              "5     CBIS-DDSM/jpeg/1.3.6.1.4.1.9590.100.1.2.153339...\n",
              "8     CBIS-DDSM/jpeg/1.3.6.1.4.1.9590.100.1.2.178994...\n",
              "9     CBIS-DDSM/jpeg/1.3.6.1.4.1.9590.100.1.2.411833...\n",
              "14    CBIS-DDSM/jpeg/1.3.6.1.4.1.9590.100.1.2.236373...\n",
              "20    CBIS-DDSM/jpeg/1.3.6.1.4.1.9590.100.1.2.357008...\n",
              "Name: image_path, dtype: object"
            ]
          },
          "metadata": {},
          "execution_count": 91
        }
      ]
    },
    {
      "cell_type": "code",
      "source": [
        "ROI_mask_images = ROI_mask_images.apply(lambda x: x.replace('CBIS-DDSM/jpeg', image_dir))\n",
        "ROI_mask_images.head()"
      ],
      "metadata": {
        "colab": {
          "base_uri": "https://localhost:8080/"
        },
        "id": "1AIS34LJghLa",
        "outputId": "502deed6-5f7d-4702-e531-5e541ef14cd6"
      },
      "execution_count": 92,
      "outputs": [
        {
          "output_type": "execute_result",
          "data": {
            "text/plain": [
              "5     /content/drive/MyDrive/CIND860/jpeg/1.3.6.1.4....\n",
              "8     /content/drive/MyDrive/CIND860/jpeg/1.3.6.1.4....\n",
              "9     /content/drive/MyDrive/CIND860/jpeg/1.3.6.1.4....\n",
              "14    /content/drive/MyDrive/CIND860/jpeg/1.3.6.1.4....\n",
              "20    /content/drive/MyDrive/CIND860/jpeg/1.3.6.1.4....\n",
              "Name: image_path, dtype: object"
            ]
          },
          "metadata": {},
          "execution_count": 92
        }
      ]
    },
    {
      "cell_type": "code",
      "source": [
        "for file  in ROI_mask_images[0:10]:\n",
        "    ROI_mask_images_show = PIL.Image.open(file)\n",
        "    gray_img= ROI_mask_images_show.convert(\"L\")\n",
        "    plt.imshow(gray_img, cmap='gray')"
      ],
      "metadata": {
        "colab": {
          "base_uri": "https://localhost:8080/",
          "height": 435
        },
        "id": "7iCsw4P2gj9R",
        "outputId": "6fcdd735-2dc1-4933-836b-5b07081590c0"
      },
      "execution_count": 93,
      "outputs": [
        {
          "output_type": "display_data",
          "data": {
            "text/plain": [
              "<Figure size 640x480 with 1 Axes>"
            ],
            "image/png": "[encoded data removed]"
          },
          "metadata": {}
        }
      ]
    },
    {
      "cell_type": "markdown",
      "source": [
        "#Data Cleaning"
      ],
      "metadata": {
        "id": "3ZNyN6SCmE13"
      }
    },
    {
      "cell_type": "code",
      "source": [
        "dicom_info.drop(['PatientBirthDate','AccessionNumber','Columns','ContentDate','ContentTime','PatientSex','PatientBirthDate',\n",
        "                                                'ReferringPhysicianName','Rows','SOPClassUID','SOPInstanceUID',\n",
        "                                                'StudyDate','StudyID','StudyInstanceUID','StudyTime','InstanceNumber','SeriesInstanceUID','SeriesNumber'],axis =1, inplace=True)"
      ],
      "metadata": {
        "id": "vAlbt-K4mECp"
      },
      "execution_count": 94,
      "outputs": []
    },
    {
      "cell_type": "code",
      "source": [
        "dicom_info.info()"
      ],
      "metadata": {
        "colab": {
          "base_uri": "https://localhost:8080/"
        },
        "id": "RztaKKhZmQYR",
        "outputId": "a1b4d28e-3556-42d5-c956-bee125b13b5c"
      },
      "execution_count": 95,
      "outputs": [
        {
          "output_type": "stream",
          "name": "stdout",
          "text": [
            "<class 'pandas.core.frame.DataFrame'>\n",
            "RangeIndex: 10237 entries, 0 to 10236\n",
            "Data columns (total 21 columns):\n",
            " #   Column                                       Non-Null Count  Dtype \n",
            "---  ------                                       --------------  ----- \n",
            " 0   file_path                                    10237 non-null  object\n",
            " 1   image_path                                   10237 non-null  object\n",
            " 2   BitsAllocated                                10237 non-null  int64 \n",
            " 3   BitsStored                                   10237 non-null  int64 \n",
            " 4   BodyPartExamined                             10237 non-null  object\n",
            " 5   ConversionType                               10237 non-null  object\n",
            " 6   HighBit                                      10237 non-null  int64 \n",
            " 7   LargestImagePixelValue                       10237 non-null  int64 \n",
            " 8   Laterality                                   9671 non-null   object\n",
            " 9   Modality                                     10237 non-null  object\n",
            " 10  PatientID                                    10237 non-null  object\n",
            " 11  PatientName                                  10237 non-null  object\n",
            " 12  PatientOrientation                           10237 non-null  object\n",
            " 13  PhotometricInterpretation                    10237 non-null  object\n",
            " 14  PixelRepresentation                          10237 non-null  int64 \n",
            " 15  SamplesPerPixel                              10237 non-null  int64 \n",
            " 16  SecondaryCaptureDeviceManufacturer           10237 non-null  object\n",
            " 17  SecondaryCaptureDeviceManufacturerModelName  10237 non-null  object\n",
            " 18  SeriesDescription                            9671 non-null   object\n",
            " 19  SmallestImagePixelValue                      10237 non-null  int64 \n",
            " 20  SpecificCharacterSet                         10237 non-null  object\n",
            "dtypes: int64(7), object(14)\n",
            "memory usage: 1.6+ MB\n"
          ]
        }
      ]
    },
    {
      "cell_type": "code",
      "source": [
        "dicom_info.isna().sum()"
      ],
      "metadata": {
        "colab": {
          "base_uri": "https://localhost:8080/"
        },
        "id": "d97BGNjGmWcu",
        "outputId": "0b0eb048-e92d-4476-ab89-15c957fe416b"
      },
      "execution_count": 96,
      "outputs": [
        {
          "output_type": "execute_result",
          "data": {
            "text/plain": [
              "file_path                                        0\n",
              "image_path                                       0\n",
              "BitsAllocated                                    0\n",
              "BitsStored                                       0\n",
              "BodyPartExamined                                 0\n",
              "ConversionType                                   0\n",
              "HighBit                                          0\n",
              "LargestImagePixelValue                           0\n",
              "Laterality                                     566\n",
              "Modality                                         0\n",
              "PatientID                                        0\n",
              "PatientName                                      0\n",
              "PatientOrientation                               0\n",
              "PhotometricInterpretation                        0\n",
              "PixelRepresentation                              0\n",
              "SamplesPerPixel                                  0\n",
              "SecondaryCaptureDeviceManufacturer               0\n",
              "SecondaryCaptureDeviceManufacturerModelName      0\n",
              "SeriesDescription                              566\n",
              "SmallestImagePixelValue                          0\n",
              "SpecificCharacterSet                             0\n",
              "dtype: int64"
            ]
          },
          "metadata": {},
          "execution_count": 96
        }
      ]
    },
    {
      "cell_type": "code",
      "source": [
        "dicom_info['SeriesDescription'].fillna(method = 'bfill', axis = 0, inplace=True)\n",
        "dicom_info['Laterality'].fillna(method = 'bfill', axis = 0, inplace=True)"
      ],
      "metadata": {
        "id": "NkFVvebzmfRK"
      },
      "execution_count": 97,
      "outputs": []
    },
    {
      "cell_type": "code",
      "source": [
        "dicom_info.isna().sum()"
      ],
      "metadata": {
        "colab": {
          "base_uri": "https://localhost:8080/"
        },
        "id": "YeAvncFsnI9w",
        "outputId": "a1cdd725-0674-43f4-ba88-97face65bb19"
      },
      "execution_count": 98,
      "outputs": [
        {
          "output_type": "execute_result",
          "data": {
            "text/plain": [
              "file_path                                      0\n",
              "image_path                                     0\n",
              "BitsAllocated                                  0\n",
              "BitsStored                                     0\n",
              "BodyPartExamined                               0\n",
              "ConversionType                                 0\n",
              "HighBit                                        0\n",
              "LargestImagePixelValue                         0\n",
              "Laterality                                     0\n",
              "Modality                                       0\n",
              "PatientID                                      0\n",
              "PatientName                                    0\n",
              "PatientOrientation                             0\n",
              "PhotometricInterpretation                      0\n",
              "PixelRepresentation                            0\n",
              "SamplesPerPixel                                0\n",
              "SecondaryCaptureDeviceManufacturer             0\n",
              "SecondaryCaptureDeviceManufacturerModelName    0\n",
              "SeriesDescription                              0\n",
              "SmallestImagePixelValue                        0\n",
              "SpecificCharacterSet                           0\n",
              "dtype: int64"
            ]
          },
          "metadata": {},
          "execution_count": 98
        }
      ]
    },
    {
      "cell_type": "code",
      "source": [
        "calc_case_train = calc_case_train.rename(columns={'calc type':'calc_type'})\n",
        "calc_case_train = calc_case_train.rename(columns={'calc distribution':'calc_distribution'})\n",
        "calc_case_train = calc_case_train.rename(columns={'image view':'image_view'})\n",
        "calc_case_train = calc_case_train.rename(columns={'left or right breast':'left_or_right_breast'})\n",
        "calc_case_train = calc_case_train.rename(columns={'breast density':'breast_density'})\n",
        "calc_case_train = calc_case_train.rename(columns={'abnormality type':'abnormality_type'})\n",
        "calc_case_train['pathology'] = calc_case_train['pathology'].astype('category')\n",
        "calc_case_train['calc_type'] = calc_case_train['calc_type'].astype('category')\n",
        "calc_case_train['calc_distribution'] = calc_case_train['calc_distribution'].astype('category')\n",
        "calc_case_train['abnormality_type'] = calc_case_train['abnormality_type'].astype('category')\n",
        "calc_case_train['image_view'] = calc_case_train['image_view'].astype('category')\n",
        "calc_case_train['left_or_right_breast'] = calc_case_train['left_or_right_breast'].astype('category')\n",
        "calc_case_train.isna().sum()"
      ],
      "metadata": {
        "colab": {
          "base_uri": "https://localhost:8080/"
        },
        "id": "abTTD1YJo0aL",
        "outputId": "22174e47-daaf-48d0-b09f-1e14d9db9679"
      },
      "execution_count": 99,
      "outputs": [
        {
          "output_type": "execute_result",
          "data": {
            "text/plain": [
              "patient_id                   0\n",
              "breast_density               0\n",
              "left_or_right_breast         0\n",
              "image_view                   0\n",
              "abnormality id               0\n",
              "abnormality_type             0\n",
              "calc_type                   20\n",
              "calc_distribution          376\n",
              "assessment                   0\n",
              "pathology                    0\n",
              "subtlety                     0\n",
              "image file path              0\n",
              "cropped image file path      0\n",
              "ROI mask file path           0\n",
              "dtype: int64"
            ]
          },
          "metadata": {},
          "execution_count": 99
        }
      ]
    },
    {
      "cell_type": "code",
      "source": [
        "calc_case_train['calc_type'].fillna(method = 'bfill', axis = 0, inplace=True)\n",
        "calc_case_train['calc_distribution'].fillna(method = 'bfill', axis = 0, inplace=True)\n",
        "calc_case_train.isna().sum()"
      ],
      "metadata": {
        "colab": {
          "base_uri": "https://localhost:8080/"
        },
        "id": "bENbgqLx3sDK",
        "outputId": "e00e81f5-745c-40b1-a8cd-8c57be86bb1b"
      },
      "execution_count": 100,
      "outputs": [
        {
          "output_type": "execute_result",
          "data": {
            "text/plain": [
              "patient_id                 0\n",
              "breast_density             0\n",
              "left_or_right_breast       0\n",
              "image_view                 0\n",
              "abnormality id             0\n",
              "abnormality_type           0\n",
              "calc_type                  0\n",
              "calc_distribution          0\n",
              "assessment                 0\n",
              "pathology                  0\n",
              "subtlety                   0\n",
              "image file path            0\n",
              "cropped image file path    0\n",
              "ROI mask file path         0\n",
              "dtype: int64"
            ]
          },
          "metadata": {},
          "execution_count": 100
        }
      ]
    },
    {
      "cell_type": "code",
      "source": [
        "mass_case_train = mass_case_train.rename(columns={'mass shape':'mass_shape'})\n",
        "mass_case_train = mass_case_train.rename(columns={'left or right breast':'left_or_right_breast'})\n",
        "mass_case_train = mass_case_train.rename(columns={'mass margins':'mass_margins'})\n",
        "mass_case_train = mass_case_train.rename(columns={'image view':'image_view'})\n",
        "mass_case_train = mass_case_train.rename(columns={'abnormality type':'abnormality_type'})\n",
        "mass_case_train['left_or_right_breast'] = mass_case_train['left_or_right_breast'].astype('category')\n",
        "mass_case_train['image_view'] = mass_case_train['image_view'].astype('category')\n",
        "mass_case_train['mass_margins'] = mass_case_train['mass_margins'].astype('category')\n",
        "mass_case_train['mass_shape'] = mass_case_train['mass_shape'].astype('category')\n",
        "mass_case_train['abnormality_type'] = mass_case_train['abnormality_type'].astype('category')\n",
        "mass_case_train['pathology'] = mass_case_train['pathology'].astype('category')\n",
        "mass_case_train.isna().sum()"
      ],
      "metadata": {
        "colab": {
          "base_uri": "https://localhost:8080/"
        },
        "id": "djhSmbia32Hb",
        "outputId": "55049135-52b8-4158-f018-bd98476c75ef"
      },
      "execution_count": 101,
      "outputs": [
        {
          "output_type": "execute_result",
          "data": {
            "text/plain": [
              "patient_id                  0\n",
              "breast_density              0\n",
              "left_or_right_breast        0\n",
              "image_view                  0\n",
              "abnormality id              0\n",
              "abnormality_type            0\n",
              "mass_shape                  4\n",
              "mass_margins               43\n",
              "assessment                  0\n",
              "pathology                   0\n",
              "subtlety                    0\n",
              "image file path             0\n",
              "cropped image file path     0\n",
              "ROI mask file path          0\n",
              "dtype: int64"
            ]
          },
          "metadata": {},
          "execution_count": 101
        }
      ]
    },
    {
      "cell_type": "code",
      "source": [
        "mass_case_train['mass_shape'].fillna(method = 'bfill', axis = 0, inplace=True)\n",
        "mass_case_train['mass_margins'].fillna(method = 'bfill', axis = 0, inplace=True)\n",
        "mass_case_train.isna().sum()"
      ],
      "metadata": {
        "colab": {
          "base_uri": "https://localhost:8080/"
        },
        "id": "Mp_dHEdH4QAg",
        "outputId": "b14496db-ee0b-486d-f822-c8a726d1613f"
      },
      "execution_count": 102,
      "outputs": [
        {
          "output_type": "execute_result",
          "data": {
            "text/plain": [
              "patient_id                 0\n",
              "breast_density             0\n",
              "left_or_right_breast       0\n",
              "image_view                 0\n",
              "abnormality id             0\n",
              "abnormality_type           0\n",
              "mass_shape                 0\n",
              "mass_margins               0\n",
              "assessment                 0\n",
              "pathology                  0\n",
              "subtlety                   0\n",
              "image file path            0\n",
              "cropped image file path    0\n",
              "ROI mask file path         0\n",
              "dtype: int64"
            ]
          },
          "metadata": {},
          "execution_count": 102
        }
      ]
    },
    {
      "cell_type": "code",
      "source": [
        "full_mammogram_images = dicom_info[dicom_info.SeriesDescription == 'full mammogram images'].image_path\n",
        "cropped_images = dicom_info[dicom_info.SeriesDescription == 'cropped images'].image_path\n",
        "roi_mask_images = dicom_info[dicom_info.SeriesDescription == 'ROI mask images'].image_path\n",
        "\n",
        "full_mammogram_images = full_mammogram_images.apply(lambda x: x.replace('CBIS-DDSM/jpeg', image_dir))\n",
        "cropped_images = cropped_images.apply(lambda x: x.replace('CBIS-DDSM/jpeg', image_dir))\n",
        "roi_mask_images = roi_mask_images.apply(lambda x: x.replace('CBIS-DDSM/jpeg', image_dir))\n",
        "full_mammogram_images.iloc[0]"
      ],
      "metadata": {
        "colab": {
          "base_uri": "https://localhost:8080/",
          "height": 35
        },
        "id": "bv93ouU3-W2O",
        "outputId": "0c18cf86-e6bd-4cd7-97b4-d3ae62b1ade7"
      },
      "execution_count": 103,
      "outputs": [
        {
          "output_type": "execute_result",
          "data": {
            "text/plain": [
              "'/content/drive/MyDrive/CIND860/jpeg/1.3.6.1.4.1.9590.100.1.2.248386742010678582309005372213277814849/1-249.jpg'"
            ],
            "application/vnd.google.colaboratory.intrinsic+json": {
              "type": "string"
            }
          },
          "metadata": {},
          "execution_count": 103
        }
      ]
    },
    {
      "cell_type": "markdown",
      "source": [
        "#Data Visualization"
      ],
      "metadata": {
        "id": "-n8i9bkt-7U3"
      }
    },
    {
      "cell_type": "code",
      "source": [
        "mass_case = pd.DataFrame(mass_case_train['pathology'].value_counts())\n",
        "mass_case = mass_case.reset_index()\n",
        "mass_case = mass_case.rename(columns={'index':'pathology','pathology':'counts'})"
      ],
      "metadata": {
        "id": "NIeuam1tGO_N"
      },
      "execution_count": 104,
      "outputs": []
    },
    {
      "cell_type": "code",
      "source": [
        "fig_1a = px.bar(data_frame = mass_case, x = 'pathology', y = 'counts', color = 'pathology')\n",
        "fig_1a.update_layout(title_text='Pathology of Mass Cancer Cases', title_x=0.45)\n",
        "fig_1a.show()"
      ],
      "metadata": {
        "colab": {
          "base_uri": "https://localhost:8080/",
          "height": 542
        },
        "id": "bqfO_73V5L_v",
        "outputId": "aa46d19e-30a1-4a80-ff42-85ad8333a274"
      },
      "execution_count": 105,
      "outputs": [
        {
          "output_type": "display_data",
          "data": {
            "text/html": [
              "<html>\n",
              "<head><meta charset=\"utf-8\" /></head>\n",
              "<body>\n",
              "    <div>            <script src=\"https://cdnjs.cloudflare.com/ajax/libs/mathjax/2.7.5/MathJax.js?config=TeX-AMS-MML_SVG\"></script><script type=\"text/javascript\">if (window.MathJax && window.MathJax.Hub && window.MathJax.Hub.Config) {window.MathJax.Hub.Config({SVG: {font: \"STIX-Web\"}});}</script>                <script type=\"text/javascript\">window.PlotlyConfig = {MathJaxConfig: 'local'};</script>\n",
              "        <script charset=\"utf-8\" src=\"https://cdn.plot.ly/plotly-2.24.1.min.js\"></script>                <div id=\"ab219e46-7c51-4514-90e1-96c3cd3b08bc\" class=\"plotly-graph-div\" style=\"height:525px; width:100%;\"></div>            <script type=\"text/javascript\">                                    window.PLOTLYENV=window.PLOTLYENV || {};                                    if (document.getElementById(\"ab219e46-7c51-4514-90e1-96c3cd3b08bc\")) {                    Plotly.newPlot(                        \"ab219e46-7c51-4514-90e1-96c3cd3b08bc\",                        [{\"alignmentgroup\":\"True\",\"hovertemplate\":\"pathology=%{x}\\u003cbr\\u003ecounts=%{y}\\u003cextra\\u003e\\u003c\\u002fextra\\u003e\",\"legendgroup\":\"MALIGNANT\",\"marker\":{\"color\":\"#636efa\",\"pattern\":{\"shape\":\"\"}},\"name\":\"MALIGNANT\",\"offsetgroup\":\"MALIGNANT\",\"orientation\":\"v\",\"showlegend\":true,\"textposition\":\"auto\",\"x\":[\"MALIGNANT\"],\"xaxis\":\"x\",\"y\":[637],\"yaxis\":\"y\",\"type\":\"bar\"},{\"alignmentgroup\":\"True\",\"hovertemplate\":\"pathology=%{x}\\u003cbr\\u003ecounts=%{y}\\u003cextra\\u003e\\u003c\\u002fextra\\u003e\",\"legendgroup\":\"BENIGN\",\"marker\":{\"color\":\"#EF553B\",\"pattern\":{\"shape\":\"\"}},\"name\":\"BENIGN\",\"offsetgroup\":\"BENIGN\",\"orientation\":\"v\",\"showlegend\":true,\"textposition\":\"auto\",\"x\":[\"BENIGN\"],\"xaxis\":\"x\",\"y\":[577],\"yaxis\":\"y\",\"type\":\"bar\"},{\"alignmentgroup\":\"True\",\"hovertemplate\":\"pathology=%{x}\\u003cbr\\u003ecounts=%{y}\\u003cextra\\u003e\\u003c\\u002fextra\\u003e\",\"legendgroup\":\"BENIGN_WITHOUT_CALLBACK\",\"marker\":{\"color\":\"#00cc96\",\"pattern\":{\"shape\":\"\"}},\"name\":\"BENIGN_WITHOUT_CALLBACK\",\"offsetgroup\":\"BENIGN_WITHOUT_CALLBACK\",\"orientation\":\"v\",\"showlegend\":true,\"textposition\":\"auto\",\"x\":[\"BENIGN_WITHOUT_CALLBACK\"],\"xaxis\":\"x\",\"y\":[104],\"yaxis\":\"y\",\"type\":\"bar\"}],                        {\"template\":{\"data\":{\"histogram2dcontour\":[{\"type\":\"histogram2dcontour\",\"colorbar\":{\"outlinewidth\":0,\"ticks\":\"\"},\"colorscale\":[[0.0,\"#0d0887\"],[0.1111111111111111,\"#46039f\"],[0.2222222222222222,\"#7201a8\"],[0.3333333333333333,\"#9c179e\"],[0.4444444444444444,\"#bd3786\"],[0.5555555555555556,\"#d8576b\"],[0.6666666666666666,\"#ed7953\"],[0.7777777777777778,\"#fb9f3a\"],[0.8888888888888888,\"#fdca26\"],[1.0,\"#f0f921\"]]}],\"choropleth\":[{\"type\":\"choropleth\",\"colorbar\":{\"outlinewidth\":0,\"ticks\":\"\"}}],\"histogram2d\":[{\"type\":\"histogram2d\",\"colorbar\":{\"outlinewidth\":0,\"ticks\":\"\"},\"colorscale\":[[0.0,\"#0d0887\"],[0.1111111111111111,\"#46039f\"],[0.2222222222222222,\"#7201a8\"],[0.3333333333333333,\"#9c179e\"],[0.4444444444444444,\"#bd3786\"],[0.5555555555555556,\"#d8576b\"],[0.6666666666666666,\"#ed7953\"],[0.7777777777777778,\"#fb9f3a\"],[0.8888888888888888,\"#fdca26\"],[1.0,\"#f0f921\"]]}],\"heatmap\":[{\"type\":\"heatmap\",\"colorbar\":{\"outlinewidth\":0,\"ticks\":\"\"},\"colorscale\":[[0.0,\"#0d0887\"],[0.1111111111111111,\"#46039f\"],[0.2222222222222222,\"#7201a8\"],[0.3333333333333333,\"#9c179e\"],[0.4444444444444444,\"#bd3786\"],[0.5555555555555556,\"#d8576b\"],[0.6666666666666666,\"#ed7953\"],[0.7777777777777778,\"#fb9f3a\"],[0.8888888888888888,\"#fdca26\"],[1.0,\"#f0f921\"]]}],\"heatmapgl\":[{\"type\":\"heatmapgl\",\"colorbar\":{\"outlinewidth\":0,\"ticks\":\"\"},\"colorscale\":[[0.0,\"#0d0887\"],[0.1111111111111111,\"#46039f\"],[0.2222222222222222,\"#7201a8\"],[0.3333333333333333,\"#9c179e\"],[0.4444444444444444,\"#bd3786\"],[0.5555555555555556,\"#d8576b\"],[0.6666666666666666,\"#ed7953\"],[0.7777777777777778,\"#fb9f3a\"],[0.8888888888888888,\"#fdca26\"],[1.0,\"#f0f921\"]]}],\"contourcarpet\":[{\"type\":\"contourcarpet\",\"colorbar\":{\"outlinewidth\":0,\"ticks\":\"\"}}],\"contour\":[{\"type\":\"contour\",\"colorbar\":{\"outlinewidth\":0,\"ticks\":\"\"},\"colorscale\":[[0.0,\"#0d0887\"],[0.1111111111111111,\"#46039f\"],[0.2222222222222222,\"#7201a8\"],[0.3333333333333333,\"#9c179e\"],[0.4444444444444444,\"#bd3786\"],[0.5555555555555556,\"#d8576b\"],[0.6666666666666666,\"#ed7953\"],[0.7777777777777778,\"#fb9f3a\"],[0.8888888888888888,\"#fdca26\"],[1.0,\"#f0f921\"]]}],\"surface\":[{\"type\":\"surface\",\"colorbar\":{\"outlinewidth\":0,\"ticks\":\"\"},\"colorscale\":[[0.0,\"#0d0887\"],[0.1111111111111111,\"#46039f\"],[0.2222222222222222,\"#7201a8\"],[0.3333333333333333,\"#9c179e\"],[0.4444444444444444,\"#bd3786\"],[0.5555555555555556,\"#d8576b\"],[0.6666666666666666,\"#ed7953\"],[0.7777777777777778,\"#fb9f3a\"],[0.8888888888888888,\"#fdca26\"],[1.0,\"#f0f921\"]]}],\"mesh3d\":[{\"type\":\"mesh3d\",\"colorbar\":{\"outlinewidth\":0,\"ticks\":\"\"}}],\"scatter\":[{\"fillpattern\":{\"fillmode\":\"overlay\",\"size\":10,\"solidity\":0.2},\"type\":\"scatter\"}],\"parcoords\":[{\"type\":\"parcoords\",\"line\":{\"colorbar\":{\"outlinewidth\":0,\"ticks\":\"\"}}}],\"scatterpolargl\":[{\"type\":\"scatterpolargl\",\"marker\":{\"colorbar\":{\"outlinewidth\":0,\"ticks\":\"\"}}}],\"bar\":[{\"error_x\":{\"color\":\"#2a3f5f\"},\"error_y\":{\"color\":\"#2a3f5f\"},\"marker\":{\"line\":{\"color\":\"#E5ECF6\",\"width\":0.5},\"pattern\":{\"fillmode\":\"overlay\",\"size\":10,\"solidity\":0.2}},\"type\":\"bar\"}],\"scattergeo\":[{\"type\":\"scattergeo\",\"marker\":{\"colorbar\":{\"outlinewidth\":0,\"ticks\":\"\"}}}],\"scatterpolar\":[{\"type\":\"scatterpolar\",\"marker\":{\"colorbar\":{\"outlinewidth\":0,\"ticks\":\"\"}}}],\"histogram\":[{\"marker\":{\"pattern\":{\"fillmode\":\"overlay\",\"size\":10,\"solidity\":0.2}},\"type\":\"histogram\"}],\"scattergl\":[{\"type\":\"scattergl\",\"marker\":{\"colorbar\":{\"outlinewidth\":0,\"ticks\":\"\"}}}],\"scatter3d\":[{\"type\":\"scatter3d\",\"line\":{\"colorbar\":{\"outlinewidth\":0,\"ticks\":\"\"}},\"marker\":{\"colorbar\":{\"outlinewidth\":0,\"ticks\":\"\"}}}],\"scattermapbox\":[{\"type\":\"scattermapbox\",\"marker\":{\"colorbar\":{\"outlinewidth\":0,\"ticks\":\"\"}}}],\"scatterternary\":[{\"type\":\"scatterternary\",\"marker\":{\"colorbar\":{\"outlinewidth\":0,\"ticks\":\"\"}}}],\"scattercarpet\":[{\"type\":\"scattercarpet\",\"marker\":{\"colorbar\":{\"outlinewidth\":0,\"ticks\":\"\"}}}],\"carpet\":[{\"aaxis\":{\"endlinecolor\":\"#2a3f5f\",\"gridcolor\":\"white\",\"linecolor\":\"white\",\"minorgridcolor\":\"white\",\"startlinecolor\":\"#2a3f5f\"},\"baxis\":{\"endlinecolor\":\"#2a3f5f\",\"gridcolor\":\"white\",\"linecolor\":\"white\",\"minorgridcolor\":\"white\",\"startlinecolor\":\"#2a3f5f\"},\"type\":\"carpet\"}],\"table\":[{\"cells\":{\"fill\":{\"color\":\"#EBF0F8\"},\"line\":{\"color\":\"white\"}},\"header\":{\"fill\":{\"color\":\"#C8D4E3\"},\"line\":{\"color\":\"white\"}},\"type\":\"table\"}],\"barpolar\":[{\"marker\":{\"line\":{\"color\":\"#E5ECF6\",\"width\":0.5},\"pattern\":{\"fillmode\":\"overlay\",\"size\":10,\"solidity\":0.2}},\"type\":\"barpolar\"}],\"pie\":[{\"automargin\":true,\"type\":\"pie\"}]},\"layout\":{\"autotypenumbers\":\"strict\",\"colorway\":[\"#636efa\",\"#EF553B\",\"#00cc96\",\"#ab63fa\",\"#FFA15A\",\"#19d3f3\",\"#FF6692\",\"#B6E880\",\"#FF97FF\",\"#FECB52\"],\"font\":{\"color\":\"#2a3f5f\"},\"hovermode\":\"closest\",\"hoverlabel\":{\"align\":\"left\"},\"paper_bgcolor\":\"white\",\"plot_bgcolor\":\"#E5ECF6\",\"polar\":{\"bgcolor\":\"#E5ECF6\",\"angularaxis\":{\"gridcolor\":\"white\",\"linecolor\":\"white\",\"ticks\":\"\"},\"radialaxis\":{\"gridcolor\":\"white\",\"linecolor\":\"white\",\"ticks\":\"\"}},\"ternary\":{\"bgcolor\":\"#E5ECF6\",\"aaxis\":{\"gridcolor\":\"white\",\"linecolor\":\"white\",\"ticks\":\"\"},\"baxis\":{\"gridcolor\":\"white\",\"linecolor\":\"white\",\"ticks\":\"\"},\"caxis\":{\"gridcolor\":\"white\",\"linecolor\":\"white\",\"ticks\":\"\"}},\"coloraxis\":{\"colorbar\":{\"outlinewidth\":0,\"ticks\":\"\"}},\"colorscale\":{\"sequential\":[[0.0,\"#0d0887\"],[0.1111111111111111,\"#46039f\"],[0.2222222222222222,\"#7201a8\"],[0.3333333333333333,\"#9c179e\"],[0.4444444444444444,\"#bd3786\"],[0.5555555555555556,\"#d8576b\"],[0.6666666666666666,\"#ed7953\"],[0.7777777777777778,\"#fb9f3a\"],[0.8888888888888888,\"#fdca26\"],[1.0,\"#f0f921\"]],\"sequentialminus\":[[0.0,\"#0d0887\"],[0.1111111111111111,\"#46039f\"],[0.2222222222222222,\"#7201a8\"],[0.3333333333333333,\"#9c179e\"],[0.4444444444444444,\"#bd3786\"],[0.5555555555555556,\"#d8576b\"],[0.6666666666666666,\"#ed7953\"],[0.7777777777777778,\"#fb9f3a\"],[0.8888888888888888,\"#fdca26\"],[1.0,\"#f0f921\"]],\"diverging\":[[0,\"#8e0152\"],[0.1,\"#c51b7d\"],[0.2,\"#de77ae\"],[0.3,\"#f1b6da\"],[0.4,\"#fde0ef\"],[0.5,\"#f7f7f7\"],[0.6,\"#e6f5d0\"],[0.7,\"#b8e186\"],[0.8,\"#7fbc41\"],[0.9,\"#4d9221\"],[1,\"#276419\"]]},\"xaxis\":{\"gridcolor\":\"white\",\"linecolor\":\"white\",\"ticks\":\"\",\"title\":{\"standoff\":15},\"zerolinecolor\":\"white\",\"automargin\":true,\"zerolinewidth\":2},\"yaxis\":{\"gridcolor\":\"white\",\"linecolor\":\"white\",\"ticks\":\"\",\"title\":{\"standoff\":15},\"zerolinecolor\":\"white\",\"automargin\":true,\"zerolinewidth\":2},\"scene\":{\"xaxis\":{\"backgroundcolor\":\"#E5ECF6\",\"gridcolor\":\"white\",\"linecolor\":\"white\",\"showbackground\":true,\"ticks\":\"\",\"zerolinecolor\":\"white\",\"gridwidth\":2},\"yaxis\":{\"backgroundcolor\":\"#E5ECF6\",\"gridcolor\":\"white\",\"linecolor\":\"white\",\"showbackground\":true,\"ticks\":\"\",\"zerolinecolor\":\"white\",\"gridwidth\":2},\"zaxis\":{\"backgroundcolor\":\"#E5ECF6\",\"gridcolor\":\"white\",\"linecolor\":\"white\",\"showbackground\":true,\"ticks\":\"\",\"zerolinecolor\":\"white\",\"gridwidth\":2}},\"shapedefaults\":{\"line\":{\"color\":\"#2a3f5f\"}},\"annotationdefaults\":{\"arrowcolor\":\"#2a3f5f\",\"arrowhead\":0,\"arrowwidth\":1},\"geo\":{\"bgcolor\":\"white\",\"landcolor\":\"#E5ECF6\",\"subunitcolor\":\"white\",\"showland\":true,\"showlakes\":true,\"lakecolor\":\"white\"},\"title\":{\"x\":0.05},\"mapbox\":{\"style\":\"light\"}}},\"xaxis\":{\"anchor\":\"y\",\"domain\":[0.0,1.0],\"title\":{\"text\":\"pathology\"},\"categoryorder\":\"array\",\"categoryarray\":[\"MALIGNANT\",\"BENIGN\",\"BENIGN_WITHOUT_CALLBACK\"]},\"yaxis\":{\"anchor\":\"x\",\"domain\":[0.0,1.0],\"title\":{\"text\":\"counts\"}},\"legend\":{\"title\":{\"text\":\"pathology\"},\"tracegroupgap\":0},\"margin\":{\"t\":60},\"barmode\":\"relative\",\"title\":{\"text\":\"Pathology of Mass Cancer Cases\",\"x\":0.45}},                        {\"responsive\": true}                    ).then(function(){\n",
              "                            \n",
              "var gd = document.getElementById('ab219e46-7c51-4514-90e1-96c3cd3b08bc');\n",
              "var x = new MutationObserver(function (mutations, observer) {{\n",
              "        var display = window.getComputedStyle(gd).display;\n",
              "        if (!display || display === 'none') {{\n",
              "            console.log([gd, 'removed!']);\n",
              "            Plotly.purge(gd);\n",
              "            observer.disconnect();\n",
              "        }}\n",
              "}});\n",
              "\n",
              "// Listen for the removal of the full notebook cells\n",
              "var notebookContainer = gd.closest('#notebook-container');\n",
              "if (notebookContainer) {{\n",
              "    x.observe(notebookContainer, {childList: true});\n",
              "}}\n",
              "\n",
              "// Listen for the clearing of the current output cell\n",
              "var outputEl = gd.closest('.output');\n",
              "if (outputEl) {{\n",
              "    x.observe(outputEl, {childList: true});\n",
              "}}\n",
              "\n",
              "                        })                };                            </script>        </div>\n",
              "</body>\n",
              "</html>"
            ]
          },
          "metadata": {}
        }
      ]
    },
    {
      "cell_type": "code",
      "source": [
        "fig_1b = px.pie(data_frame = mass_case, names= 'pathology', values='counts', color = 'pathology')\n",
        "fig_1b.update_layout(title_text='The Percentages of Mass Cancer Cases', title_x=0.45)\n",
        "fig_1b.show()"
      ],
      "metadata": {
        "colab": {
          "base_uri": "https://localhost:8080/",
          "height": 542
        },
        "id": "xb7uab6C5Pr0",
        "outputId": "1aa86f28-6ea8-4848-9027-c74389ec189d"
      },
      "execution_count": 106,
      "outputs": [
        {
          "output_type": "display_data",
          "data": {
            "text/html": [
              "<html>\n",
              "<head><meta charset=\"utf-8\" /></head>\n",
              "<body>\n",
              "    <div>            <script src=\"https://cdnjs.cloudflare.com/ajax/libs/mathjax/2.7.5/MathJax.js?config=TeX-AMS-MML_SVG\"></script><script type=\"text/javascript\">if (window.MathJax && window.MathJax.Hub && window.MathJax.Hub.Config) {window.MathJax.Hub.Config({SVG: {font: \"STIX-Web\"}});}</script>                <script type=\"text/javascript\">window.PlotlyConfig = {MathJaxConfig: 'local'};</script>\n",
              "        <script charset=\"utf-8\" src=\"https://cdn.plot.ly/plotly-2.24.1.min.js\"></script>                <div id=\"ef0dc85e-1115-4122-9b60-044f680abeb1\" class=\"plotly-graph-div\" style=\"height:525px; width:100%;\"></div>            <script type=\"text/javascript\">                                    window.PLOTLYENV=window.PLOTLYENV || {};                                    if (document.getElementById(\"ef0dc85e-1115-4122-9b60-044f680abeb1\")) {                    Plotly.newPlot(                        \"ef0dc85e-1115-4122-9b60-044f680abeb1\",                        [{\"customdata\":[[\"MALIGNANT\"],[\"BENIGN\"],[\"BENIGN_WITHOUT_CALLBACK\"]],\"domain\":{\"x\":[0.0,1.0],\"y\":[0.0,1.0]},\"hovertemplate\":\"pathology=%{customdata[0]}\\u003cbr\\u003ecounts=%{value}\\u003cextra\\u003e\\u003c\\u002fextra\\u003e\",\"labels\":[\"MALIGNANT\",\"BENIGN\",\"BENIGN_WITHOUT_CALLBACK\"],\"legendgroup\":\"\",\"marker\":{\"colors\":[\"#636efa\",\"#EF553B\",\"#00cc96\"]},\"name\":\"\",\"showlegend\":true,\"values\":[637,577,104],\"type\":\"pie\"}],                        {\"template\":{\"data\":{\"histogram2dcontour\":[{\"type\":\"histogram2dcontour\",\"colorbar\":{\"outlinewidth\":0,\"ticks\":\"\"},\"colorscale\":[[0.0,\"#0d0887\"],[0.1111111111111111,\"#46039f\"],[0.2222222222222222,\"#7201a8\"],[0.3333333333333333,\"#9c179e\"],[0.4444444444444444,\"#bd3786\"],[0.5555555555555556,\"#d8576b\"],[0.6666666666666666,\"#ed7953\"],[0.7777777777777778,\"#fb9f3a\"],[0.8888888888888888,\"#fdca26\"],[1.0,\"#f0f921\"]]}],\"choropleth\":[{\"type\":\"choropleth\",\"colorbar\":{\"outlinewidth\":0,\"ticks\":\"\"}}],\"histogram2d\":[{\"type\":\"histogram2d\",\"colorbar\":{\"outlinewidth\":0,\"ticks\":\"\"},\"colorscale\":[[0.0,\"#0d0887\"],[0.1111111111111111,\"#46039f\"],[0.2222222222222222,\"#7201a8\"],[0.3333333333333333,\"#9c179e\"],[0.4444444444444444,\"#bd3786\"],[0.5555555555555556,\"#d8576b\"],[0.6666666666666666,\"#ed7953\"],[0.7777777777777778,\"#fb9f3a\"],[0.8888888888888888,\"#fdca26\"],[1.0,\"#f0f921\"]]}],\"heatmap\":[{\"type\":\"heatmap\",\"colorbar\":{\"outlinewidth\":0,\"ticks\":\"\"},\"colorscale\":[[0.0,\"#0d0887\"],[0.1111111111111111,\"#46039f\"],[0.2222222222222222,\"#7201a8\"],[0.3333333333333333,\"#9c179e\"],[0.4444444444444444,\"#bd3786\"],[0.5555555555555556,\"#d8576b\"],[0.6666666666666666,\"#ed7953\"],[0.7777777777777778,\"#fb9f3a\"],[0.8888888888888888,\"#fdca26\"],[1.0,\"#f0f921\"]]}],\"heatmapgl\":[{\"type\":\"heatmapgl\",\"colorbar\":{\"outlinewidth\":0,\"ticks\":\"\"},\"colorscale\":[[0.0,\"#0d0887\"],[0.1111111111111111,\"#46039f\"],[0.2222222222222222,\"#7201a8\"],[0.3333333333333333,\"#9c179e\"],[0.4444444444444444,\"#bd3786\"],[0.5555555555555556,\"#d8576b\"],[0.6666666666666666,\"#ed7953\"],[0.7777777777777778,\"#fb9f3a\"],[0.8888888888888888,\"#fdca26\"],[1.0,\"#f0f921\"]]}],\"contourcarpet\":[{\"type\":\"contourcarpet\",\"colorbar\":{\"outlinewidth\":0,\"ticks\":\"\"}}],\"contour\":[{\"type\":\"contour\",\"colorbar\":{\"outlinewidth\":0,\"ticks\":\"\"},\"colorscale\":[[0.0,\"#0d0887\"],[0.1111111111111111,\"#46039f\"],[0.2222222222222222,\"#7201a8\"],[0.3333333333333333,\"#9c179e\"],[0.4444444444444444,\"#bd3786\"],[0.5555555555555556,\"#d8576b\"],[0.6666666666666666,\"#ed7953\"],[0.7777777777777778,\"#fb9f3a\"],[0.8888888888888888,\"#fdca26\"],[1.0,\"#f0f921\"]]}],\"surface\":[{\"type\":\"surface\",\"colorbar\":{\"outlinewidth\":0,\"ticks\":\"\"},\"colorscale\":[[0.0,\"#0d0887\"],[0.1111111111111111,\"#46039f\"],[0.2222222222222222,\"#7201a8\"],[0.3333333333333333,\"#9c179e\"],[0.4444444444444444,\"#bd3786\"],[0.5555555555555556,\"#d8576b\"],[0.6666666666666666,\"#ed7953\"],[0.7777777777777778,\"#fb9f3a\"],[0.8888888888888888,\"#fdca26\"],[1.0,\"#f0f921\"]]}],\"mesh3d\":[{\"type\":\"mesh3d\",\"colorbar\":{\"outlinewidth\":0,\"ticks\":\"\"}}],\"scatter\":[{\"fillpattern\":{\"fillmode\":\"overlay\",\"size\":10,\"solidity\":0.2},\"type\":\"scatter\"}],\"parcoords\":[{\"type\":\"parcoords\",\"line\":{\"colorbar\":{\"outlinewidth\":0,\"ticks\":\"\"}}}],\"scatterpolargl\":[{\"type\":\"scatterpolargl\",\"marker\":{\"colorbar\":{\"outlinewidth\":0,\"ticks\":\"\"}}}],\"bar\":[{\"error_x\":{\"color\":\"#2a3f5f\"},\"error_y\":{\"color\":\"#2a3f5f\"},\"marker\":{\"line\":{\"color\":\"#E5ECF6\",\"width\":0.5},\"pattern\":{\"fillmode\":\"overlay\",\"size\":10,\"solidity\":0.2}},\"type\":\"bar\"}],\"scattergeo\":[{\"type\":\"scattergeo\",\"marker\":{\"colorbar\":{\"outlinewidth\":0,\"ticks\":\"\"}}}],\"scatterpolar\":[{\"type\":\"scatterpolar\",\"marker\":{\"colorbar\":{\"outlinewidth\":0,\"ticks\":\"\"}}}],\"histogram\":[{\"marker\":{\"pattern\":{\"fillmode\":\"overlay\",\"size\":10,\"solidity\":0.2}},\"type\":\"histogram\"}],\"scattergl\":[{\"type\":\"scattergl\",\"marker\":{\"colorbar\":{\"outlinewidth\":0,\"ticks\":\"\"}}}],\"scatter3d\":[{\"type\":\"scatter3d\",\"line\":{\"colorbar\":{\"outlinewidth\":0,\"ticks\":\"\"}},\"marker\":{\"colorbar\":{\"outlinewidth\":0,\"ticks\":\"\"}}}],\"scattermapbox\":[{\"type\":\"scattermapbox\",\"marker\":{\"colorbar\":{\"outlinewidth\":0,\"ticks\":\"\"}}}],\"scatterternary\":[{\"type\":\"scatterternary\",\"marker\":{\"colorbar\":{\"outlinewidth\":0,\"ticks\":\"\"}}}],\"scattercarpet\":[{\"type\":\"scattercarpet\",\"marker\":{\"colorbar\":{\"outlinewidth\":0,\"ticks\":\"\"}}}],\"carpet\":[{\"aaxis\":{\"endlinecolor\":\"#2a3f5f\",\"gridcolor\":\"white\",\"linecolor\":\"white\",\"minorgridcolor\":\"white\",\"startlinecolor\":\"#2a3f5f\"},\"baxis\":{\"endlinecolor\":\"#2a3f5f\",\"gridcolor\":\"white\",\"linecolor\":\"white\",\"minorgridcolor\":\"white\",\"startlinecolor\":\"#2a3f5f\"},\"type\":\"carpet\"}],\"table\":[{\"cells\":{\"fill\":{\"color\":\"#EBF0F8\"},\"line\":{\"color\":\"white\"}},\"header\":{\"fill\":{\"color\":\"#C8D4E3\"},\"line\":{\"color\":\"white\"}},\"type\":\"table\"}],\"barpolar\":[{\"marker\":{\"line\":{\"color\":\"#E5ECF6\",\"width\":0.5},\"pattern\":{\"fillmode\":\"overlay\",\"size\":10,\"solidity\":0.2}},\"type\":\"barpolar\"}],\"pie\":[{\"automargin\":true,\"type\":\"pie\"}]},\"layout\":{\"autotypenumbers\":\"strict\",\"colorway\":[\"#636efa\",\"#EF553B\",\"#00cc96\",\"#ab63fa\",\"#FFA15A\",\"#19d3f3\",\"#FF6692\",\"#B6E880\",\"#FF97FF\",\"#FECB52\"],\"font\":{\"color\":\"#2a3f5f\"},\"hovermode\":\"closest\",\"hoverlabel\":{\"align\":\"left\"},\"paper_bgcolor\":\"white\",\"plot_bgcolor\":\"#E5ECF6\",\"polar\":{\"bgcolor\":\"#E5ECF6\",\"angularaxis\":{\"gridcolor\":\"white\",\"linecolor\":\"white\",\"ticks\":\"\"},\"radialaxis\":{\"gridcolor\":\"white\",\"linecolor\":\"white\",\"ticks\":\"\"}},\"ternary\":{\"bgcolor\":\"#E5ECF6\",\"aaxis\":{\"gridcolor\":\"white\",\"linecolor\":\"white\",\"ticks\":\"\"},\"baxis\":{\"gridcolor\":\"white\",\"linecolor\":\"white\",\"ticks\":\"\"},\"caxis\":{\"gridcolor\":\"white\",\"linecolor\":\"white\",\"ticks\":\"\"}},\"coloraxis\":{\"colorbar\":{\"outlinewidth\":0,\"ticks\":\"\"}},\"colorscale\":{\"sequential\":[[0.0,\"#0d0887\"],[0.1111111111111111,\"#46039f\"],[0.2222222222222222,\"#7201a8\"],[0.3333333333333333,\"#9c179e\"],[0.4444444444444444,\"#bd3786\"],[0.5555555555555556,\"#d8576b\"],[0.6666666666666666,\"#ed7953\"],[0.7777777777777778,\"#fb9f3a\"],[0.8888888888888888,\"#fdca26\"],[1.0,\"#f0f921\"]],\"sequentialminus\":[[0.0,\"#0d0887\"],[0.1111111111111111,\"#46039f\"],[0.2222222222222222,\"#7201a8\"],[0.3333333333333333,\"#9c179e\"],[0.4444444444444444,\"#bd3786\"],[0.5555555555555556,\"#d8576b\"],[0.6666666666666666,\"#ed7953\"],[0.7777777777777778,\"#fb9f3a\"],[0.8888888888888888,\"#fdca26\"],[1.0,\"#f0f921\"]],\"diverging\":[[0,\"#8e0152\"],[0.1,\"#c51b7d\"],[0.2,\"#de77ae\"],[0.3,\"#f1b6da\"],[0.4,\"#fde0ef\"],[0.5,\"#f7f7f7\"],[0.6,\"#e6f5d0\"],[0.7,\"#b8e186\"],[0.8,\"#7fbc41\"],[0.9,\"#4d9221\"],[1,\"#276419\"]]},\"xaxis\":{\"gridcolor\":\"white\",\"linecolor\":\"white\",\"ticks\":\"\",\"title\":{\"standoff\":15},\"zerolinecolor\":\"white\",\"automargin\":true,\"zerolinewidth\":2},\"yaxis\":{\"gridcolor\":\"white\",\"linecolor\":\"white\",\"ticks\":\"\",\"title\":{\"standoff\":15},\"zerolinecolor\":\"white\",\"automargin\":true,\"zerolinewidth\":2},\"scene\":{\"xaxis\":{\"backgroundcolor\":\"#E5ECF6\",\"gridcolor\":\"white\",\"linecolor\":\"white\",\"showbackground\":true,\"ticks\":\"\",\"zerolinecolor\":\"white\",\"gridwidth\":2},\"yaxis\":{\"backgroundcolor\":\"#E5ECF6\",\"gridcolor\":\"white\",\"linecolor\":\"white\",\"showbackground\":true,\"ticks\":\"\",\"zerolinecolor\":\"white\",\"gridwidth\":2},\"zaxis\":{\"backgroundcolor\":\"#E5ECF6\",\"gridcolor\":\"white\",\"linecolor\":\"white\",\"showbackground\":true,\"ticks\":\"\",\"zerolinecolor\":\"white\",\"gridwidth\":2}},\"shapedefaults\":{\"line\":{\"color\":\"#2a3f5f\"}},\"annotationdefaults\":{\"arrowcolor\":\"#2a3f5f\",\"arrowhead\":0,\"arrowwidth\":1},\"geo\":{\"bgcolor\":\"white\",\"landcolor\":\"#E5ECF6\",\"subunitcolor\":\"white\",\"showland\":true,\"showlakes\":true,\"lakecolor\":\"white\"},\"title\":{\"x\":0.05},\"mapbox\":{\"style\":\"light\"}}},\"legend\":{\"tracegroupgap\":0},\"margin\":{\"t\":60},\"title\":{\"text\":\"The Percentages of Mass Cancer Cases\",\"x\":0.45}},                        {\"responsive\": true}                    ).then(function(){\n",
              "                            \n",
              "var gd = document.getElementById('ef0dc85e-1115-4122-9b60-044f680abeb1');\n",
              "var x = new MutationObserver(function (mutations, observer) {{\n",
              "        var display = window.getComputedStyle(gd).display;\n",
              "        if (!display || display === 'none') {{\n",
              "            console.log([gd, 'removed!']);\n",
              "            Plotly.purge(gd);\n",
              "            observer.disconnect();\n",
              "        }}\n",
              "}});\n",
              "\n",
              "// Listen for the removal of the full notebook cells\n",
              "var notebookContainer = gd.closest('#notebook-container');\n",
              "if (notebookContainer) {{\n",
              "    x.observe(notebookContainer, {childList: true});\n",
              "}}\n",
              "\n",
              "// Listen for the clearing of the current output cell\n",
              "var outputEl = gd.closest('.output');\n",
              "if (outputEl) {{\n",
              "    x.observe(outputEl, {childList: true});\n",
              "}}\n",
              "\n",
              "                        })                };                            </script>        </div>\n",
              "</body>\n",
              "</html>"
            ]
          },
          "metadata": {}
        }
      ]
    },
    {
      "cell_type": "code",
      "source": [
        "calc_case = pd.DataFrame(calc_case_train['pathology'].value_counts())\n",
        "calc_case = calc_case.reset_index()\n",
        "calc_case = calc_case.rename(columns={'index':'pathology','pathology':'counts'})"
      ],
      "metadata": {
        "id": "0wv_x0Jz5VC_"
      },
      "execution_count": 107,
      "outputs": []
    },
    {
      "cell_type": "code",
      "source": [
        "fig_2a = px.bar(data_frame = calc_case, x = 'pathology', y = 'counts', color = 'pathology')\n",
        "fig_2a.update_layout(title_text='Pathology of Calcification Cancer Cases', title_x=0.45)\n",
        "fig_2a.show()"
      ],
      "metadata": {
        "colab": {
          "base_uri": "https://localhost:8080/",
          "height": 542
        },
        "id": "0fYfb7VhGUNE",
        "outputId": "5f1512a3-3fb5-4f4f-b986-4253542ec5ed"
      },
      "execution_count": 108,
      "outputs": [
        {
          "output_type": "display_data",
          "data": {
            "text/html": [
              "<html>\n",
              "<head><meta charset=\"utf-8\" /></head>\n",
              "<body>\n",
              "    <div>            <script src=\"https://cdnjs.cloudflare.com/ajax/libs/mathjax/2.7.5/MathJax.js?config=TeX-AMS-MML_SVG\"></script><script type=\"text/javascript\">if (window.MathJax && window.MathJax.Hub && window.MathJax.Hub.Config) {window.MathJax.Hub.Config({SVG: {font: \"STIX-Web\"}});}</script>                <script type=\"text/javascript\">window.PlotlyConfig = {MathJaxConfig: 'local'};</script>\n",
              "        <script charset=\"utf-8\" src=\"https://cdn.plot.ly/plotly-2.24.1.min.js\"></script>                <div id=\"b4f0b6a7-25c2-4750-81e2-02633db802fd\" class=\"plotly-graph-div\" style=\"height:525px; width:100%;\"></div>            <script type=\"text/javascript\">                                    window.PLOTLYENV=window.PLOTLYENV || {};                                    if (document.getElementById(\"b4f0b6a7-25c2-4750-81e2-02633db802fd\")) {                    Plotly.newPlot(                        \"b4f0b6a7-25c2-4750-81e2-02633db802fd\",                        [{\"alignmentgroup\":\"True\",\"hovertemplate\":\"pathology=%{x}\\u003cbr\\u003ecounts=%{y}\\u003cextra\\u003e\\u003c\\u002fextra\\u003e\",\"legendgroup\":\"MALIGNANT\",\"marker\":{\"color\":\"#636efa\",\"pattern\":{\"shape\":\"\"}},\"name\":\"MALIGNANT\",\"offsetgroup\":\"MALIGNANT\",\"orientation\":\"v\",\"showlegend\":true,\"textposition\":\"auto\",\"x\":[\"MALIGNANT\"],\"xaxis\":\"x\",\"y\":[544],\"yaxis\":\"y\",\"type\":\"bar\"},{\"alignmentgroup\":\"True\",\"hovertemplate\":\"pathology=%{x}\\u003cbr\\u003ecounts=%{y}\\u003cextra\\u003e\\u003c\\u002fextra\\u003e\",\"legendgroup\":\"BENIGN\",\"marker\":{\"color\":\"#EF553B\",\"pattern\":{\"shape\":\"\"}},\"name\":\"BENIGN\",\"offsetgroup\":\"BENIGN\",\"orientation\":\"v\",\"showlegend\":true,\"textposition\":\"auto\",\"x\":[\"BENIGN\"],\"xaxis\":\"x\",\"y\":[528],\"yaxis\":\"y\",\"type\":\"bar\"},{\"alignmentgroup\":\"True\",\"hovertemplate\":\"pathology=%{x}\\u003cbr\\u003ecounts=%{y}\\u003cextra\\u003e\\u003c\\u002fextra\\u003e\",\"legendgroup\":\"BENIGN_WITHOUT_CALLBACK\",\"marker\":{\"color\":\"#00cc96\",\"pattern\":{\"shape\":\"\"}},\"name\":\"BENIGN_WITHOUT_CALLBACK\",\"offsetgroup\":\"BENIGN_WITHOUT_CALLBACK\",\"orientation\":\"v\",\"showlegend\":true,\"textposition\":\"auto\",\"x\":[\"BENIGN_WITHOUT_CALLBACK\"],\"xaxis\":\"x\",\"y\":[474],\"yaxis\":\"y\",\"type\":\"bar\"}],                        {\"template\":{\"data\":{\"histogram2dcontour\":[{\"type\":\"histogram2dcontour\",\"colorbar\":{\"outlinewidth\":0,\"ticks\":\"\"},\"colorscale\":[[0.0,\"#0d0887\"],[0.1111111111111111,\"#46039f\"],[0.2222222222222222,\"#7201a8\"],[0.3333333333333333,\"#9c179e\"],[0.4444444444444444,\"#bd3786\"],[0.5555555555555556,\"#d8576b\"],[0.6666666666666666,\"#ed7953\"],[0.7777777777777778,\"#fb9f3a\"],[0.8888888888888888,\"#fdca26\"],[1.0,\"#f0f921\"]]}],\"choropleth\":[{\"type\":\"choropleth\",\"colorbar\":{\"outlinewidth\":0,\"ticks\":\"\"}}],\"histogram2d\":[{\"type\":\"histogram2d\",\"colorbar\":{\"outlinewidth\":0,\"ticks\":\"\"},\"colorscale\":[[0.0,\"#0d0887\"],[0.1111111111111111,\"#46039f\"],[0.2222222222222222,\"#7201a8\"],[0.3333333333333333,\"#9c179e\"],[0.4444444444444444,\"#bd3786\"],[0.5555555555555556,\"#d8576b\"],[0.6666666666666666,\"#ed7953\"],[0.7777777777777778,\"#fb9f3a\"],[0.8888888888888888,\"#fdca26\"],[1.0,\"#f0f921\"]]}],\"heatmap\":[{\"type\":\"heatmap\",\"colorbar\":{\"outlinewidth\":0,\"ticks\":\"\"},\"colorscale\":[[0.0,\"#0d0887\"],[0.1111111111111111,\"#46039f\"],[0.2222222222222222,\"#7201a8\"],[0.3333333333333333,\"#9c179e\"],[0.4444444444444444,\"#bd3786\"],[0.5555555555555556,\"#d8576b\"],[0.6666666666666666,\"#ed7953\"],[0.7777777777777778,\"#fb9f3a\"],[0.8888888888888888,\"#fdca26\"],[1.0,\"#f0f921\"]]}],\"heatmapgl\":[{\"type\":\"heatmapgl\",\"colorbar\":{\"outlinewidth\":0,\"ticks\":\"\"},\"colorscale\":[[0.0,\"#0d0887\"],[0.1111111111111111,\"#46039f\"],[0.2222222222222222,\"#7201a8\"],[0.3333333333333333,\"#9c179e\"],[0.4444444444444444,\"#bd3786\"],[0.5555555555555556,\"#d8576b\"],[0.6666666666666666,\"#ed7953\"],[0.7777777777777778,\"#fb9f3a\"],[0.8888888888888888,\"#fdca26\"],[1.0,\"#f0f921\"]]}],\"contourcarpet\":[{\"type\":\"contourcarpet\",\"colorbar\":{\"outlinewidth\":0,\"ticks\":\"\"}}],\"contour\":[{\"type\":\"contour\",\"colorbar\":{\"outlinewidth\":0,\"ticks\":\"\"},\"colorscale\":[[0.0,\"#0d0887\"],[0.1111111111111111,\"#46039f\"],[0.2222222222222222,\"#7201a8\"],[0.3333333333333333,\"#9c179e\"],[0.4444444444444444,\"#bd3786\"],[0.5555555555555556,\"#d8576b\"],[0.6666666666666666,\"#ed7953\"],[0.7777777777777778,\"#fb9f3a\"],[0.8888888888888888,\"#fdca26\"],[1.0,\"#f0f921\"]]}],\"surface\":[{\"type\":\"surface\",\"colorbar\":{\"outlinewidth\":0,\"ticks\":\"\"},\"colorscale\":[[0.0,\"#0d0887\"],[0.1111111111111111,\"#46039f\"],[0.2222222222222222,\"#7201a8\"],[0.3333333333333333,\"#9c179e\"],[0.4444444444444444,\"#bd3786\"],[0.5555555555555556,\"#d8576b\"],[0.6666666666666666,\"#ed7953\"],[0.7777777777777778,\"#fb9f3a\"],[0.8888888888888888,\"#fdca26\"],[1.0,\"#f0f921\"]]}],\"mesh3d\":[{\"type\":\"mesh3d\",\"colorbar\":{\"outlinewidth\":0,\"ticks\":\"\"}}],\"scatter\":[{\"fillpattern\":{\"fillmode\":\"overlay\",\"size\":10,\"solidity\":0.2},\"type\":\"scatter\"}],\"parcoords\":[{\"type\":\"parcoords\",\"line\":{\"colorbar\":{\"outlinewidth\":0,\"ticks\":\"\"}}}],\"scatterpolargl\":[{\"type\":\"scatterpolargl\",\"marker\":{\"colorbar\":{\"outlinewidth\":0,\"ticks\":\"\"}}}],\"bar\":[{\"error_x\":{\"color\":\"#2a3f5f\"},\"error_y\":{\"color\":\"#2a3f5f\"},\"marker\":{\"line\":{\"color\":\"#E5ECF6\",\"width\":0.5},\"pattern\":{\"fillmode\":\"overlay\",\"size\":10,\"solidity\":0.2}},\"type\":\"bar\"}],\"scattergeo\":[{\"type\":\"scattergeo\",\"marker\":{\"colorbar\":{\"outlinewidth\":0,\"ticks\":\"\"}}}],\"scatterpolar\":[{\"type\":\"scatterpolar\",\"marker\":{\"colorbar\":{\"outlinewidth\":0,\"ticks\":\"\"}}}],\"histogram\":[{\"marker\":{\"pattern\":{\"fillmode\":\"overlay\",\"size\":10,\"solidity\":0.2}},\"type\":\"histogram\"}],\"scattergl\":[{\"type\":\"scattergl\",\"marker\":{\"colorbar\":{\"outlinewidth\":0,\"ticks\":\"\"}}}],\"scatter3d\":[{\"type\":\"scatter3d\",\"line\":{\"colorbar\":{\"outlinewidth\":0,\"ticks\":\"\"}},\"marker\":{\"colorbar\":{\"outlinewidth\":0,\"ticks\":\"\"}}}],\"scattermapbox\":[{\"type\":\"scattermapbox\",\"marker\":{\"colorbar\":{\"outlinewidth\":0,\"ticks\":\"\"}}}],\"scatterternary\":[{\"type\":\"scatterternary\",\"marker\":{\"colorbar\":{\"outlinewidth\":0,\"ticks\":\"\"}}}],\"scattercarpet\":[{\"type\":\"scattercarpet\",\"marker\":{\"colorbar\":{\"outlinewidth\":0,\"ticks\":\"\"}}}],\"carpet\":[{\"aaxis\":{\"endlinecolor\":\"#2a3f5f\",\"gridcolor\":\"white\",\"linecolor\":\"white\",\"minorgridcolor\":\"white\",\"startlinecolor\":\"#2a3f5f\"},\"baxis\":{\"endlinecolor\":\"#2a3f5f\",\"gridcolor\":\"white\",\"linecolor\":\"white\",\"minorgridcolor\":\"white\",\"startlinecolor\":\"#2a3f5f\"},\"type\":\"carpet\"}],\"table\":[{\"cells\":{\"fill\":{\"color\":\"#EBF0F8\"},\"line\":{\"color\":\"white\"}},\"header\":{\"fill\":{\"color\":\"#C8D4E3\"},\"line\":{\"color\":\"white\"}},\"type\":\"table\"}],\"barpolar\":[{\"marker\":{\"line\":{\"color\":\"#E5ECF6\",\"width\":0.5},\"pattern\":{\"fillmode\":\"overlay\",\"size\":10,\"solidity\":0.2}},\"type\":\"barpolar\"}],\"pie\":[{\"automargin\":true,\"type\":\"pie\"}]},\"layout\":{\"autotypenumbers\":\"strict\",\"colorway\":[\"#636efa\",\"#EF553B\",\"#00cc96\",\"#ab63fa\",\"#FFA15A\",\"#19d3f3\",\"#FF6692\",\"#B6E880\",\"#FF97FF\",\"#FECB52\"],\"font\":{\"color\":\"#2a3f5f\"},\"hovermode\":\"closest\",\"hoverlabel\":{\"align\":\"left\"},\"paper_bgcolor\":\"white\",\"plot_bgcolor\":\"#E5ECF6\",\"polar\":{\"bgcolor\":\"#E5ECF6\",\"angularaxis\":{\"gridcolor\":\"white\",\"linecolor\":\"white\",\"ticks\":\"\"},\"radialaxis\":{\"gridcolor\":\"white\",\"linecolor\":\"white\",\"ticks\":\"\"}},\"ternary\":{\"bgcolor\":\"#E5ECF6\",\"aaxis\":{\"gridcolor\":\"white\",\"linecolor\":\"white\",\"ticks\":\"\"},\"baxis\":{\"gridcolor\":\"white\",\"linecolor\":\"white\",\"ticks\":\"\"},\"caxis\":{\"gridcolor\":\"white\",\"linecolor\":\"white\",\"ticks\":\"\"}},\"coloraxis\":{\"colorbar\":{\"outlinewidth\":0,\"ticks\":\"\"}},\"colorscale\":{\"sequential\":[[0.0,\"#0d0887\"],[0.1111111111111111,\"#46039f\"],[0.2222222222222222,\"#7201a8\"],[0.3333333333333333,\"#9c179e\"],[0.4444444444444444,\"#bd3786\"],[0.5555555555555556,\"#d8576b\"],[0.6666666666666666,\"#ed7953\"],[0.7777777777777778,\"#fb9f3a\"],[0.8888888888888888,\"#fdca26\"],[1.0,\"#f0f921\"]],\"sequentialminus\":[[0.0,\"#0d0887\"],[0.1111111111111111,\"#46039f\"],[0.2222222222222222,\"#7201a8\"],[0.3333333333333333,\"#9c179e\"],[0.4444444444444444,\"#bd3786\"],[0.5555555555555556,\"#d8576b\"],[0.6666666666666666,\"#ed7953\"],[0.7777777777777778,\"#fb9f3a\"],[0.8888888888888888,\"#fdca26\"],[1.0,\"#f0f921\"]],\"diverging\":[[0,\"#8e0152\"],[0.1,\"#c51b7d\"],[0.2,\"#de77ae\"],[0.3,\"#f1b6da\"],[0.4,\"#fde0ef\"],[0.5,\"#f7f7f7\"],[0.6,\"#e6f5d0\"],[0.7,\"#b8e186\"],[0.8,\"#7fbc41\"],[0.9,\"#4d9221\"],[1,\"#276419\"]]},\"xaxis\":{\"gridcolor\":\"white\",\"linecolor\":\"white\",\"ticks\":\"\",\"title\":{\"standoff\":15},\"zerolinecolor\":\"white\",\"automargin\":true,\"zerolinewidth\":2},\"yaxis\":{\"gridcolor\":\"white\",\"linecolor\":\"white\",\"ticks\":\"\",\"title\":{\"standoff\":15},\"zerolinecolor\":\"white\",\"automargin\":true,\"zerolinewidth\":2},\"scene\":{\"xaxis\":{\"backgroundcolor\":\"#E5ECF6\",\"gridcolor\":\"white\",\"linecolor\":\"white\",\"showbackground\":true,\"ticks\":\"\",\"zerolinecolor\":\"white\",\"gridwidth\":2},\"yaxis\":{\"backgroundcolor\":\"#E5ECF6\",\"gridcolor\":\"white\",\"linecolor\":\"white\",\"showbackground\":true,\"ticks\":\"\",\"zerolinecolor\":\"white\",\"gridwidth\":2},\"zaxis\":{\"backgroundcolor\":\"#E5ECF6\",\"gridcolor\":\"white\",\"linecolor\":\"white\",\"showbackground\":true,\"ticks\":\"\",\"zerolinecolor\":\"white\",\"gridwidth\":2}},\"shapedefaults\":{\"line\":{\"color\":\"#2a3f5f\"}},\"annotationdefaults\":{\"arrowcolor\":\"#2a3f5f\",\"arrowhead\":0,\"arrowwidth\":1},\"geo\":{\"bgcolor\":\"white\",\"landcolor\":\"#E5ECF6\",\"subunitcolor\":\"white\",\"showland\":true,\"showlakes\":true,\"lakecolor\":\"white\"},\"title\":{\"x\":0.05},\"mapbox\":{\"style\":\"light\"}}},\"xaxis\":{\"anchor\":\"y\",\"domain\":[0.0,1.0],\"title\":{\"text\":\"pathology\"},\"categoryorder\":\"array\",\"categoryarray\":[\"MALIGNANT\",\"BENIGN\",\"BENIGN_WITHOUT_CALLBACK\"]},\"yaxis\":{\"anchor\":\"x\",\"domain\":[0.0,1.0],\"title\":{\"text\":\"counts\"}},\"legend\":{\"title\":{\"text\":\"pathology\"},\"tracegroupgap\":0},\"margin\":{\"t\":60},\"barmode\":\"relative\",\"title\":{\"text\":\"Pathology of Calcification Cancer Cases\",\"x\":0.45}},                        {\"responsive\": true}                    ).then(function(){\n",
              "                            \n",
              "var gd = document.getElementById('b4f0b6a7-25c2-4750-81e2-02633db802fd');\n",
              "var x = new MutationObserver(function (mutations, observer) {{\n",
              "        var display = window.getComputedStyle(gd).display;\n",
              "        if (!display || display === 'none') {{\n",
              "            console.log([gd, 'removed!']);\n",
              "            Plotly.purge(gd);\n",
              "            observer.disconnect();\n",
              "        }}\n",
              "}});\n",
              "\n",
              "// Listen for the removal of the full notebook cells\n",
              "var notebookContainer = gd.closest('#notebook-container');\n",
              "if (notebookContainer) {{\n",
              "    x.observe(notebookContainer, {childList: true});\n",
              "}}\n",
              "\n",
              "// Listen for the clearing of the current output cell\n",
              "var outputEl = gd.closest('.output');\n",
              "if (outputEl) {{\n",
              "    x.observe(outputEl, {childList: true});\n",
              "}}\n",
              "\n",
              "                        })                };                            </script>        </div>\n",
              "</body>\n",
              "</html>"
            ]
          },
          "metadata": {}
        }
      ]
    },
    {
      "cell_type": "code",
      "source": [
        "fig_2b = px.pie(data_frame = calc_case, names= 'pathology', values='counts', color = 'pathology')\n",
        "fig_2b.update_layout(title_text='The Percentages of Calcification Cancer Cases', title_x=0.45)\n",
        "fig_2b.show()"
      ],
      "metadata": {
        "id": "dbHZhaDPKr9I",
        "colab": {
          "base_uri": "https://localhost:8080/",
          "height": 542
        },
        "outputId": "57d78a2f-e9cd-4f80-b882-069ae5608caa"
      },
      "execution_count": 109,
      "outputs": [
        {
          "output_type": "display_data",
          "data": {
            "text/html": [
              "<html>\n",
              "<head><meta charset=\"utf-8\" /></head>\n",
              "<body>\n",
              "    <div>            <script src=\"https://cdnjs.cloudflare.com/ajax/libs/mathjax/2.7.5/MathJax.js?config=TeX-AMS-MML_SVG\"></script><script type=\"text/javascript\">if (window.MathJax && window.MathJax.Hub && window.MathJax.Hub.Config) {window.MathJax.Hub.Config({SVG: {font: \"STIX-Web\"}});}</script>                <script type=\"text/javascript\">window.PlotlyConfig = {MathJaxConfig: 'local'};</script>\n",
              "        <script charset=\"utf-8\" src=\"https://cdn.plot.ly/plotly-2.24.1.min.js\"></script>                <div id=\"41149a02-22a6-465f-98f2-d276e12f881e\" class=\"plotly-graph-div\" style=\"height:525px; width:100%;\"></div>            <script type=\"text/javascript\">                                    window.PLOTLYENV=window.PLOTLYENV || {};                                    if (document.getElementById(\"41149a02-22a6-465f-98f2-d276e12f881e\")) {                    Plotly.newPlot(                        \"41149a02-22a6-465f-98f2-d276e12f881e\",                        [{\"customdata\":[[\"MALIGNANT\"],[\"BENIGN\"],[\"BENIGN_WITHOUT_CALLBACK\"]],\"domain\":{\"x\":[0.0,1.0],\"y\":[0.0,1.0]},\"hovertemplate\":\"pathology=%{customdata[0]}\\u003cbr\\u003ecounts=%{value}\\u003cextra\\u003e\\u003c\\u002fextra\\u003e\",\"labels\":[\"MALIGNANT\",\"BENIGN\",\"BENIGN_WITHOUT_CALLBACK\"],\"legendgroup\":\"\",\"marker\":{\"colors\":[\"#636efa\",\"#EF553B\",\"#00cc96\"]},\"name\":\"\",\"showlegend\":true,\"values\":[544,528,474],\"type\":\"pie\"}],                        {\"template\":{\"data\":{\"histogram2dcontour\":[{\"type\":\"histogram2dcontour\",\"colorbar\":{\"outlinewidth\":0,\"ticks\":\"\"},\"colorscale\":[[0.0,\"#0d0887\"],[0.1111111111111111,\"#46039f\"],[0.2222222222222222,\"#7201a8\"],[0.3333333333333333,\"#9c179e\"],[0.4444444444444444,\"#bd3786\"],[0.5555555555555556,\"#d8576b\"],[0.6666666666666666,\"#ed7953\"],[0.7777777777777778,\"#fb9f3a\"],[0.8888888888888888,\"#fdca26\"],[1.0,\"#f0f921\"]]}],\"choropleth\":[{\"type\":\"choropleth\",\"colorbar\":{\"outlinewidth\":0,\"ticks\":\"\"}}],\"histogram2d\":[{\"type\":\"histogram2d\",\"colorbar\":{\"outlinewidth\":0,\"ticks\":\"\"},\"colorscale\":[[0.0,\"#0d0887\"],[0.1111111111111111,\"#46039f\"],[0.2222222222222222,\"#7201a8\"],[0.3333333333333333,\"#9c179e\"],[0.4444444444444444,\"#bd3786\"],[0.5555555555555556,\"#d8576b\"],[0.6666666666666666,\"#ed7953\"],[0.7777777777777778,\"#fb9f3a\"],[0.8888888888888888,\"#fdca26\"],[1.0,\"#f0f921\"]]}],\"heatmap\":[{\"type\":\"heatmap\",\"colorbar\":{\"outlinewidth\":0,\"ticks\":\"\"},\"colorscale\":[[0.0,\"#0d0887\"],[0.1111111111111111,\"#46039f\"],[0.2222222222222222,\"#7201a8\"],[0.3333333333333333,\"#9c179e\"],[0.4444444444444444,\"#bd3786\"],[0.5555555555555556,\"#d8576b\"],[0.6666666666666666,\"#ed7953\"],[0.7777777777777778,\"#fb9f3a\"],[0.8888888888888888,\"#fdca26\"],[1.0,\"#f0f921\"]]}],\"heatmapgl\":[{\"type\":\"heatmapgl\",\"colorbar\":{\"outlinewidth\":0,\"ticks\":\"\"},\"colorscale\":[[0.0,\"#0d0887\"],[0.1111111111111111,\"#46039f\"],[0.2222222222222222,\"#7201a8\"],[0.3333333333333333,\"#9c179e\"],[0.4444444444444444,\"#bd3786\"],[0.5555555555555556,\"#d8576b\"],[0.6666666666666666,\"#ed7953\"],[0.7777777777777778,\"#fb9f3a\"],[0.8888888888888888,\"#fdca26\"],[1.0,\"#f0f921\"]]}],\"contourcarpet\":[{\"type\":\"contourcarpet\",\"colorbar\":{\"outlinewidth\":0,\"ticks\":\"\"}}],\"contour\":[{\"type\":\"contour\",\"colorbar\":{\"outlinewidth\":0,\"ticks\":\"\"},\"colorscale\":[[0.0,\"#0d0887\"],[0.1111111111111111,\"#46039f\"],[0.2222222222222222,\"#7201a8\"],[0.3333333333333333,\"#9c179e\"],[0.4444444444444444,\"#bd3786\"],[0.5555555555555556,\"#d8576b\"],[0.6666666666666666,\"#ed7953\"],[0.7777777777777778,\"#fb9f3a\"],[0.8888888888888888,\"#fdca26\"],[1.0,\"#f0f921\"]]}],\"surface\":[{\"type\":\"surface\",\"colorbar\":{\"outlinewidth\":0,\"ticks\":\"\"},\"colorscale\":[[0.0,\"#0d0887\"],[0.1111111111111111,\"#46039f\"],[0.2222222222222222,\"#7201a8\"],[0.3333333333333333,\"#9c179e\"],[0.4444444444444444,\"#bd3786\"],[0.5555555555555556,\"#d8576b\"],[0.6666666666666666,\"#ed7953\"],[0.7777777777777778,\"#fb9f3a\"],[0.8888888888888888,\"#fdca26\"],[1.0,\"#f0f921\"]]}],\"mesh3d\":[{\"type\":\"mesh3d\",\"colorbar\":{\"outlinewidth\":0,\"ticks\":\"\"}}],\"scatter\":[{\"fillpattern\":{\"fillmode\":\"overlay\",\"size\":10,\"solidity\":0.2},\"type\":\"scatter\"}],\"parcoords\":[{\"type\":\"parcoords\",\"line\":{\"colorbar\":{\"outlinewidth\":0,\"ticks\":\"\"}}}],\"scatterpolargl\":[{\"type\":\"scatterpolargl\",\"marker\":{\"colorbar\":{\"outlinewidth\":0,\"ticks\":\"\"}}}],\"bar\":[{\"error_x\":{\"color\":\"#2a3f5f\"},\"error_y\":{\"color\":\"#2a3f5f\"},\"marker\":{\"line\":{\"color\":\"#E5ECF6\",\"width\":0.5},\"pattern\":{\"fillmode\":\"overlay\",\"size\":10,\"solidity\":0.2}},\"type\":\"bar\"}],\"scattergeo\":[{\"type\":\"scattergeo\",\"marker\":{\"colorbar\":{\"outlinewidth\":0,\"ticks\":\"\"}}}],\"scatterpolar\":[{\"type\":\"scatterpolar\",\"marker\":{\"colorbar\":{\"outlinewidth\":0,\"ticks\":\"\"}}}],\"histogram\":[{\"marker\":{\"pattern\":{\"fillmode\":\"overlay\",\"size\":10,\"solidity\":0.2}},\"type\":\"histogram\"}],\"scattergl\":[{\"type\":\"scattergl\",\"marker\":{\"colorbar\":{\"outlinewidth\":0,\"ticks\":\"\"}}}],\"scatter3d\":[{\"type\":\"scatter3d\",\"line\":{\"colorbar\":{\"outlinewidth\":0,\"ticks\":\"\"}},\"marker\":{\"colorbar\":{\"outlinewidth\":0,\"ticks\":\"\"}}}],\"scattermapbox\":[{\"type\":\"scattermapbox\",\"marker\":{\"colorbar\":{\"outlinewidth\":0,\"ticks\":\"\"}}}],\"scatterternary\":[{\"type\":\"scatterternary\",\"marker\":{\"colorbar\":{\"outlinewidth\":0,\"ticks\":\"\"}}}],\"scattercarpet\":[{\"type\":\"scattercarpet\",\"marker\":{\"colorbar\":{\"outlinewidth\":0,\"ticks\":\"\"}}}],\"carpet\":[{\"aaxis\":{\"endlinecolor\":\"#2a3f5f\",\"gridcolor\":\"white\",\"linecolor\":\"white\",\"minorgridcolor\":\"white\",\"startlinecolor\":\"#2a3f5f\"},\"baxis\":{\"endlinecolor\":\"#2a3f5f\",\"gridcolor\":\"white\",\"linecolor\":\"white\",\"minorgridcolor\":\"white\",\"startlinecolor\":\"#2a3f5f\"},\"type\":\"carpet\"}],\"table\":[{\"cells\":{\"fill\":{\"color\":\"#EBF0F8\"},\"line\":{\"color\":\"white\"}},\"header\":{\"fill\":{\"color\":\"#C8D4E3\"},\"line\":{\"color\":\"white\"}},\"type\":\"table\"}],\"barpolar\":[{\"marker\":{\"line\":{\"color\":\"#E5ECF6\",\"width\":0.5},\"pattern\":{\"fillmode\":\"overlay\",\"size\":10,\"solidity\":0.2}},\"type\":\"barpolar\"}],\"pie\":[{\"automargin\":true,\"type\":\"pie\"}]},\"layout\":{\"autotypenumbers\":\"strict\",\"colorway\":[\"#636efa\",\"#EF553B\",\"#00cc96\",\"#ab63fa\",\"#FFA15A\",\"#19d3f3\",\"#FF6692\",\"#B6E880\",\"#FF97FF\",\"#FECB52\"],\"font\":{\"color\":\"#2a3f5f\"},\"hovermode\":\"closest\",\"hoverlabel\":{\"align\":\"left\"},\"paper_bgcolor\":\"white\",\"plot_bgcolor\":\"#E5ECF6\",\"polar\":{\"bgcolor\":\"#E5ECF6\",\"angularaxis\":{\"gridcolor\":\"white\",\"linecolor\":\"white\",\"ticks\":\"\"},\"radialaxis\":{\"gridcolor\":\"white\",\"linecolor\":\"white\",\"ticks\":\"\"}},\"ternary\":{\"bgcolor\":\"#E5ECF6\",\"aaxis\":{\"gridcolor\":\"white\",\"linecolor\":\"white\",\"ticks\":\"\"},\"baxis\":{\"gridcolor\":\"white\",\"linecolor\":\"white\",\"ticks\":\"\"},\"caxis\":{\"gridcolor\":\"white\",\"linecolor\":\"white\",\"ticks\":\"\"}},\"coloraxis\":{\"colorbar\":{\"outlinewidth\":0,\"ticks\":\"\"}},\"colorscale\":{\"sequential\":[[0.0,\"#0d0887\"],[0.1111111111111111,\"#46039f\"],[0.2222222222222222,\"#7201a8\"],[0.3333333333333333,\"#9c179e\"],[0.4444444444444444,\"#bd3786\"],[0.5555555555555556,\"#d8576b\"],[0.6666666666666666,\"#ed7953\"],[0.7777777777777778,\"#fb9f3a\"],[0.8888888888888888,\"#fdca26\"],[1.0,\"#f0f921\"]],\"sequentialminus\":[[0.0,\"#0d0887\"],[0.1111111111111111,\"#46039f\"],[0.2222222222222222,\"#7201a8\"],[0.3333333333333333,\"#9c179e\"],[0.4444444444444444,\"#bd3786\"],[0.5555555555555556,\"#d8576b\"],[0.6666666666666666,\"#ed7953\"],[0.7777777777777778,\"#fb9f3a\"],[0.8888888888888888,\"#fdca26\"],[1.0,\"#f0f921\"]],\"diverging\":[[0,\"#8e0152\"],[0.1,\"#c51b7d\"],[0.2,\"#de77ae\"],[0.3,\"#f1b6da\"],[0.4,\"#fde0ef\"],[0.5,\"#f7f7f7\"],[0.6,\"#e6f5d0\"],[0.7,\"#b8e186\"],[0.8,\"#7fbc41\"],[0.9,\"#4d9221\"],[1,\"#276419\"]]},\"xaxis\":{\"gridcolor\":\"white\",\"linecolor\":\"white\",\"ticks\":\"\",\"title\":{\"standoff\":15},\"zerolinecolor\":\"white\",\"automargin\":true,\"zerolinewidth\":2},\"yaxis\":{\"gridcolor\":\"white\",\"linecolor\":\"white\",\"ticks\":\"\",\"title\":{\"standoff\":15},\"zerolinecolor\":\"white\",\"automargin\":true,\"zerolinewidth\":2},\"scene\":{\"xaxis\":{\"backgroundcolor\":\"#E5ECF6\",\"gridcolor\":\"white\",\"linecolor\":\"white\",\"showbackground\":true,\"ticks\":\"\",\"zerolinecolor\":\"white\",\"gridwidth\":2},\"yaxis\":{\"backgroundcolor\":\"#E5ECF6\",\"gridcolor\":\"white\",\"linecolor\":\"white\",\"showbackground\":true,\"ticks\":\"\",\"zerolinecolor\":\"white\",\"gridwidth\":2},\"zaxis\":{\"backgroundcolor\":\"#E5ECF6\",\"gridcolor\":\"white\",\"linecolor\":\"white\",\"showbackground\":true,\"ticks\":\"\",\"zerolinecolor\":\"white\",\"gridwidth\":2}},\"shapedefaults\":{\"line\":{\"color\":\"#2a3f5f\"}},\"annotationdefaults\":{\"arrowcolor\":\"#2a3f5f\",\"arrowhead\":0,\"arrowwidth\":1},\"geo\":{\"bgcolor\":\"white\",\"landcolor\":\"#E5ECF6\",\"subunitcolor\":\"white\",\"showland\":true,\"showlakes\":true,\"lakecolor\":\"white\"},\"title\":{\"x\":0.05},\"mapbox\":{\"style\":\"light\"}}},\"legend\":{\"tracegroupgap\":0},\"margin\":{\"t\":60},\"title\":{\"text\":\"The Percentages of Calcification Cancer Cases\",\"x\":0.45}},                        {\"responsive\": true}                    ).then(function(){\n",
              "                            \n",
              "var gd = document.getElementById('41149a02-22a6-465f-98f2-d276e12f881e');\n",
              "var x = new MutationObserver(function (mutations, observer) {{\n",
              "        var display = window.getComputedStyle(gd).display;\n",
              "        if (!display || display === 'none') {{\n",
              "            console.log([gd, 'removed!']);\n",
              "            Plotly.purge(gd);\n",
              "            observer.disconnect();\n",
              "        }}\n",
              "}});\n",
              "\n",
              "// Listen for the removal of the full notebook cells\n",
              "var notebookContainer = gd.closest('#notebook-container');\n",
              "if (notebookContainer) {{\n",
              "    x.observe(notebookContainer, {childList: true});\n",
              "}}\n",
              "\n",
              "// Listen for the clearing of the current output cell\n",
              "var outputEl = gd.closest('.output');\n",
              "if (outputEl) {{\n",
              "    x.observe(outputEl, {childList: true});\n",
              "}}\n",
              "\n",
              "                        })                };                            </script>        </div>\n",
              "</body>\n",
              "</html>"
            ]
          },
          "metadata": {}
        }
      ]
    },
    {
      "cell_type": "markdown",
      "source": [
        "#Preprocessing of Images"
      ],
      "metadata": {
        "id": "W9-FI2Sd8ReS"
      }
    },
    {
      "cell_type": "code",
      "source": [
        "full_mammogram_dict = dict()\n",
        "cropped_dict = dict()\n",
        "roi_mask_dict = dict()\n",
        "\n",
        "for dicom in full_mammogram_images:\n",
        "    key = dicom.split(\"/\")[6]\n",
        "    full_mammogram_dict[key] = dicom\n",
        "for dicom in cropped_images:\n",
        "    key = dicom.split(\"/\")[6]\n",
        "    cropped_dict[key] = dicom\n",
        "for dicom in roi_mask_images:\n",
        "    key = dicom.split(\"/\")[6]\n",
        "    roi_mask_dict[key] = dicom\n",
        "next(iter((full_mammogram_dict.items())) )"
      ],
      "metadata": {
        "colab": {
          "base_uri": "https://localhost:8080/"
        },
        "id": "vbvOckHb-JCJ",
        "outputId": "1292d18a-9430-46ff-e2a5-da5af5abf4f4"
      },
      "execution_count": 110,
      "outputs": [
        {
          "output_type": "execute_result",
          "data": {
            "text/plain": [
              "('1.3.6.1.4.1.9590.100.1.2.248386742010678582309005372213277814849',\n",
              " '/content/drive/MyDrive/CIND860/jpeg/1.3.6.1.4.1.9590.100.1.2.248386742010678582309005372213277814849/1-249.jpg')"
            ]
          },
          "metadata": {},
          "execution_count": 110
        }
      ]
    },
    {
      "cell_type": "code",
      "source": [
        "def fix_image_path(dataset):\n",
        "    for i, img in enumerate(dataset.values):\n",
        "        img_name = img[11].split(\"/\")[2]\n",
        "        dataset.iloc[i,11] = full_mammogram_dict[img_name]\n",
        "        img_name = img[12].split(\"/\")[2]\n",
        "        dataset.iloc[i,12] = cropped_dict[img_name]\n",
        "        img_name = img[13].split(\"/\")[2]\n",
        "        dataset.iloc[i,13] = roi_mask_dict[img_name]"
      ],
      "metadata": {
        "id": "ondzkoTa9xYS"
      },
      "execution_count": 111,
      "outputs": []
    },
    {
      "cell_type": "code",
      "source": [
        "mass_case_train.head(5)"
      ],
      "metadata": {
        "colab": {
          "base_uri": "https://localhost:8080/",
          "height": 330
        },
        "id": "cDK3srzCBHzC",
        "outputId": "dc73b7cc-b501-4343-953c-857cc1ea8e08"
      },
      "execution_count": 112,
      "outputs": [
        {
          "output_type": "execute_result",
          "data": {
            "text/plain": [
              "  patient_id  breast_density left_or_right_breast image_view  abnormality id  \\\n",
              "0    P_00001               3                 LEFT         CC               1   \n",
              "1    P_00001               3                 LEFT        MLO               1   \n",
              "2    P_00004               3                 LEFT         CC               1   \n",
              "3    P_00004               3                 LEFT        MLO               1   \n",
              "4    P_00004               3                RIGHT        MLO               1   \n",
              "\n",
              "  abnormality_type                          mass_shape   mass_margins  \\\n",
              "0             mass  IRREGULAR-ARCHITECTURAL_DISTORTION     SPICULATED   \n",
              "1             mass  IRREGULAR-ARCHITECTURAL_DISTORTION     SPICULATED   \n",
              "2             mass            ARCHITECTURAL_DISTORTION    ILL_DEFINED   \n",
              "3             mass            ARCHITECTURAL_DISTORTION    ILL_DEFINED   \n",
              "4             mass                                OVAL  CIRCUMSCRIBED   \n",
              "\n",
              "   assessment  pathology  subtlety  \\\n",
              "0           4  MALIGNANT         4   \n",
              "1           4  MALIGNANT         4   \n",
              "2           4     BENIGN         3   \n",
              "3           4     BENIGN         3   \n",
              "4           4     BENIGN         5   \n",
              "\n",
              "                                     image file path  \\\n",
              "0  Mass-Training_P_00001_LEFT_CC/1.3.6.1.4.1.9590...   \n",
              "1  Mass-Training_P_00001_LEFT_MLO/1.3.6.1.4.1.959...   \n",
              "2  Mass-Training_P_00004_LEFT_CC/1.3.6.1.4.1.9590...   \n",
              "3  Mass-Training_P_00004_LEFT_MLO/1.3.6.1.4.1.959...   \n",
              "4  Mass-Training_P_00004_RIGHT_MLO/1.3.6.1.4.1.95...   \n",
              "\n",
              "                             cropped image file path  \\\n",
              "0  Mass-Training_P_00001_LEFT_CC_1/1.3.6.1.4.1.95...   \n",
              "1  Mass-Training_P_00001_LEFT_MLO_1/1.3.6.1.4.1.9...   \n",
              "2  Mass-Training_P_00004_LEFT_CC_1/1.3.6.1.4.1.95...   \n",
              "3  Mass-Training_P_00004_LEFT_MLO_1/1.3.6.1.4.1.9...   \n",
              "4  Mass-Training_P_00004_RIGHT_MLO_1/1.3.6.1.4.1....   \n",
              "\n",
              "                                  ROI mask file path  \n",
              "0  Mass-Training_P_00001_LEFT_CC_1/1.3.6.1.4.1.95...  \n",
              "1  Mass-Training_P_00001_LEFT_MLO_1/1.3.6.1.4.1.9...  \n",
              "2  Mass-Training_P_00004_LEFT_CC_1/1.3.6.1.4.1.95...  \n",
              "3  Mass-Training_P_00004_LEFT_MLO_1/1.3.6.1.4.1.9...  \n",
              "4  Mass-Training_P_00004_RIGHT_MLO_1/1.3.6.1.4.1....  "
            ],
            "text/html": [
              "\n",
              "  <div id=\"df-bd9ab634-f099-4189-ae90-60df66083a15\" class=\"colab-df-container\">\n",
              "    <div>\n",
              "<style scoped>\n",
              "    .dataframe tbody tr th:only-of-type {\n",
              "        vertical-align: middle;\n",
              "    }\n",
              "\n",
              "    .dataframe tbody tr th {\n",
              "        vertical-align: top;\n",
              "    }\n",
              "\n",
              "    .dataframe thead th {\n",
              "        text-align: right;\n",
              "    }\n",
              "</style>\n",
              "<table border=\"1\" class=\"dataframe\">\n",
              "  <thead>\n",
              "    <tr style=\"text-align: right;\">\n",
              "      <th></th>\n",
              "      <th>patient_id</th>\n",
              "      <th>breast_density</th>\n",
              "      <th>left_or_right_breast</th>\n",
              "      <th>image_view</th>\n",
              "      <th>abnormality id</th>\n",
              "      <th>abnormality_type</th>\n",
              "      <th>mass_shape</th>\n",
              "      <th>mass_margins</th>\n",
              "      <th>assessment</th>\n",
              "      <th>pathology</th>\n",
              "      <th>subtlety</th>\n",
              "      <th>image file path</th>\n",
              "      <th>cropped image file path</th>\n",
              "      <th>ROI mask file path</th>\n",
              "    </tr>\n",
              "  </thead>\n",
              "  <tbody>\n",
              "    <tr>\n",
              "      <th>0</th>\n",
              "      <td>P_00001</td>\n",
              "      <td>3</td>\n",
              "      <td>LEFT</td>\n",
              "      <td>CC</td>\n",
              "      <td>1</td>\n",
              "      <td>mass</td>\n",
              "      <td>IRREGULAR-ARCHITECTURAL_DISTORTION</td>\n",
              "      <td>SPICULATED</td>\n",
              "      <td>4</td>\n",
              "      <td>MALIGNANT</td>\n",
              "      <td>4</td>\n",
              "      <td>Mass-Training_P_00001_LEFT_CC/1.3.6.1.4.1.9590...</td>\n",
              "      <td>Mass-Training_P_00001_LEFT_CC_1/1.3.6.1.4.1.95...</td>\n",
              "      <td>Mass-Training_P_00001_LEFT_CC_1/1.3.6.1.4.1.95...</td>\n",
              "    </tr>\n",
              "    <tr>\n",
              "      <th>1</th>\n",
              "      <td>P_00001</td>\n",
              "      <td>3</td>\n",
              "      <td>LEFT</td>\n",
              "      <td>MLO</td>\n",
              "      <td>1</td>\n",
              "      <td>mass</td>\n",
              "      <td>IRREGULAR-ARCHITECTURAL_DISTORTION</td>\n",
              "      <td>SPICULATED</td>\n",
              "      <td>4</td>\n",
              "      <td>MALIGNANT</td>\n",
              "      <td>4</td>\n",
              "      <td>Mass-Training_P_00001_LEFT_MLO/1.3.6.1.4.1.959...</td>\n",
              "      <td>Mass-Training_P_00001_LEFT_MLO_1/1.3.6.1.4.1.9...</td>\n",
              "      <td>Mass-Training_P_00001_LEFT_MLO_1/1.3.6.1.4.1.9...</td>\n",
              "    </tr>\n",
              "    <tr>\n",
              "      <th>2</th>\n",
              "      <td>P_00004</td>\n",
              "      <td>3</td>\n",
              "      <td>LEFT</td>\n",
              "      <td>CC</td>\n",
              "      <td>1</td>\n",
              "      <td>mass</td>\n",
              "      <td>ARCHITECTURAL_DISTORTION</td>\n",
              "      <td>ILL_DEFINED</td>\n",
              "      <td>4</td>\n",
              "      <td>BENIGN</td>\n",
              "      <td>3</td>\n",
              "      <td>Mass-Training_P_00004_LEFT_CC/1.3.6.1.4.1.9590...</td>\n",
              "      <td>Mass-Training_P_00004_LEFT_CC_1/1.3.6.1.4.1.95...</td>\n",
              "      <td>Mass-Training_P_00004_LEFT_CC_1/1.3.6.1.4.1.95...</td>\n",
              "    </tr>\n",
              "    <tr>\n",
              "      <th>3</th>\n",
              "      <td>P_00004</td>\n",
              "      <td>3</td>\n",
              "      <td>LEFT</td>\n",
              "      <td>MLO</td>\n",
              "      <td>1</td>\n",
              "      <td>mass</td>\n",
              "      <td>ARCHITECTURAL_DISTORTION</td>\n",
              "      <td>ILL_DEFINED</td>\n",
              "      <td>4</td>\n",
              "      <td>BENIGN</td>\n",
              "      <td>3</td>\n",
              "      <td>Mass-Training_P_00004_LEFT_MLO/1.3.6.1.4.1.959...</td>\n",
              "      <td>Mass-Training_P_00004_LEFT_MLO_1/1.3.6.1.4.1.9...</td>\n",
              "      <td>Mass-Training_P_00004_LEFT_MLO_1/1.3.6.1.4.1.9...</td>\n",
              "    </tr>\n",
              "    <tr>\n",
              "      <th>4</th>\n",
              "      <td>P_00004</td>\n",
              "      <td>3</td>\n",
              "      <td>RIGHT</td>\n",
              "      <td>MLO</td>\n",
              "      <td>1</td>\n",
              "      <td>mass</td>\n",
              "      <td>OVAL</td>\n",
              "      <td>CIRCUMSCRIBED</td>\n",
              "      <td>4</td>\n",
              "      <td>BENIGN</td>\n",
              "      <td>5</td>\n",
              "      <td>Mass-Training_P_00004_RIGHT_MLO/1.3.6.1.4.1.95...</td>\n",
              "      <td>Mass-Training_P_00004_RIGHT_MLO_1/1.3.6.1.4.1....</td>\n",
              "      <td>Mass-Training_P_00004_RIGHT_MLO_1/1.3.6.1.4.1....</td>\n",
              "    </tr>\n",
              "  </tbody>\n",
              "</table>\n",
              "</div>\n",
              "    <div class=\"colab-df-buttons\">\n",
              "\n",
              "  <div class=\"colab-df-container\">\n",
              "    <button class=\"colab-df-convert\" onclick=\"convertToInteractive('df-bd9ab634-f099-4189-ae90-60df66083a15')\"\n",
              "            title=\"Convert this dataframe to an interactive table.\"\n",
              "            style=\"display:none;\">\n",
              "\n",
              "  <svg xmlns=\"http://www.w3.org/2000/svg\" height=\"24px\" viewBox=\"0 -960 960 960\">\n",
              "    <path d=\"M120-120v-720h720v720H120Zm60-500h600v-160H180v160Zm220 220h160v-160H400v160Zm0 220h160v-160H400v160ZM180-400h160v-160H180v160Zm440 0h160v-160H620v160ZM180-180h160v-160H180v160Zm440 0h160v-160H620v160Z\"/>\n",
              "  </svg>\n",
              "    </button>\n",
              "\n",
              "  <style>\n",
              "    .colab-df-container {\n",
              "      display:flex;\n",
              "      gap: 12px;\n",
              "    }\n",
              "\n",
              "    .colab-df-convert {\n",
              "      background-color: #E8F0FE;\n",
              "      border: none;\n",
              "      border-radius: 50%;\n",
              "      cursor: pointer;\n",
              "      display: none;\n",
              "      fill: #1967D2;\n",
              "      height: 32px;\n",
              "      padding: 0 0 0 0;\n",
              "      width: 32px;\n",
              "    }\n",
              "\n",
              "    .colab-df-convert:hover {\n",
              "      background-color: #E2EBFA;\n",
              "      box-shadow: 0px 1px 2px rgba(60, 64, 67, 0.3), 0px 1px 3px 1px rgba(60, 64, 67, 0.15);\n",
              "      fill: #174EA6;\n",
              "    }\n",
              "\n",
              "    .colab-df-buttons div {\n",
              "      margin-bottom: 4px;\n",
              "    }\n",
              "\n",
              "    [theme=dark] .colab-df-convert {\n",
              "      background-color: #3B4455;\n",
              "      fill: #D2E3FC;\n",
              "    }\n",
              "\n",
              "    [theme=dark] .colab-df-convert:hover {\n",
              "      background-color: #434B5C;\n",
              "      box-shadow: 0px 1px 3px 1px rgba(0, 0, 0, 0.15);\n",
              "      filter: drop-shadow(0px 1px 2px rgba(0, 0, 0, 0.3));\n",
              "      fill: #FFFFFF;\n",
              "    }\n",
              "  </style>\n",
              "\n",
              "    <script>\n",
              "      const buttonEl =\n",
              "        document.querySelector('#df-bd9ab634-f099-4189-ae90-60df66083a15 button.colab-df-convert');\n",
              "      buttonEl.style.display =\n",
              "        google.colab.kernel.accessAllowed ? 'block' : 'none';\n",
              "\n",
              "      async function convertToInteractive(key) {\n",
              "        const element = document.querySelector('#df-bd9ab634-f099-4189-ae90-60df66083a15');\n",
              "        const dataTable =\n",
              "          await google.colab.kernel.invokeFunction('convertToInteractive',\n",
              "                                                    [key], {});\n",
              "        if (!dataTable) return;\n",
              "\n",
              "        const docLinkHtml = 'Like what you see? Visit the ' +\n",
              "          '<a target=\"_blank\" href=https://colab.research.google.com/notebooks/data_table.ipynb>data table notebook</a>'\n",
              "          + ' to learn more about interactive tables.';\n",
              "        element.innerHTML = '';\n",
              "        dataTable['output_type'] = 'display_data';\n",
              "        await google.colab.output.renderOutput(dataTable, element);\n",
              "        const docLink = document.createElement('div');\n",
              "        docLink.innerHTML = docLinkHtml;\n",
              "        element.appendChild(docLink);\n",
              "      }\n",
              "    </script>\n",
              "  </div>\n",
              "\n",
              "\n",
              "<div id=\"df-38f4fe52-4f09-44e1-a4e4-d27a35169fbf\">\n",
              "  <button class=\"colab-df-quickchart\" onclick=\"quickchart('df-38f4fe52-4f09-44e1-a4e4-d27a35169fbf')\"\n",
              "            title=\"Suggest charts\"\n",
              "            style=\"display:none;\">\n",
              "\n",
              "<svg xmlns=\"http://www.w3.org/2000/svg\" height=\"24px\"viewBox=\"0 0 24 24\"\n",
              "     width=\"24px\">\n",
              "    <g>\n",
              "        <path d=\"M19 3H5c-1.1 0-2 .9-2 2v14c0 1.1.9 2 2 2h14c1.1 0 2-.9 2-2V5c0-1.1-.9-2-2-2zM9 17H7v-7h2v7zm4 0h-2V7h2v10zm4 0h-2v-4h2v4z\"/>\n",
              "    </g>\n",
              "</svg>\n",
              "  </button>\n",
              "\n",
              "<style>\n",
              "  .colab-df-quickchart {\n",
              "      --bg-color: #E8F0FE;\n",
              "      --fill-color: #1967D2;\n",
              "      --hover-bg-color: #E2EBFA;\n",
              "      --hover-fill-color: #174EA6;\n",
              "      --disabled-fill-color: #AAA;\n",
              "      --disabled-bg-color: #DDD;\n",
              "  }\n",
              "\n",
              "  [theme=dark] .colab-df-quickchart {\n",
              "      --bg-color: #3B4455;\n",
              "      --fill-color: #D2E3FC;\n",
              "      --hover-bg-color: #434B5C;\n",
              "      --hover-fill-color: #FFFFFF;\n",
              "      --disabled-bg-color: #3B4455;\n",
              "      --disabled-fill-color: #666;\n",
              "  }\n",
              "\n",
              "  .colab-df-quickchart {\n",
              "    background-color: var(--bg-color);\n",
              "    border: none;\n",
              "    border-radius: 50%;\n",
              "    cursor: pointer;\n",
              "    display: none;\n",
              "    fill: var(--fill-color);\n",
              "    height: 32px;\n",
              "    padding: 0;\n",
              "    width: 32px;\n",
              "  }\n",
              "\n",
              "  .colab-df-quickchart:hover {\n",
              "    background-color: var(--hover-bg-color);\n",
              "    box-shadow: 0 1px 2px rgba(60, 64, 67, 0.3), 0 1px 3px 1px rgba(60, 64, 67, 0.15);\n",
              "    fill: var(--button-hover-fill-color);\n",
              "  }\n",
              "\n",
              "  .colab-df-quickchart-complete:disabled,\n",
              "  .colab-df-quickchart-complete:disabled:hover {\n",
              "    background-color: var(--disabled-bg-color);\n",
              "    fill: var(--disabled-fill-color);\n",
              "    box-shadow: none;\n",
              "  }\n",
              "\n",
              "  .colab-df-spinner {\n",
              "    border: 2px solid var(--fill-color);\n",
              "    border-color: transparent;\n",
              "    border-bottom-color: var(--fill-color);\n",
              "    animation:\n",
              "      spin 1s steps(1) infinite;\n",
              "  }\n",
              "\n",
              "  @keyframes spin {\n",
              "    0% {\n",
              "      border-color: transparent;\n",
              "      border-bottom-color: var(--fill-color);\n",
              "      border-left-color: var(--fill-color);\n",
              "    }\n",
              "    20% {\n",
              "      border-color: transparent;\n",
              "      border-left-color: var(--fill-color);\n",
              "      border-top-color: var(--fill-color);\n",
              "    }\n",
              "    30% {\n",
              "      border-color: transparent;\n",
              "      border-left-color: var(--fill-color);\n",
              "      border-top-color: var(--fill-color);\n",
              "      border-right-color: var(--fill-color);\n",
              "    }\n",
              "    40% {\n",
              "      border-color: transparent;\n",
              "      border-right-color: var(--fill-color);\n",
              "      border-top-color: var(--fill-color);\n",
              "    }\n",
              "    60% {\n",
              "      border-color: transparent;\n",
              "      border-right-color: var(--fill-color);\n",
              "    }\n",
              "    80% {\n",
              "      border-color: transparent;\n",
              "      border-right-color: var(--fill-color);\n",
              "      border-bottom-color: var(--fill-color);\n",
              "    }\n",
              "    90% {\n",
              "      border-color: transparent;\n",
              "      border-bottom-color: var(--fill-color);\n",
              "    }\n",
              "  }\n",
              "</style>\n",
              "\n",
              "  <script>\n",
              "    async function quickchart(key) {\n",
              "      const quickchartButtonEl =\n",
              "        document.querySelector('#' + key + ' button');\n",
              "      quickchartButtonEl.disabled = true;  // To prevent multiple clicks.\n",
              "      quickchartButtonEl.classList.add('colab-df-spinner');\n",
              "      try {\n",
              "        const charts = await google.colab.kernel.invokeFunction(\n",
              "            'suggestCharts', [key], {});\n",
              "      } catch (error) {\n",
              "        console.error('Error during call to suggestCharts:', error);\n",
              "      }\n",
              "      quickchartButtonEl.classList.remove('colab-df-spinner');\n",
              "      quickchartButtonEl.classList.add('colab-df-quickchart-complete');\n",
              "    }\n",
              "    (() => {\n",
              "      let quickchartButtonEl =\n",
              "        document.querySelector('#df-38f4fe52-4f09-44e1-a4e4-d27a35169fbf button');\n",
              "      quickchartButtonEl.style.display =\n",
              "        google.colab.kernel.accessAllowed ? 'block' : 'none';\n",
              "    })();\n",
              "  </script>\n",
              "</div>\n",
              "    </div>\n",
              "  </div>\n"
            ]
          },
          "metadata": {},
          "execution_count": 112
        }
      ]
    },
    {
      "cell_type": "code",
      "source": [
        "fix_image_path(mass_case_train)\n",
        "fix_image_path(mass_case_test)\n",
        "mass_data = mass_case_train.append(mass_case_test)\n",
        "mass_data.head()"
      ],
      "metadata": {
        "colab": {
          "base_uri": "https://localhost:8080/",
          "height": 382
        },
        "id": "47-hLCSK96Ma",
        "outputId": "8413b207-1ecb-464e-d6d1-6f3d08dae5e4"
      },
      "execution_count": 113,
      "outputs": [
        {
          "output_type": "stream",
          "name": "stderr",
          "text": [
            "<ipython-input-113-5d9cb52cd42a>:3: FutureWarning:\n",
            "\n",
            "The frame.append method is deprecated and will be removed from pandas in a future version. Use pandas.concat instead.\n",
            "\n"
          ]
        },
        {
          "output_type": "execute_result",
          "data": {
            "text/plain": [
              "  patient_id  breast_density left_or_right_breast image_view  abnormality id  \\\n",
              "0    P_00001               3                 LEFT         CC               1   \n",
              "1    P_00001               3                 LEFT        MLO               1   \n",
              "2    P_00004               3                 LEFT         CC               1   \n",
              "3    P_00004               3                 LEFT        MLO               1   \n",
              "4    P_00004               3                RIGHT        MLO               1   \n",
              "\n",
              "  abnormality_type                          mass_shape   mass_margins  \\\n",
              "0             mass  IRREGULAR-ARCHITECTURAL_DISTORTION     SPICULATED   \n",
              "1             mass  IRREGULAR-ARCHITECTURAL_DISTORTION     SPICULATED   \n",
              "2             mass            ARCHITECTURAL_DISTORTION    ILL_DEFINED   \n",
              "3             mass            ARCHITECTURAL_DISTORTION    ILL_DEFINED   \n",
              "4             mass                                OVAL  CIRCUMSCRIBED   \n",
              "\n",
              "   assessment  pathology  subtlety  \\\n",
              "0           4  MALIGNANT         4   \n",
              "1           4  MALIGNANT         4   \n",
              "2           4     BENIGN         3   \n",
              "3           4     BENIGN         3   \n",
              "4           4     BENIGN         5   \n",
              "\n",
              "                                     image file path  \\\n",
              "0  /content/drive/MyDrive/CIND860/jpeg/1.3.6.1.4....   \n",
              "1  /content/drive/MyDrive/CIND860/jpeg/1.3.6.1.4....   \n",
              "2  /content/drive/MyDrive/CIND860/jpeg/1.3.6.1.4....   \n",
              "3  /content/drive/MyDrive/CIND860/jpeg/1.3.6.1.4....   \n",
              "4  /content/drive/MyDrive/CIND860/jpeg/1.3.6.1.4....   \n",
              "\n",
              "                             cropped image file path  \\\n",
              "0  /content/drive/MyDrive/CIND860/jpeg/1.3.6.1.4....   \n",
              "1  /content/drive/MyDrive/CIND860/jpeg/1.3.6.1.4....   \n",
              "2  /content/drive/MyDrive/CIND860/jpeg/1.3.6.1.4....   \n",
              "3  /content/drive/MyDrive/CIND860/jpeg/1.3.6.1.4....   \n",
              "4  /content/drive/MyDrive/CIND860/jpeg/1.3.6.1.4....   \n",
              "\n",
              "                                  ROI mask file path left or right breast  \\\n",
              "0  /content/drive/MyDrive/CIND860/jpeg/1.3.6.1.4....                  NaN   \n",
              "1  /content/drive/MyDrive/CIND860/jpeg/1.3.6.1.4....                  NaN   \n",
              "2  /content/drive/MyDrive/CIND860/jpeg/1.3.6.1.4....                  NaN   \n",
              "3  /content/drive/MyDrive/CIND860/jpeg/1.3.6.1.4....                  NaN   \n",
              "4  /content/drive/MyDrive/CIND860/jpeg/1.3.6.1.4....                  NaN   \n",
              "\n",
              "  image view abnormality type mass shape mass margins  \n",
              "0        NaN              NaN        NaN          NaN  \n",
              "1        NaN              NaN        NaN          NaN  \n",
              "2        NaN              NaN        NaN          NaN  \n",
              "3        NaN              NaN        NaN          NaN  \n",
              "4        NaN              NaN        NaN          NaN  "
            ],
            "text/html": [
              "\n",
              "  <div id=\"df-617805fc-f58a-492e-8109-47f733d4db1a\" class=\"colab-df-container\">\n",
              "    <div>\n",
              "<style scoped>\n",
              "    .dataframe tbody tr th:only-of-type {\n",
              "        vertical-align: middle;\n",
              "    }\n",
              "\n",
              "    .dataframe tbody tr th {\n",
              "        vertical-align: top;\n",
              "    }\n",
              "\n",
              "    .dataframe thead th {\n",
              "        text-align: right;\n",
              "    }\n",
              "</style>\n",
              "<table border=\"1\" class=\"dataframe\">\n",
              "  <thead>\n",
              "    <tr style=\"text-align: right;\">\n",
              "      <th></th>\n",
              "      <th>patient_id</th>\n",
              "      <th>breast_density</th>\n",
              "      <th>left_or_right_breast</th>\n",
              "      <th>image_view</th>\n",
              "      <th>abnormality id</th>\n",
              "      <th>abnormality_type</th>\n",
              "      <th>mass_shape</th>\n",
              "      <th>mass_margins</th>\n",
              "      <th>assessment</th>\n",
              "      <th>pathology</th>\n",
              "      <th>subtlety</th>\n",
              "      <th>image file path</th>\n",
              "      <th>cropped image file path</th>\n",
              "      <th>ROI mask file path</th>\n",
              "      <th>left or right breast</th>\n",
              "      <th>image view</th>\n",
              "      <th>abnormality type</th>\n",
              "      <th>mass shape</th>\n",
              "      <th>mass margins</th>\n",
              "    </tr>\n",
              "  </thead>\n",
              "  <tbody>\n",
              "    <tr>\n",
              "      <th>0</th>\n",
              "      <td>P_00001</td>\n",
              "      <td>3</td>\n",
              "      <td>LEFT</td>\n",
              "      <td>CC</td>\n",
              "      <td>1</td>\n",
              "      <td>mass</td>\n",
              "      <td>IRREGULAR-ARCHITECTURAL_DISTORTION</td>\n",
              "      <td>SPICULATED</td>\n",
              "      <td>4</td>\n",
              "      <td>MALIGNANT</td>\n",
              "      <td>4</td>\n",
              "      <td>/content/drive/MyDrive/CIND860/jpeg/1.3.6.1.4....</td>\n",
              "      <td>/content/drive/MyDrive/CIND860/jpeg/1.3.6.1.4....</td>\n",
              "      <td>/content/drive/MyDrive/CIND860/jpeg/1.3.6.1.4....</td>\n",
              "      <td>NaN</td>\n",
              "      <td>NaN</td>\n",
              "      <td>NaN</td>\n",
              "      <td>NaN</td>\n",
              "      <td>NaN</td>\n",
              "    </tr>\n",
              "    <tr>\n",
              "      <th>1</th>\n",
              "      <td>P_00001</td>\n",
              "      <td>3</td>\n",
              "      <td>LEFT</td>\n",
              "      <td>MLO</td>\n",
              "      <td>1</td>\n",
              "      <td>mass</td>\n",
              "      <td>IRREGULAR-ARCHITECTURAL_DISTORTION</td>\n",
              "      <td>SPICULATED</td>\n",
              "      <td>4</td>\n",
              "      <td>MALIGNANT</td>\n",
              "      <td>4</td>\n",
              "      <td>/content/drive/MyDrive/CIND860/jpeg/1.3.6.1.4....</td>\n",
              "      <td>/content/drive/MyDrive/CIND860/jpeg/1.3.6.1.4....</td>\n",
              "      <td>/content/drive/MyDrive/CIND860/jpeg/1.3.6.1.4....</td>\n",
              "      <td>NaN</td>\n",
              "      <td>NaN</td>\n",
              "      <td>NaN</td>\n",
              "      <td>NaN</td>\n",
              "      <td>NaN</td>\n",
              "    </tr>\n",
              "    <tr>\n",
              "      <th>2</th>\n",
              "      <td>P_00004</td>\n",
              "      <td>3</td>\n",
              "      <td>LEFT</td>\n",
              "      <td>CC</td>\n",
              "      <td>1</td>\n",
              "      <td>mass</td>\n",
              "      <td>ARCHITECTURAL_DISTORTION</td>\n",
              "      <td>ILL_DEFINED</td>\n",
              "      <td>4</td>\n",
              "      <td>BENIGN</td>\n",
              "      <td>3</td>\n",
              "      <td>/content/drive/MyDrive/CIND860/jpeg/1.3.6.1.4....</td>\n",
              "      <td>/content/drive/MyDrive/CIND860/jpeg/1.3.6.1.4....</td>\n",
              "      <td>/content/drive/MyDrive/CIND860/jpeg/1.3.6.1.4....</td>\n",
              "      <td>NaN</td>\n",
              "      <td>NaN</td>\n",
              "      <td>NaN</td>\n",
              "      <td>NaN</td>\n",
              "      <td>NaN</td>\n",
              "    </tr>\n",
              "    <tr>\n",
              "      <th>3</th>\n",
              "      <td>P_00004</td>\n",
              "      <td>3</td>\n",
              "      <td>LEFT</td>\n",
              "      <td>MLO</td>\n",
              "      <td>1</td>\n",
              "      <td>mass</td>\n",
              "      <td>ARCHITECTURAL_DISTORTION</td>\n",
              "      <td>ILL_DEFINED</td>\n",
              "      <td>4</td>\n",
              "      <td>BENIGN</td>\n",
              "      <td>3</td>\n",
              "      <td>/content/drive/MyDrive/CIND860/jpeg/1.3.6.1.4....</td>\n",
              "      <td>/content/drive/MyDrive/CIND860/jpeg/1.3.6.1.4....</td>\n",
              "      <td>/content/drive/MyDrive/CIND860/jpeg/1.3.6.1.4....</td>\n",
              "      <td>NaN</td>\n",
              "      <td>NaN</td>\n",
              "      <td>NaN</td>\n",
              "      <td>NaN</td>\n",
              "      <td>NaN</td>\n",
              "    </tr>\n",
              "    <tr>\n",
              "      <th>4</th>\n",
              "      <td>P_00004</td>\n",
              "      <td>3</td>\n",
              "      <td>RIGHT</td>\n",
              "      <td>MLO</td>\n",
              "      <td>1</td>\n",
              "      <td>mass</td>\n",
              "      <td>OVAL</td>\n",
              "      <td>CIRCUMSCRIBED</td>\n",
              "      <td>4</td>\n",
              "      <td>BENIGN</td>\n",
              "      <td>5</td>\n",
              "      <td>/content/drive/MyDrive/CIND860/jpeg/1.3.6.1.4....</td>\n",
              "      <td>/content/drive/MyDrive/CIND860/jpeg/1.3.6.1.4....</td>\n",
              "      <td>/content/drive/MyDrive/CIND860/jpeg/1.3.6.1.4....</td>\n",
              "      <td>NaN</td>\n",
              "      <td>NaN</td>\n",
              "      <td>NaN</td>\n",
              "      <td>NaN</td>\n",
              "      <td>NaN</td>\n",
              "    </tr>\n",
              "  </tbody>\n",
              "</table>\n",
              "</div>\n",
              "    <div class=\"colab-df-buttons\">\n",
              "\n",
              "  <div class=\"colab-df-container\">\n",
              "    <button class=\"colab-df-convert\" onclick=\"convertToInteractive('df-617805fc-f58a-492e-8109-47f733d4db1a')\"\n",
              "            title=\"Convert this dataframe to an interactive table.\"\n",
              "            style=\"display:none;\">\n",
              "\n",
              "  <svg xmlns=\"http://www.w3.org/2000/svg\" height=\"24px\" viewBox=\"0 -960 960 960\">\n",
              "    <path d=\"M120-120v-720h720v720H120Zm60-500h600v-160H180v160Zm220 220h160v-160H400v160Zm0 220h160v-160H400v160ZM180-400h160v-160H180v160Zm440 0h160v-160H620v160ZM180-180h160v-160H180v160Zm440 0h160v-160H620v160Z\"/>\n",
              "  </svg>\n",
              "    </button>\n",
              "\n",
              "  <style>\n",
              "    .colab-df-container {\n",
              "      display:flex;\n",
              "      gap: 12px;\n",
              "    }\n",
              "\n",
              "    .colab-df-convert {\n",
              "      background-color: #E8F0FE;\n",
              "      border: none;\n",
              "      border-radius: 50%;\n",
              "      cursor: pointer;\n",
              "      display: none;\n",
              "      fill: #1967D2;\n",
              "      height: 32px;\n",
              "      padding: 0 0 0 0;\n",
              "      width: 32px;\n",
              "    }\n",
              "\n",
              "    .colab-df-convert:hover {\n",
              "      background-color: #E2EBFA;\n",
              "      box-shadow: 0px 1px 2px rgba(60, 64, 67, 0.3), 0px 1px 3px 1px rgba(60, 64, 67, 0.15);\n",
              "      fill: #174EA6;\n",
              "    }\n",
              "\n",
              "    .colab-df-buttons div {\n",
              "      margin-bottom: 4px;\n",
              "    }\n",
              "\n",
              "    [theme=dark] .colab-df-convert {\n",
              "      background-color: #3B4455;\n",
              "      fill: #D2E3FC;\n",
              "    }\n",
              "\n",
              "    [theme=dark] .colab-df-convert:hover {\n",
              "      background-color: #434B5C;\n",
              "      box-shadow: 0px 1px 3px 1px rgba(0, 0, 0, 0.15);\n",
              "      filter: drop-shadow(0px 1px 2px rgba(0, 0, 0, 0.3));\n",
              "      fill: #FFFFFF;\n",
              "    }\n",
              "  </style>\n",
              "\n",
              "    <script>\n",
              "      const buttonEl =\n",
              "        document.querySelector('#df-617805fc-f58a-492e-8109-47f733d4db1a button.colab-df-convert');\n",
              "      buttonEl.style.display =\n",
              "        google.colab.kernel.accessAllowed ? 'block' : 'none';\n",
              "\n",
              "      async function convertToInteractive(key) {\n",
              "        const element = document.querySelector('#df-617805fc-f58a-492e-8109-47f733d4db1a');\n",
              "        const dataTable =\n",
              "          await google.colab.kernel.invokeFunction('convertToInteractive',\n",
              "                                                    [key], {});\n",
              "        if (!dataTable) return;\n",
              "\n",
              "        const docLinkHtml = 'Like what you see? Visit the ' +\n",
              "          '<a target=\"_blank\" href=https://colab.research.google.com/notebooks/data_table.ipynb>data table notebook</a>'\n",
              "          + ' to learn more about interactive tables.';\n",
              "        element.innerHTML = '';\n",
              "        dataTable['output_type'] = 'display_data';\n",
              "        await google.colab.output.renderOutput(dataTable, element);\n",
              "        const docLink = document.createElement('div');\n",
              "        docLink.innerHTML = docLinkHtml;\n",
              "        element.appendChild(docLink);\n",
              "      }\n",
              "    </script>\n",
              "  </div>\n",
              "\n",
              "\n",
              "<div id=\"df-23ec73ab-e6f8-47fd-9f5d-d957b9f36d81\">\n",
              "  <button class=\"colab-df-quickchart\" onclick=\"quickchart('df-23ec73ab-e6f8-47fd-9f5d-d957b9f36d81')\"\n",
              "            title=\"Suggest charts\"\n",
              "            style=\"display:none;\">\n",
              "\n",
              "<svg xmlns=\"http://www.w3.org/2000/svg\" height=\"24px\"viewBox=\"0 0 24 24\"\n",
              "     width=\"24px\">\n",
              "    <g>\n",
              "        <path d=\"M19 3H5c-1.1 0-2 .9-2 2v14c0 1.1.9 2 2 2h14c1.1 0 2-.9 2-2V5c0-1.1-.9-2-2-2zM9 17H7v-7h2v7zm4 0h-2V7h2v10zm4 0h-2v-4h2v4z\"/>\n",
              "    </g>\n",
              "</svg>\n",
              "  </button>\n",
              "\n",
              "<style>\n",
              "  .colab-df-quickchart {\n",
              "      --bg-color: #E8F0FE;\n",
              "      --fill-color: #1967D2;\n",
              "      --hover-bg-color: #E2EBFA;\n",
              "      --hover-fill-color: #174EA6;\n",
              "      --disabled-fill-color: #AAA;\n",
              "      --disabled-bg-color: #DDD;\n",
              "  }\n",
              "\n",
              "  [theme=dark] .colab-df-quickchart {\n",
              "      --bg-color: #3B4455;\n",
              "      --fill-color: #D2E3FC;\n",
              "      --hover-bg-color: #434B5C;\n",
              "      --hover-fill-color: #FFFFFF;\n",
              "      --disabled-bg-color: #3B4455;\n",
              "      --disabled-fill-color: #666;\n",
              "  }\n",
              "\n",
              "  .colab-df-quickchart {\n",
              "    background-color: var(--bg-color);\n",
              "    border: none;\n",
              "    border-radius: 50%;\n",
              "    cursor: pointer;\n",
              "    display: none;\n",
              "    fill: var(--fill-color);\n",
              "    height: 32px;\n",
              "    padding: 0;\n",
              "    width: 32px;\n",
              "  }\n",
              "\n",
              "  .colab-df-quickchart:hover {\n",
              "    background-color: var(--hover-bg-color);\n",
              "    box-shadow: 0 1px 2px rgba(60, 64, 67, 0.3), 0 1px 3px 1px rgba(60, 64, 67, 0.15);\n",
              "    fill: var(--button-hover-fill-color);\n",
              "  }\n",
              "\n",
              "  .colab-df-quickchart-complete:disabled,\n",
              "  .colab-df-quickchart-complete:disabled:hover {\n",
              "    background-color: var(--disabled-bg-color);\n",
              "    fill: var(--disabled-fill-color);\n",
              "    box-shadow: none;\n",
              "  }\n",
              "\n",
              "  .colab-df-spinner {\n",
              "    border: 2px solid var(--fill-color);\n",
              "    border-color: transparent;\n",
              "    border-bottom-color: var(--fill-color);\n",
              "    animation:\n",
              "      spin 1s steps(1) infinite;\n",
              "  }\n",
              "\n",
              "  @keyframes spin {\n",
              "    0% {\n",
              "      border-color: transparent;\n",
              "      border-bottom-color: var(--fill-color);\n",
              "      border-left-color: var(--fill-color);\n",
              "    }\n",
              "    20% {\n",
              "      border-color: transparent;\n",
              "      border-left-color: var(--fill-color);\n",
              "      border-top-color: var(--fill-color);\n",
              "    }\n",
              "    30% {\n",
              "      border-color: transparent;\n",
              "      border-left-color: var(--fill-color);\n",
              "      border-top-color: var(--fill-color);\n",
              "      border-right-color: var(--fill-color);\n",
              "    }\n",
              "    40% {\n",
              "      border-color: transparent;\n",
              "      border-right-color: var(--fill-color);\n",
              "      border-top-color: var(--fill-color);\n",
              "    }\n",
              "    60% {\n",
              "      border-color: transparent;\n",
              "      border-right-color: var(--fill-color);\n",
              "    }\n",
              "    80% {\n",
              "      border-color: transparent;\n",
              "      border-right-color: var(--fill-color);\n",
              "      border-bottom-color: var(--fill-color);\n",
              "    }\n",
              "    90% {\n",
              "      border-color: transparent;\n",
              "      border-bottom-color: var(--fill-color);\n",
              "    }\n",
              "  }\n",
              "</style>\n",
              "\n",
              "  <script>\n",
              "    async function quickchart(key) {\n",
              "      const quickchartButtonEl =\n",
              "        document.querySelector('#' + key + ' button');\n",
              "      quickchartButtonEl.disabled = true;  // To prevent multiple clicks.\n",
              "      quickchartButtonEl.classList.add('colab-df-spinner');\n",
              "      try {\n",
              "        const charts = await google.colab.kernel.invokeFunction(\n",
              "            'suggestCharts', [key], {});\n",
              "      } catch (error) {\n",
              "        console.error('Error during call to suggestCharts:', error);\n",
              "      }\n",
              "      quickchartButtonEl.classList.remove('colab-df-spinner');\n",
              "      quickchartButtonEl.classList.add('colab-df-quickchart-complete');\n",
              "    }\n",
              "    (() => {\n",
              "      let quickchartButtonEl =\n",
              "        document.querySelector('#df-23ec73ab-e6f8-47fd-9f5d-d957b9f36d81 button');\n",
              "      quickchartButtonEl.style.display =\n",
              "        google.colab.kernel.accessAllowed ? 'block' : 'none';\n",
              "    })();\n",
              "  </script>\n",
              "</div>\n",
              "    </div>\n",
              "  </div>\n"
            ]
          },
          "metadata": {},
          "execution_count": 113
        }
      ]
    },
    {
      "cell_type": "markdown",
      "source": [
        "#Image Enhancement"
      ],
      "metadata": {
        "id": "O7kAxrpyCoZp"
      }
    },
    {
      "cell_type": "code",
      "source": [
        "def apply_clahe(image, clip_limit=2.0, grid_size=(8, 8)):\n",
        "    # Convert the image to LAB color space\n",
        "    lab = cv2.cvtColor(image, cv2.COLOR_BGR2LAB)\n",
        "\n",
        "    # Split the LAB image into L, A, and B channels\n",
        "    l, a, b = cv2.split(lab)\n",
        "\n",
        "    # Apply CLAHE on the L channel\n",
        "    clahe = cv2.createCLAHE(clipLimit=clip_limit, tileGridSize=grid_size)\n",
        "    clahe_l = clahe.apply(l)\n",
        "\n",
        "    # Merge the CLAHE enhanced L channel with the original A and B channels\n",
        "    clahe_lab = cv2.merge((clahe_l, a, b))\n",
        "\n",
        "    # Convert the LAB image back to BGR color space\n",
        "    clahe_bgr = cv2.cvtColor(clahe_lab, cv2.COLOR_LAB2BGR)\n",
        "\n",
        "    return clahe_bgr"
      ],
      "metadata": {
        "id": "ljZZ3LOnCtqp"
      },
      "execution_count": 114,
      "outputs": []
    },
    {
      "cell_type": "code",
      "source": [
        "def haze_reduced_local_global(hazy_image, window_size=15, epsilon=0.001):\n",
        "    # Convert the hazy image to LAB color space\n",
        "    hazy_lab = cv2.cvtColor(hazy_image, cv2.COLOR_BGR2LAB)\n",
        "    hazy_l, hazy_a, hazy_b = cv2.split(hazy_lab)\n",
        "\n",
        "    # Estimate the atmospheric light\n",
        "    atmospheric_light = np.max(hazy_l)\n",
        "\n",
        "    # Calculate the dark channel of the hazy image\n",
        "    hazy_dark = cv2.erode(hazy_l, cv2.getStructuringElement(cv2.MORPH_RECT, (window_size, window_size)))\n",
        "\n",
        "    # Estimate the transmission map\n",
        "    transmission_map = 1 - hazy_dark / atmospheric_light\n",
        "\n",
        "    # Calculate the refined transmission map\n",
        "    refined_transmission_map = cv2.max(transmission_map, epsilon)\n",
        "\n",
        "    # Calculate the inverse transmission map\n",
        "    inverse_transmission_map = 1 / refined_transmission_map\n",
        "\n",
        "    # Dehaze the image\n",
        "    dehazed_l = (hazy_l.astype(np.float32) - atmospheric_light) * inverse_transmission_map + atmospheric_light\n",
        "\n",
        "    # Clip the dehazed L channel to the valid range [0, 255]\n",
        "    dehazed_l = np.clip(dehazed_l, 0, 255).astype(np.uint8)\n",
        "\n",
        "    # Merge the dehazed L channel with the original A and B channels\n",
        "    dehazed_lab = cv2.merge((dehazed_l, hazy_a, hazy_b))\n",
        "\n",
        "    # Convert the LAB image back to BGR color space\n",
        "    dehazed_bgr = cv2.cvtColor(dehazed_lab, cv2.COLOR_LAB2BGR)\n",
        "\n",
        "    return dehazed_bgr"
      ],
      "metadata": {
        "id": "0AkaFVWbCysp"
      },
      "execution_count": 115,
      "outputs": []
    },
    {
      "cell_type": "code",
      "source": [
        "def csid_caol(image_path, n_components, patch_size, iterations):\n",
        "    # Load the image\n",
        "    image = cv2.imread(image_path, cv2.IMREAD_GRAYSCALE)\n",
        "\n",
        "    # Extract patches from the image\n",
        "    patches = cv2.extract_patches_2d(image, (patch_size, patch_size))\n",
        "\n",
        "    # Reshape the patches for sparse coding\n",
        "    patches = patches.reshape(patches.shape[0], -1)\n",
        "\n",
        "    # Perform sparse coding using the Convolutional Analysis Operator Learning (CAOL) framework\n",
        "    coder = SparseCoder(dictionary=np.random.randn(patch_size * patch_size, n_components), transform_algorithm='lasso_lars')\n",
        "    codes = coder.transform(patches.T)\n",
        "\n",
        "    # Reconstruct the image using the learned codes\n",
        "    reconstructed_patches = np.dot(codes.T, coder.components_).reshape(-1, patch_size, patch_size)\n",
        "    reconstructed_image = cv2.reconstruct_patches_2d(reconstructed_patches, (image.shape[0], image.shape[1]))\n",
        "\n",
        "    return reconstructed_image.astype(np.uint8)"
      ],
      "metadata": {
        "id": "_u3CK5b9C2Si"
      },
      "execution_count": 116,
      "outputs": []
    },
    {
      "cell_type": "code",
      "source": [
        "import matplotlib.pyplot as plt\n",
        "import matplotlib.image as mpimg\n",
        "\n",
        "# Read the image file\n",
        "img_full = mpimg.imread(mass_data.iloc[0]['image file path'])\n",
        "img_full_cv2 = cv2.imread(mass_data.iloc[0]['image file path'], cv2.IMREAD_COLOR)\n",
        "img_full_clahe = apply_clahe(img_full_cv2)\n",
        "img_full_helg = haze_reduced_local_global(img_full_cv2)\n",
        "\n",
        "img_crop = mpimg.imread(mass_data.iloc[0]['cropped image file path'])\n",
        "img_roi = mpimg.imread(mass_data.iloc[0]['ROI mask file path'])\n",
        "\n",
        "# Plot the image\n",
        "fig, axs = plt.subplots(2, 3)\n",
        "axs[0,0].imshow(img_full, cmap='gray')\n",
        "axs[0,1].imshow(img_full_clahe, cmap='gray')\n",
        "axs[0,2].imshow(img_full_helg, cmap='gray')\n",
        "axs[1,0].imshow(img_roi, cmap='gray')\n",
        "axs[1,2].imshow(img_crop, cmap='gray')\n",
        "\n",
        "axs[0,0].axis('off')\n",
        "axs[0,1].axis('off')\n",
        "axs[0,2].axis('off')\n",
        "axs[1,0].axis('off')\n",
        "axs[1,2].axis('off')\n",
        "\n",
        "axs[0,0].set_title('Image file path')\n",
        "axs[0,1].set_title('CLAHE')\n",
        "axs[0,2].set_title('HELG')\n",
        "axs[1,0].set_title('ROI mask file path')\n",
        "axs[1,2].set_title('Cropped image file path')\n",
        "\n",
        "plt.tight_layout()\n",
        "# Show the plot\n",
        "plt.show()\n",
        "mass_data.head(1)"
      ],
      "metadata": {
        "colab": {
          "base_uri": "https://localhost:8080/",
          "height": 639
        },
        "id": "apLUKP6VC8qn",
        "outputId": "aeb84f2c-d474-44b7-edac-361aaf2860a0"
      },
      "execution_count": 117,
      "outputs": [
        {
          "output_type": "display_data",
          "data": {
            "text/plain": [
              "<Figure size 640x480 with 6 Axes>"
            ],
            "image/png": "[encoded data removed]"
          },
          "metadata": {}
        },
        {
          "output_type": "execute_result",
          "data": {
            "text/plain": [
              "  patient_id  breast_density left_or_right_breast image_view  abnormality id  \\\n",
              "0    P_00001               3                 LEFT         CC               1   \n",
              "\n",
              "  abnormality_type                          mass_shape mass_margins  \\\n",
              "0             mass  IRREGULAR-ARCHITECTURAL_DISTORTION   SPICULATED   \n",
              "\n",
              "   assessment  pathology  subtlety  \\\n",
              "0           4  MALIGNANT         4   \n",
              "\n",
              "                                     image file path  \\\n",
              "0  /content/drive/MyDrive/CIND860/jpeg/1.3.6.1.4....   \n",
              "\n",
              "                             cropped image file path  \\\n",
              "0  /content/drive/MyDrive/CIND860/jpeg/1.3.6.1.4....   \n",
              "\n",
              "                                  ROI mask file path left or right breast  \\\n",
              "0  /content/drive/MyDrive/CIND860/jpeg/1.3.6.1.4....                  NaN   \n",
              "\n",
              "  image view abnormality type mass shape mass margins  \n",
              "0        NaN              NaN        NaN          NaN  "
            ],
            "text/html": [
              "\n",
              "  <div id=\"df-f2d5cb98-4679-421a-ba83-6474c9e06ff5\" class=\"colab-df-container\">\n",
              "    <div>\n",
              "<style scoped>\n",
              "    .dataframe tbody tr th:only-of-type {\n",
              "        vertical-align: middle;\n",
              "    }\n",
              "\n",
              "    .dataframe tbody tr th {\n",
              "        vertical-align: top;\n",
              "    }\n",
              "\n",
              "    .dataframe thead th {\n",
              "        text-align: right;\n",
              "    }\n",
              "</style>\n",
              "<table border=\"1\" class=\"dataframe\">\n",
              "  <thead>\n",
              "    <tr style=\"text-align: right;\">\n",
              "      <th></th>\n",
              "      <th>patient_id</th>\n",
              "      <th>breast_density</th>\n",
              "      <th>left_or_right_breast</th>\n",
              "      <th>image_view</th>\n",
              "      <th>abnormality id</th>\n",
              "      <th>abnormality_type</th>\n",
              "      <th>mass_shape</th>\n",
              "      <th>mass_margins</th>\n",
              "      <th>assessment</th>\n",
              "      <th>pathology</th>\n",
              "      <th>subtlety</th>\n",
              "      <th>image file path</th>\n",
              "      <th>cropped image file path</th>\n",
              "      <th>ROI mask file path</th>\n",
              "      <th>left or right breast</th>\n",
              "      <th>image view</th>\n",
              "      <th>abnormality type</th>\n",
              "      <th>mass shape</th>\n",
              "      <th>mass margins</th>\n",
              "    </tr>\n",
              "  </thead>\n",
              "  <tbody>\n",
              "    <tr>\n",
              "      <th>0</th>\n",
              "      <td>P_00001</td>\n",
              "      <td>3</td>\n",
              "      <td>LEFT</td>\n",
              "      <td>CC</td>\n",
              "      <td>1</td>\n",
              "      <td>mass</td>\n",
              "      <td>IRREGULAR-ARCHITECTURAL_DISTORTION</td>\n",
              "      <td>SPICULATED</td>\n",
              "      <td>4</td>\n",
              "      <td>MALIGNANT</td>\n",
              "      <td>4</td>\n",
              "      <td>/content/drive/MyDrive/CIND860/jpeg/1.3.6.1.4....</td>\n",
              "      <td>/content/drive/MyDrive/CIND860/jpeg/1.3.6.1.4....</td>\n",
              "      <td>/content/drive/MyDrive/CIND860/jpeg/1.3.6.1.4....</td>\n",
              "      <td>NaN</td>\n",
              "      <td>NaN</td>\n",
              "      <td>NaN</td>\n",
              "      <td>NaN</td>\n",
              "      <td>NaN</td>\n",
              "    </tr>\n",
              "  </tbody>\n",
              "</table>\n",
              "</div>\n",
              "    <div class=\"colab-df-buttons\">\n",
              "\n",
              "  <div class=\"colab-df-container\">\n",
              "    <button class=\"colab-df-convert\" onclick=\"convertToInteractive('df-f2d5cb98-4679-421a-ba83-6474c9e06ff5')\"\n",
              "            title=\"Convert this dataframe to an interactive table.\"\n",
              "            style=\"display:none;\">\n",
              "\n",
              "  <svg xmlns=\"http://www.w3.org/2000/svg\" height=\"24px\" viewBox=\"0 -960 960 960\">\n",
              "    <path d=\"M120-120v-720h720v720H120Zm60-500h600v-160H180v160Zm220 220h160v-160H400v160Zm0 220h160v-160H400v160ZM180-400h160v-160H180v160Zm440 0h160v-160H620v160ZM180-180h160v-160H180v160Zm440 0h160v-160H620v160Z\"/>\n",
              "  </svg>\n",
              "    </button>\n",
              "\n",
              "  <style>\n",
              "    .colab-df-container {\n",
              "      display:flex;\n",
              "      gap: 12px;\n",
              "    }\n",
              "\n",
              "    .colab-df-convert {\n",
              "      background-color: #E8F0FE;\n",
              "      border: none;\n",
              "      border-radius: 50%;\n",
              "      cursor: pointer;\n",
              "      display: none;\n",
              "      fill: #1967D2;\n",
              "      height: 32px;\n",
              "      padding: 0 0 0 0;\n",
              "      width: 32px;\n",
              "    }\n",
              "\n",
              "    .colab-df-convert:hover {\n",
              "      background-color: #E2EBFA;\n",
              "      box-shadow: 0px 1px 2px rgba(60, 64, 67, 0.3), 0px 1px 3px 1px rgba(60, 64, 67, 0.15);\n",
              "      fill: #174EA6;\n",
              "    }\n",
              "\n",
              "    .colab-df-buttons div {\n",
              "      margin-bottom: 4px;\n",
              "    }\n",
              "\n",
              "    [theme=dark] .colab-df-convert {\n",
              "      background-color: #3B4455;\n",
              "      fill: #D2E3FC;\n",
              "    }\n",
              "\n",
              "    [theme=dark] .colab-df-convert:hover {\n",
              "      background-color: #434B5C;\n",
              "      box-shadow: 0px 1px 3px 1px rgba(0, 0, 0, 0.15);\n",
              "      filter: drop-shadow(0px 1px 2px rgba(0, 0, 0, 0.3));\n",
              "      fill: #FFFFFF;\n",
              "    }\n",
              "  </style>\n",
              "\n",
              "    <script>\n",
              "      const buttonEl =\n",
              "        document.querySelector('#df-f2d5cb98-4679-421a-ba83-6474c9e06ff5 button.colab-df-convert');\n",
              "      buttonEl.style.display =\n",
              "        google.colab.kernel.accessAllowed ? 'block' : 'none';\n",
              "\n",
              "      async function convertToInteractive(key) {\n",
              "        const element = document.querySelector('#df-f2d5cb98-4679-421a-ba83-6474c9e06ff5');\n",
              "        const dataTable =\n",
              "          await google.colab.kernel.invokeFunction('convertToInteractive',\n",
              "                                                    [key], {});\n",
              "        if (!dataTable) return;\n",
              "\n",
              "        const docLinkHtml = 'Like what you see? Visit the ' +\n",
              "          '<a target=\"_blank\" href=https://colab.research.google.com/notebooks/data_table.ipynb>data table notebook</a>'\n",
              "          + ' to learn more about interactive tables.';\n",
              "        element.innerHTML = '';\n",
              "        dataTable['output_type'] = 'display_data';\n",
              "        await google.colab.output.renderOutput(dataTable, element);\n",
              "        const docLink = document.createElement('div');\n",
              "        docLink.innerHTML = docLinkHtml;\n",
              "        element.appendChild(docLink);\n",
              "      }\n",
              "    </script>\n",
              "  </div>\n",
              "\n",
              "    </div>\n",
              "  </div>\n"
            ]
          },
          "metadata": {},
          "execution_count": 117
        }
      ]
    },
    {
      "cell_type": "markdown",
      "source": [
        "#Preparing the Train/Test Set"
      ],
      "metadata": {
        "id": "_tCCVoydoc6i"
      }
    },
    {
      "cell_type": "code",
      "source": [
        "import time\n",
        "from concurrent.futures import ThreadPoolExecutor\n",
        "tf.random.set_seed(100)\n",
        "\n",
        "#Reclassify into only 2 classifications by grouping \"BENIGN_WITHOUT_CALLBACK\" and \"BENIGN\"\n",
        "classification = {\"MALIGNANT\": 0, \"BENIGN_WITHOUT_CALLBACK\": 1, \"BENIGN\": 1}"
      ],
      "metadata": {
        "id": "PYNWLwRNoknK"
      },
      "execution_count": 118,
      "outputs": []
    },
    {
      "cell_type": "code",
      "source": [
        "def load_image(img):\n",
        "    c_img = cv2.imread(img, cv2.IMREAD_COLOR)\n",
        "    c_img_size = cv2.resize(c_img, (224, 224), interpolation = cv2.INTER_LINEAR)\n",
        "    return c_img_size\n",
        "\n",
        "def get_pathology(pathology):\n",
        "    return classification[pathology]"
      ],
      "metadata": {
        "id": "PDtKxDuerM5j"
      },
      "execution_count": 119,
      "outputs": []
    },
    {
      "cell_type": "code",
      "source": [
        "def get_images_result(dataset):\n",
        "    with ThreadPoolExecutor() as executor:\n",
        "        images = np.array(list(executor.map(load_image, dataset.loc[:]['image file path'])))\n",
        "        result = np.array(list(executor.map(get_pathology, dataset.loc[:]['pathology'])))\n",
        "    result = to_categorical(result)\n",
        "    return (images, result)"
      ],
      "metadata": {
        "id": "EssvCLH0rO_9"
      },
      "execution_count": 120,
      "outputs": []
    },
    {
      "cell_type": "code",
      "source": [
        "#Shuffle the train test sets\n",
        "mass_train_data_shuffled = mass_case_train.sample(frac = 1)\n",
        "mass_test_data_shuffled = mass_case_test.sample(frac = 1)\n",
        "calc_train_data_shuffled = calc_case_train.sample(frac = 1)\n",
        "calc_test_data_shuffled = calc_case_test.sample(frac = 1)"
      ],
      "metadata": {
        "id": "D-2Fp0YQYIId"
      },
      "execution_count": 121,
      "outputs": []
    },
    {
      "cell_type": "markdown",
      "source": [
        "#Mass Cancer Case CNN Model VGG16"
      ],
      "metadata": {
        "id": "2ArKtfjCglhi"
      }
    },
    {
      "cell_type": "code",
      "source": [
        "# Use of multi-threading to read files concurrently\n",
        "tic = time.perf_counter()\n",
        "(X_train, y_train) = get_images_result(mass_train_data_shuffled)\n",
        "(X_test, y_test) = get_images_result(mass_test_data_shuffled)\n",
        "toc = time.perf_counter()\n",
        "print(f\"Uploading the images and resizing in {toc - tic:0.4f} seconds\")\n",
        "\n",
        "print('X_train shape : {}' .format(X_train.shape))\n",
        "print('y_train shape : {}' .format(y_train.shape))\n",
        "print('X_test shape : {}' .format(X_test.shape))\n",
        "print('y_test shape : {}' .format(y_test.shape))"
      ],
      "metadata": {
        "colab": {
          "base_uri": "https://localhost:8080/"
        },
        "id": "--NAWVKCrRJp",
        "outputId": "4a437a03-d0c7-4f83-ef50-9c921d3ffbd2"
      },
      "execution_count": 123,
      "outputs": [
        {
          "output_type": "stream",
          "name": "stdout",
          "text": [
            "Uploading the images and resizing in 226.9630 seconds\n",
            "X_train shape : (1318, 224, 224, 3)\n",
            "y_train shape : (1318, 2)\n",
            "X_test shape : (378, 224, 224, 3)\n",
            "y_test shape : (378, 2)\n"
          ]
        }
      ]
    },
    {
      "cell_type": "code",
      "source": [
        "base_model = tf.keras.applications.vgg16.VGG16(\n",
        "    weights = 'imagenet',\n",
        "    include_top = False,\n",
        "    input_shape = (224, 224, 3)\n",
        ")\n",
        "\n",
        "for layer in base_model.layers:\n",
        "    layer.trainable = False\n",
        "\n",
        "model = tf.keras.Sequential()\n",
        "model.add(base_model)\n",
        "model.add(tf.keras.layers.GlobalAveragePooling2D())\n",
        "model.add(tf.keras.layers.Dropout(0.5))\n",
        "model.add(tf.keras.layers.Dense(4096, activation = 'relu'))\n",
        "model.add(tf.keras.layers.Dropout(0.5))\n",
        "model.add(tf.keras.layers.Dense(1024, activation = 'relu'))\n",
        "model.add(tf.keras.layers.Dense(2, activation = 'softmax'))\n",
        "\n",
        "learningRate = 0.0001\n",
        "adam_opt = tf.keras.optimizers.Adam(learning_rate = learningRate)\n",
        "model.compile(optimizer = adam_opt, loss='binary_crossentropy',metrics=['accuracy'])\n",
        "\n",
        "model.summary()"
      ],
      "metadata": {
        "colab": {
          "base_uri": "https://localhost:8080/"
        },
        "id": "j0do6j3Lu9UC",
        "outputId": "079551a1-f0b7-4993-96ec-1173e42200e9"
      },
      "execution_count": 124,
      "outputs": [
        {
          "output_type": "stream",
          "name": "stdout",
          "text": [
            "Model: \"sequential_1\"\n",
            "_________________________________________________________________\n",
            " Layer (type)                Output Shape              Param #   \n",
            "=================================================================\n",
            " vgg16 (Functional)          (None, 7, 7, 512)         14714688  \n",
            "                                                                 \n",
            " global_average_pooling2d_1  (None, 512)               0         \n",
            "  (GlobalAveragePooling2D)                                       \n",
            "                                                                 \n",
            " dropout_2 (Dropout)         (None, 512)               0         \n",
            "                                                                 \n",
            " dense_3 (Dense)             (None, 4096)              2101248   \n",
            "                                                                 \n",
            " dropout_3 (Dropout)         (None, 4096)              0         \n",
            "                                                                 \n",
            " dense_4 (Dense)             (None, 1024)              4195328   \n",
            "                                                                 \n",
            " dense_5 (Dense)             (None, 2)                 2050      \n",
            "                                                                 \n",
            "=================================================================\n",
            "Total params: 21013314 (80.16 MB)\n",
            "Trainable params: 6298626 (24.03 MB)\n",
            "Non-trainable params: 14714688 (56.13 MB)\n",
            "_________________________________________________________________\n"
          ]
        }
      ]
    },
    {
      "cell_type": "code",
      "source": [
        "history = model.fit(X_train, y_train, validation_data = (X_test, y_test), epochs = 100, batch_size = 64, validation_split = 0.1)"
      ],
      "metadata": {
        "colab": {
          "base_uri": "https://localhost:8080/"
        },
        "id": "1k9rI7qyvMCH",
        "outputId": "f3bc1334-5e86-4a76-d05f-c23b38af77da"
      },
      "execution_count": 126,
      "outputs": [
        {
          "output_type": "stream",
          "name": "stdout",
          "text": [
            "Epoch 1/100\n",
            "21/21 [==============================] - 11s 385ms/step - loss: 0.9861 - accuracy: 0.5303 - val_loss: 0.7956 - val_accuracy: 0.4577\n",
            "Epoch 2/100\n",
            "21/21 [==============================] - 7s 319ms/step - loss: 0.8423 - accuracy: 0.5637 - val_loss: 0.7167 - val_accuracy: 0.5450\n",
            "Epoch 3/100\n",
            "21/21 [==============================] - 7s 328ms/step - loss: 0.7748 - accuracy: 0.5964 - val_loss: 0.6329 - val_accuracy: 0.6772\n",
            "Epoch 4/100\n",
            "21/21 [==============================] - 7s 328ms/step - loss: 0.7697 - accuracy: 0.5804 - val_loss: 0.6405 - val_accuracy: 0.6746\n",
            "Epoch 5/100\n",
            "21/21 [==============================] - 8s 383ms/step - loss: 0.7845 - accuracy: 0.5789 - val_loss: 0.6312 - val_accuracy: 0.6481\n",
            "Epoch 6/100\n",
            "21/21 [==============================] - 8s 391ms/step - loss: 0.7490 - accuracy: 0.6024 - val_loss: 0.6710 - val_accuracy: 0.5847\n",
            "Epoch 7/100\n",
            "21/21 [==============================] - 8s 392ms/step - loss: 0.7025 - accuracy: 0.6123 - val_loss: 0.6296 - val_accuracy: 0.6614\n",
            "Epoch 8/100\n",
            "21/21 [==============================] - 8s 396ms/step - loss: 0.7013 - accuracy: 0.6108 - val_loss: 0.6353 - val_accuracy: 0.6481\n",
            "Epoch 9/100\n",
            "21/21 [==============================] - 8s 397ms/step - loss: 0.6881 - accuracy: 0.6275 - val_loss: 0.6267 - val_accuracy: 0.6587\n",
            "Epoch 10/100\n",
            "21/21 [==============================] - 8s 392ms/step - loss: 0.6913 - accuracy: 0.6305 - val_loss: 0.6384 - val_accuracy: 0.6640\n",
            "Epoch 11/100\n",
            "21/21 [==============================] - 7s 335ms/step - loss: 0.6793 - accuracy: 0.6085 - val_loss: 0.6420 - val_accuracy: 0.6667\n",
            "Epoch 12/100\n",
            "21/21 [==============================] - 7s 335ms/step - loss: 0.6782 - accuracy: 0.6297 - val_loss: 0.6447 - val_accuracy: 0.6481\n",
            "Epoch 13/100\n",
            "21/21 [==============================] - 8s 384ms/step - loss: 0.6692 - accuracy: 0.6343 - val_loss: 0.6174 - val_accuracy: 0.6693\n",
            "Epoch 14/100\n",
            "21/21 [==============================] - 7s 333ms/step - loss: 0.6693 - accuracy: 0.6267 - val_loss: 0.6364 - val_accuracy: 0.6825\n",
            "Epoch 15/100\n",
            "21/21 [==============================] - 7s 333ms/step - loss: 0.6502 - accuracy: 0.6388 - val_loss: 0.6353 - val_accuracy: 0.6772\n",
            "Epoch 16/100\n",
            "21/21 [==============================] - 8s 388ms/step - loss: 0.6409 - accuracy: 0.6464 - val_loss: 0.6087 - val_accuracy: 0.6720\n",
            "Epoch 17/100\n",
            "21/21 [==============================] - 8s 390ms/step - loss: 0.6424 - accuracy: 0.6343 - val_loss: 0.6489 - val_accuracy: 0.6429\n",
            "Epoch 18/100\n",
            "21/21 [==============================] - 8s 395ms/step - loss: 0.6490 - accuracy: 0.6548 - val_loss: 0.6867 - val_accuracy: 0.5952\n",
            "Epoch 19/100\n",
            "21/21 [==============================] - 8s 391ms/step - loss: 0.6470 - accuracy: 0.6548 - val_loss: 0.6417 - val_accuracy: 0.6772\n",
            "Epoch 20/100\n",
            "21/21 [==============================] - 8s 390ms/step - loss: 0.6390 - accuracy: 0.6426 - val_loss: 0.6212 - val_accuracy: 0.6746\n",
            "Epoch 21/100\n",
            "21/21 [==============================] - 8s 387ms/step - loss: 0.6322 - accuracy: 0.6548 - val_loss: 0.6424 - val_accuracy: 0.6402\n",
            "Epoch 22/100\n",
            "21/21 [==============================] - 7s 340ms/step - loss: 0.6253 - accuracy: 0.6540 - val_loss: 0.6249 - val_accuracy: 0.6693\n",
            "Epoch 23/100\n",
            "21/21 [==============================] - 8s 388ms/step - loss: 0.6274 - accuracy: 0.6639 - val_loss: 0.6320 - val_accuracy: 0.6614\n",
            "Epoch 24/100\n",
            "21/21 [==============================] - 7s 339ms/step - loss: 0.6243 - accuracy: 0.6662 - val_loss: 0.6106 - val_accuracy: 0.6958\n",
            "Epoch 25/100\n",
            "21/21 [==============================] - 7s 339ms/step - loss: 0.6202 - accuracy: 0.6601 - val_loss: 0.6231 - val_accuracy: 0.6852\n",
            "Epoch 26/100\n",
            "21/21 [==============================] - 8s 389ms/step - loss: 0.6332 - accuracy: 0.6457 - val_loss: 0.6120 - val_accuracy: 0.6852\n",
            "Epoch 27/100\n",
            "21/21 [==============================] - 8s 392ms/step - loss: 0.6166 - accuracy: 0.6745 - val_loss: 0.6693 - val_accuracy: 0.5899\n",
            "Epoch 28/100\n",
            "21/21 [==============================] - 8s 391ms/step - loss: 0.6317 - accuracy: 0.6586 - val_loss: 0.6252 - val_accuracy: 0.6693\n",
            "Epoch 29/100\n",
            "21/21 [==============================] - 8s 390ms/step - loss: 0.6202 - accuracy: 0.6631 - val_loss: 0.6352 - val_accuracy: 0.6640\n",
            "Epoch 30/100\n",
            "21/21 [==============================] - 8s 390ms/step - loss: 0.6016 - accuracy: 0.6882 - val_loss: 0.6129 - val_accuracy: 0.6878\n",
            "Epoch 31/100\n",
            "21/21 [==============================] - 7s 340ms/step - loss: 0.5896 - accuracy: 0.6745 - val_loss: 0.6197 - val_accuracy: 0.6720\n",
            "Epoch 32/100\n",
            "21/21 [==============================] - 8s 389ms/step - loss: 0.5909 - accuracy: 0.6859 - val_loss: 0.6377 - val_accuracy: 0.6561\n",
            "Epoch 33/100\n",
            "21/21 [==============================] - 7s 340ms/step - loss: 0.6163 - accuracy: 0.6707 - val_loss: 0.6555 - val_accuracy: 0.6296\n",
            "Epoch 34/100\n",
            "21/21 [==============================] - 7s 340ms/step - loss: 0.6110 - accuracy: 0.6753 - val_loss: 0.5970 - val_accuracy: 0.6852\n",
            "Epoch 35/100\n",
            "21/21 [==============================] - 8s 391ms/step - loss: 0.6141 - accuracy: 0.6646 - val_loss: 0.6001 - val_accuracy: 0.6693\n",
            "Epoch 36/100\n",
            "21/21 [==============================] - 8s 390ms/step - loss: 0.6101 - accuracy: 0.6783 - val_loss: 0.6110 - val_accuracy: 0.6746\n",
            "Epoch 37/100\n",
            "21/21 [==============================] - 7s 338ms/step - loss: 0.5939 - accuracy: 0.6821 - val_loss: 0.6303 - val_accuracy: 0.6825\n",
            "Epoch 38/100\n",
            "21/21 [==============================] - 8s 387ms/step - loss: 0.5993 - accuracy: 0.6798 - val_loss: 0.6196 - val_accuracy: 0.6772\n",
            "Epoch 39/100\n",
            "21/21 [==============================] - 7s 338ms/step - loss: 0.6072 - accuracy: 0.6684 - val_loss: 0.6051 - val_accuracy: 0.6825\n",
            "Epoch 40/100\n",
            "21/21 [==============================] - 7s 339ms/step - loss: 0.6211 - accuracy: 0.6677 - val_loss: 0.6070 - val_accuracy: 0.6720\n",
            "Epoch 41/100\n",
            "21/21 [==============================] - 7s 356ms/step - loss: 0.5978 - accuracy: 0.6798 - val_loss: 0.6355 - val_accuracy: 0.6508\n",
            "Epoch 42/100\n",
            "21/21 [==============================] - 7s 339ms/step - loss: 0.5931 - accuracy: 0.6798 - val_loss: 0.6125 - val_accuracy: 0.6746\n",
            "Epoch 43/100\n",
            "21/21 [==============================] - 8s 390ms/step - loss: 0.5954 - accuracy: 0.6829 - val_loss: 0.6359 - val_accuracy: 0.6561\n",
            "Epoch 44/100\n",
            "21/21 [==============================] - 7s 339ms/step - loss: 0.5985 - accuracy: 0.6904 - val_loss: 0.6657 - val_accuracy: 0.5926\n",
            "Epoch 45/100\n",
            "21/21 [==============================] - 7s 343ms/step - loss: 0.5872 - accuracy: 0.6882 - val_loss: 0.6105 - val_accuracy: 0.6720\n",
            "Epoch 46/100\n",
            "21/21 [==============================] - 8s 391ms/step - loss: 0.5854 - accuracy: 0.6912 - val_loss: 0.6021 - val_accuracy: 0.6931\n",
            "Epoch 47/100\n",
            "21/21 [==============================] - 8s 390ms/step - loss: 0.5906 - accuracy: 0.7026 - val_loss: 0.6010 - val_accuracy: 0.6746\n",
            "Epoch 48/100\n",
            "21/21 [==============================] - 8s 389ms/step - loss: 0.6044 - accuracy: 0.6836 - val_loss: 0.5936 - val_accuracy: 0.6852\n",
            "Epoch 49/100\n",
            "21/21 [==============================] - 7s 341ms/step - loss: 0.5895 - accuracy: 0.6859 - val_loss: 0.6473 - val_accuracy: 0.6243\n",
            "Epoch 50/100\n",
            "21/21 [==============================] - 8s 389ms/step - loss: 0.5839 - accuracy: 0.6988 - val_loss: 0.6029 - val_accuracy: 0.7011\n",
            "Epoch 51/100\n",
            "21/21 [==============================] - 8s 391ms/step - loss: 0.6015 - accuracy: 0.6737 - val_loss: 0.6051 - val_accuracy: 0.6825\n",
            "Epoch 52/100\n",
            "21/21 [==============================] - 8s 396ms/step - loss: 0.5762 - accuracy: 0.7003 - val_loss: 0.6008 - val_accuracy: 0.6931\n",
            "Epoch 53/100\n",
            "21/21 [==============================] - 8s 392ms/step - loss: 0.5880 - accuracy: 0.6897 - val_loss: 0.5974 - val_accuracy: 0.6958\n",
            "Epoch 54/100\n",
            "21/21 [==============================] - 8s 391ms/step - loss: 0.5911 - accuracy: 0.6700 - val_loss: 0.5932 - val_accuracy: 0.6905\n",
            "Epoch 55/100\n",
            "21/21 [==============================] - 7s 350ms/step - loss: 0.5751 - accuracy: 0.7071 - val_loss: 0.6054 - val_accuracy: 0.6852\n",
            "Epoch 56/100\n",
            "21/21 [==============================] - 8s 391ms/step - loss: 0.5755 - accuracy: 0.6965 - val_loss: 0.5938 - val_accuracy: 0.6878\n",
            "Epoch 57/100\n",
            "21/21 [==============================] - 7s 340ms/step - loss: 0.5710 - accuracy: 0.6973 - val_loss: 0.6025 - val_accuracy: 0.6878\n",
            "Epoch 58/100\n",
            "21/21 [==============================] - 8s 391ms/step - loss: 0.5694 - accuracy: 0.7033 - val_loss: 0.6339 - val_accuracy: 0.6640\n",
            "Epoch 59/100\n",
            "21/21 [==============================] - 8s 398ms/step - loss: 0.5835 - accuracy: 0.6950 - val_loss: 0.6158 - val_accuracy: 0.6772\n",
            "Epoch 60/100\n",
            "21/21 [==============================] - 8s 396ms/step - loss: 0.5806 - accuracy: 0.6904 - val_loss: 0.5949 - val_accuracy: 0.6799\n",
            "Epoch 61/100\n",
            "21/21 [==============================] - 8s 392ms/step - loss: 0.5560 - accuracy: 0.7170 - val_loss: 0.6161 - val_accuracy: 0.6799\n",
            "Epoch 62/100\n",
            "21/21 [==============================] - 8s 389ms/step - loss: 0.5736 - accuracy: 0.6912 - val_loss: 0.5962 - val_accuracy: 0.6958\n",
            "Epoch 63/100\n",
            "21/21 [==============================] - 8s 392ms/step - loss: 0.5676 - accuracy: 0.7018 - val_loss: 0.5935 - val_accuracy: 0.6693\n",
            "Epoch 64/100\n",
            "21/21 [==============================] - 7s 339ms/step - loss: 0.5702 - accuracy: 0.7033 - val_loss: 0.6061 - val_accuracy: 0.6693\n",
            "Epoch 65/100\n",
            "21/21 [==============================] - 8s 392ms/step - loss: 0.5746 - accuracy: 0.7026 - val_loss: 0.6363 - val_accuracy: 0.6376\n",
            "Epoch 66/100\n",
            "21/21 [==============================] - 8s 392ms/step - loss: 0.5761 - accuracy: 0.6935 - val_loss: 0.6151 - val_accuracy: 0.6878\n",
            "Epoch 67/100\n",
            "21/21 [==============================] - 7s 341ms/step - loss: 0.5641 - accuracy: 0.6995 - val_loss: 0.5909 - val_accuracy: 0.7090\n",
            "Epoch 68/100\n",
            "21/21 [==============================] - 7s 339ms/step - loss: 0.5615 - accuracy: 0.7094 - val_loss: 0.5918 - val_accuracy: 0.7011\n",
            "Epoch 69/100\n",
            "21/21 [==============================] - 8s 388ms/step - loss: 0.5659 - accuracy: 0.7124 - val_loss: 0.5906 - val_accuracy: 0.7063\n",
            "Epoch 70/100\n",
            "21/21 [==============================] - 8s 390ms/step - loss: 0.5619 - accuracy: 0.6973 - val_loss: 0.5864 - val_accuracy: 0.6958\n",
            "Epoch 71/100\n",
            "21/21 [==============================] - 7s 340ms/step - loss: 0.5664 - accuracy: 0.7033 - val_loss: 0.5873 - val_accuracy: 0.7011\n",
            "Epoch 72/100\n",
            "21/21 [==============================] - 8s 390ms/step - loss: 0.5610 - accuracy: 0.7109 - val_loss: 0.5866 - val_accuracy: 0.6931\n",
            "Epoch 73/100\n",
            "21/21 [==============================] - 8s 389ms/step - loss: 0.5420 - accuracy: 0.7314 - val_loss: 0.6172 - val_accuracy: 0.6878\n",
            "Epoch 74/100\n",
            "21/21 [==============================] - 7s 341ms/step - loss: 0.5590 - accuracy: 0.7140 - val_loss: 0.6119 - val_accuracy: 0.6958\n",
            "Epoch 75/100\n",
            "21/21 [==============================] - 8s 388ms/step - loss: 0.5574 - accuracy: 0.7033 - val_loss: 0.5962 - val_accuracy: 0.7063\n",
            "Epoch 76/100\n",
            "21/21 [==============================] - 7s 352ms/step - loss: 0.5665 - accuracy: 0.6973 - val_loss: 0.6136 - val_accuracy: 0.6746\n",
            "Epoch 77/100\n",
            "21/21 [==============================] - 8s 392ms/step - loss: 0.5376 - accuracy: 0.7140 - val_loss: 0.5987 - val_accuracy: 0.6825\n",
            "Epoch 78/100\n",
            "21/21 [==============================] - 8s 390ms/step - loss: 0.5437 - accuracy: 0.7261 - val_loss: 0.5919 - val_accuracy: 0.6931\n",
            "Epoch 79/100\n",
            "21/21 [==============================] - 8s 389ms/step - loss: 0.5527 - accuracy: 0.7147 - val_loss: 0.6003 - val_accuracy: 0.6799\n",
            "Epoch 80/100\n",
            "21/21 [==============================] - 8s 389ms/step - loss: 0.5384 - accuracy: 0.7147 - val_loss: 0.6052 - val_accuracy: 0.6746\n",
            "Epoch 81/100\n",
            "21/21 [==============================] - 8s 392ms/step - loss: 0.5546 - accuracy: 0.7056 - val_loss: 0.5949 - val_accuracy: 0.6984\n",
            "Epoch 82/100\n",
            "21/21 [==============================] - 7s 357ms/step - loss: 0.5547 - accuracy: 0.7041 - val_loss: 0.5895 - val_accuracy: 0.7169\n",
            "Epoch 83/100\n",
            "21/21 [==============================] - 8s 393ms/step - loss: 0.5539 - accuracy: 0.7049 - val_loss: 0.5803 - val_accuracy: 0.6958\n",
            "Epoch 84/100\n",
            "21/21 [==============================] - 7s 342ms/step - loss: 0.5287 - accuracy: 0.7344 - val_loss: 0.5884 - val_accuracy: 0.6905\n",
            "Epoch 85/100\n",
            "21/21 [==============================] - 8s 391ms/step - loss: 0.5546 - accuracy: 0.7094 - val_loss: 0.6044 - val_accuracy: 0.6931\n",
            "Epoch 86/100\n",
            "21/21 [==============================] - 8s 395ms/step - loss: 0.5649 - accuracy: 0.7079 - val_loss: 0.6141 - val_accuracy: 0.6958\n",
            "Epoch 87/100\n",
            "21/21 [==============================] - 8s 390ms/step - loss: 0.5247 - accuracy: 0.7367 - val_loss: 0.5948 - val_accuracy: 0.7037\n",
            "Epoch 88/100\n",
            "21/21 [==============================] - 7s 340ms/step - loss: 0.5361 - accuracy: 0.7155 - val_loss: 0.6003 - val_accuracy: 0.7063\n",
            "Epoch 89/100\n",
            "21/21 [==============================] - 7s 339ms/step - loss: 0.5252 - accuracy: 0.7337 - val_loss: 0.5955 - val_accuracy: 0.6984\n",
            "Epoch 90/100\n",
            "21/21 [==============================] - 8s 388ms/step - loss: 0.5252 - accuracy: 0.7375 - val_loss: 0.5919 - val_accuracy: 0.6931\n",
            "Epoch 91/100\n",
            "21/21 [==============================] - 7s 341ms/step - loss: 0.5435 - accuracy: 0.7291 - val_loss: 0.5952 - val_accuracy: 0.7037\n",
            "Epoch 92/100\n",
            "21/21 [==============================] - 8s 388ms/step - loss: 0.5227 - accuracy: 0.7398 - val_loss: 0.5923 - val_accuracy: 0.7011\n",
            "Epoch 93/100\n",
            "21/21 [==============================] - 7s 339ms/step - loss: 0.5450 - accuracy: 0.7231 - val_loss: 0.5844 - val_accuracy: 0.6984\n",
            "Epoch 94/100\n",
            "21/21 [==============================] - 8s 389ms/step - loss: 0.5355 - accuracy: 0.7223 - val_loss: 0.6100 - val_accuracy: 0.7011\n",
            "Epoch 95/100\n",
            "21/21 [==============================] - 7s 341ms/step - loss: 0.5231 - accuracy: 0.7344 - val_loss: 0.6147 - val_accuracy: 0.6746\n",
            "Epoch 96/100\n",
            "21/21 [==============================] - 8s 388ms/step - loss: 0.5108 - accuracy: 0.7489 - val_loss: 0.5785 - val_accuracy: 0.7116\n",
            "Epoch 97/100\n",
            "21/21 [==============================] - 8s 391ms/step - loss: 0.5243 - accuracy: 0.7360 - val_loss: 0.6027 - val_accuracy: 0.7011\n",
            "Epoch 98/100\n",
            "21/21 [==============================] - 8s 389ms/step - loss: 0.5164 - accuracy: 0.7443 - val_loss: 0.6072 - val_accuracy: 0.6878\n",
            "Epoch 99/100\n",
            "21/21 [==============================] - 8s 391ms/step - loss: 0.5117 - accuracy: 0.7185 - val_loss: 0.6005 - val_accuracy: 0.6931\n",
            "Epoch 100/100\n",
            "21/21 [==============================] - 8s 391ms/step - loss: 0.5126 - accuracy: 0.7496 - val_loss: 0.5855 - val_accuracy: 0.6905\n"
          ]
        }
      ]
    },
    {
      "cell_type": "code",
      "source": [
        "acc = history.history['accuracy']\n",
        "val_acc = history.history['val_accuracy']\n",
        "loss = history.history['loss']\n",
        "val_loss = history.history['val_loss']\n",
        "\n",
        "epochs = range(1, len(acc) + 1)\n",
        "\n",
        "plt.plot(epochs, acc, 'bo', label='Training acc')\n",
        "plt.plot(epochs, val_acc, 'b', label='Validation acc')\n",
        "plt.title('Training and Validation Accuracy')\n",
        "plt.legend()\n",
        "\n",
        "plt.figure()\n",
        "\n",
        "plt.plot(epochs, loss, 'bo', label='Training loss')\n",
        "plt.plot(epochs, val_loss, 'b', label='Validation loss')\n",
        "plt.title('Training and Validation Loss')\n",
        "plt.legend()\n",
        "\n",
        "plt.show()"
      ],
      "metadata": {
        "colab": {
          "base_uri": "https://localhost:8080/",
          "height": 887
        },
        "id": "ALj0VSgXhfcr",
        "outputId": "b9363b9b-e378-469f-de2b-2ea2f4fbf518"
      },
      "execution_count": 127,
      "outputs": [
        {
          "output_type": "display_data",
          "data": {
            "text/plain": [
              "<Figure size 640x480 with 1 Axes>"
            ],
            "image/png": "[encoded data removed]"
          },
          "metadata": {}
        },
        {
          "output_type": "display_data",
          "data": {
            "text/plain": [
              "<Figure size 640x480 with 1 Axes>"
            ],
            "image/png": "[encoded data removed]"
          },
          "metadata": {}
        }
      ]
    },
    {
      "cell_type": "code",
      "source": [
        "test_loss, test_acc = model.evaluate(X_test,y_test)\n",
        "print(\"test_loss: %s, test_acc: %s\" %(np.round(test_loss,3), np.round(test_acc,3)))"
      ],
      "metadata": {
        "colab": {
          "base_uri": "https://localhost:8080/"
        },
        "id": "Y_Qb8SQGVv-R",
        "outputId": "9fc567a1-0706-49a7-f532-22fb2d6099c5"
      },
      "execution_count": 130,
      "outputs": [
        {
          "output_type": "stream",
          "name": "stdout",
          "text": [
            "12/12 [==============================] - 2s 126ms/step - loss: 0.5855 - accuracy: 0.6905\n",
            "test_loss: 0.585, test_acc: 0.69\n"
          ]
        }
      ]
    },
    {
      "cell_type": "code",
      "source": [
        "Y_pred = model.predict(X_test)\n",
        "Y_pred_classes = np.argmax(Y_pred,axis = 1)\n",
        "Y_true = np.argmax(y_test,axis = 1)\n",
        "\n",
        "confusion_mtx = confusion_matrix(Y_true, Y_pred_classes)\n",
        "f,ax = plt.subplots(figsize=(5, 4))\n",
        "sns.heatmap(confusion_mtx, annot=True, linewidths=0.01,cmap=\"BuPu\",linecolor=\"gray\", fmt= '.1f',ax=ax)\n",
        "plt.xlabel(\"Predicted Label\")\n",
        "plt.ylabel(\"True Label\")\n",
        "plt.title(\"Confusion Matrix Mass Cancer Case\")\n",
        "plt.show()"
      ],
      "metadata": {
        "colab": {
          "base_uri": "https://localhost:8080/",
          "height": 427
        },
        "id": "M3BumwWGV6nT",
        "outputId": "8a887fcd-dd60-43a4-dee2-cb26d22b5f03"
      },
      "execution_count": 129,
      "outputs": [
        {
          "output_type": "stream",
          "name": "stdout",
          "text": [
            "12/12 [==============================] - 2s 127ms/step\n"
          ]
        },
        {
          "output_type": "display_data",
          "data": {
            "text/plain": [
              "<Figure size 500x400 with 2 Axes>"
            ],
            "image/png": "[encoded data removed]"
          },
          "metadata": {}
        }
      ]
    },
    {
      "cell_type": "markdown",
      "source": [
        "#Calcification Cancer Case CNN Model VGG16"
      ],
      "metadata": {
        "id": "AKLs0NCCg6IM"
      }
    },
    {
      "cell_type": "code",
      "source": [
        "# Use of multi-threading to read files concurrently\n",
        "tic = time.perf_counter()\n",
        "(X_train, y_train) = get_images_result(calc_train_data_shuffled)\n",
        "(X_test, y_test) = get_images_result(calc_test_data_shuffled)\n",
        "toc = time.perf_counter()\n",
        "print(f\"Uploading the images and resizing in {toc - tic:0.4f} seconds\")\n",
        "\n",
        "print('X_train shape : {}' .format(X_train.shape))\n",
        "print('y_train shape : {}' .format(y_train.shape))\n",
        "print('X_test shape : {}' .format(X_test.shape))\n",
        "print('y_test shape : {}' .format(y_test.shape))"
      ],
      "metadata": {
        "colab": {
          "base_uri": "https://localhost:8080/",
          "height": 390
        },
        "id": "jRifNGQsg_sr",
        "outputId": "df39f415-4726-486b-a873-4d29c21c2c9f"
      },
      "execution_count": 131,
      "outputs": [
        {
          "output_type": "error",
          "ename": "error",
          "evalue": "ignored",
          "traceback": [
            "\u001b[0;31m---------------------------------------------------------------------------\u001b[0m",
            "\u001b[0;31merror\u001b[0m                                     Traceback (most recent call last)",
            "\u001b[0;32m<ipython-input-131-996d82884826>\u001b[0m in \u001b[0;36m<cell line: 3>\u001b[0;34m()\u001b[0m\n\u001b[1;32m      1\u001b[0m \u001b[0;31m# Use of multi-threading to read files concurrently\u001b[0m\u001b[0;34m\u001b[0m\u001b[0;34m\u001b[0m\u001b[0m\n\u001b[1;32m      2\u001b[0m \u001b[0mtic\u001b[0m \u001b[0;34m=\u001b[0m \u001b[0mtime\u001b[0m\u001b[0;34m.\u001b[0m\u001b[0mperf_counter\u001b[0m\u001b[0;34m(\u001b[0m\u001b[0;34m)\u001b[0m\u001b[0;34m\u001b[0m\u001b[0;34m\u001b[0m\u001b[0m\n\u001b[0;32m----> 3\u001b[0;31m \u001b[0;34m(\u001b[0m\u001b[0mX_train\u001b[0m\u001b[0;34m,\u001b[0m \u001b[0my_train\u001b[0m\u001b[0;34m)\u001b[0m \u001b[0;34m=\u001b[0m \u001b[0mget_images_result\u001b[0m\u001b[0;34m(\u001b[0m\u001b[0mcalc_train_data_shuffled\u001b[0m\u001b[0;34m)\u001b[0m\u001b[0;34m\u001b[0m\u001b[0;34m\u001b[0m\u001b[0m\n\u001b[0m\u001b[1;32m      4\u001b[0m \u001b[0;34m(\u001b[0m\u001b[0mX_test\u001b[0m\u001b[0;34m,\u001b[0m \u001b[0my_test\u001b[0m\u001b[0;34m)\u001b[0m \u001b[0;34m=\u001b[0m \u001b[0mget_images_result\u001b[0m\u001b[0;34m(\u001b[0m\u001b[0mcalc_test_data_shuffled\u001b[0m\u001b[0;34m)\u001b[0m\u001b[0;34m\u001b[0m\u001b[0;34m\u001b[0m\u001b[0m\n\u001b[1;32m      5\u001b[0m \u001b[0mtoc\u001b[0m \u001b[0;34m=\u001b[0m \u001b[0mtime\u001b[0m\u001b[0;34m.\u001b[0m\u001b[0mperf_counter\u001b[0m\u001b[0;34m(\u001b[0m\u001b[0;34m)\u001b[0m\u001b[0;34m\u001b[0m\u001b[0;34m\u001b[0m\u001b[0m\n",
            "\u001b[0;32m<ipython-input-120-45bde87c2f55>\u001b[0m in \u001b[0;36mget_images_result\u001b[0;34m(dataset)\u001b[0m\n\u001b[1;32m      1\u001b[0m \u001b[0;32mdef\u001b[0m \u001b[0mget_images_result\u001b[0m\u001b[0;34m(\u001b[0m\u001b[0mdataset\u001b[0m\u001b[0;34m)\u001b[0m\u001b[0;34m:\u001b[0m\u001b[0;34m\u001b[0m\u001b[0;34m\u001b[0m\u001b[0m\n\u001b[1;32m      2\u001b[0m     \u001b[0;32mwith\u001b[0m \u001b[0mThreadPoolExecutor\u001b[0m\u001b[0;34m(\u001b[0m\u001b[0;34m)\u001b[0m \u001b[0;32mas\u001b[0m \u001b[0mexecutor\u001b[0m\u001b[0;34m:\u001b[0m\u001b[0;34m\u001b[0m\u001b[0;34m\u001b[0m\u001b[0m\n\u001b[0;32m----> 3\u001b[0;31m         \u001b[0mimages\u001b[0m \u001b[0;34m=\u001b[0m \u001b[0mnp\u001b[0m\u001b[0;34m.\u001b[0m\u001b[0marray\u001b[0m\u001b[0;34m(\u001b[0m\u001b[0mlist\u001b[0m\u001b[0;34m(\u001b[0m\u001b[0mexecutor\u001b[0m\u001b[0;34m.\u001b[0m\u001b[0mmap\u001b[0m\u001b[0;34m(\u001b[0m\u001b[0mload_image\u001b[0m\u001b[0;34m,\u001b[0m \u001b[0mdataset\u001b[0m\u001b[0;34m.\u001b[0m\u001b[0mloc\u001b[0m\u001b[0;34m[\u001b[0m\u001b[0;34m:\u001b[0m\u001b[0;34m]\u001b[0m\u001b[0;34m[\u001b[0m\u001b[0;34m'image file path'\u001b[0m\u001b[0;34m]\u001b[0m\u001b[0;34m)\u001b[0m\u001b[0;34m)\u001b[0m\u001b[0;34m)\u001b[0m\u001b[0;34m\u001b[0m\u001b[0;34m\u001b[0m\u001b[0m\n\u001b[0m\u001b[1;32m      4\u001b[0m         \u001b[0mresult\u001b[0m \u001b[0;34m=\u001b[0m \u001b[0mnp\u001b[0m\u001b[0;34m.\u001b[0m\u001b[0marray\u001b[0m\u001b[0;34m(\u001b[0m\u001b[0mlist\u001b[0m\u001b[0;34m(\u001b[0m\u001b[0mexecutor\u001b[0m\u001b[0;34m.\u001b[0m\u001b[0mmap\u001b[0m\u001b[0;34m(\u001b[0m\u001b[0mget_pathology\u001b[0m\u001b[0;34m,\u001b[0m \u001b[0mdataset\u001b[0m\u001b[0;34m.\u001b[0m\u001b[0mloc\u001b[0m\u001b[0;34m[\u001b[0m\u001b[0;34m:\u001b[0m\u001b[0;34m]\u001b[0m\u001b[0;34m[\u001b[0m\u001b[0;34m'pathology'\u001b[0m\u001b[0;34m]\u001b[0m\u001b[0;34m)\u001b[0m\u001b[0;34m)\u001b[0m\u001b[0;34m)\u001b[0m\u001b[0;34m\u001b[0m\u001b[0;34m\u001b[0m\u001b[0m\n\u001b[1;32m      5\u001b[0m     \u001b[0mresult\u001b[0m \u001b[0;34m=\u001b[0m \u001b[0mto_categorical\u001b[0m\u001b[0;34m(\u001b[0m\u001b[0mresult\u001b[0m\u001b[0;34m)\u001b[0m\u001b[0;34m\u001b[0m\u001b[0;34m\u001b[0m\u001b[0m\n",
            "\u001b[0;32m/usr/lib/python3.10/concurrent/futures/_base.py\u001b[0m in \u001b[0;36mresult_iterator\u001b[0;34m()\u001b[0m\n\u001b[1;32m    619\u001b[0m                     \u001b[0;31m# Careful not to keep a reference to the popped future\u001b[0m\u001b[0;34m\u001b[0m\u001b[0;34m\u001b[0m\u001b[0m\n\u001b[1;32m    620\u001b[0m                     \u001b[0;32mif\u001b[0m \u001b[0mtimeout\u001b[0m \u001b[0;32mis\u001b[0m \u001b[0;32mNone\u001b[0m\u001b[0;34m:\u001b[0m\u001b[0;34m\u001b[0m\u001b[0;34m\u001b[0m\u001b[0m\n\u001b[0;32m--> 621\u001b[0;31m                         \u001b[0;32myield\u001b[0m \u001b[0m_result_or_cancel\u001b[0m\u001b[0;34m(\u001b[0m\u001b[0mfs\u001b[0m\u001b[0;34m.\u001b[0m\u001b[0mpop\u001b[0m\u001b[0;34m(\u001b[0m\u001b[0;34m)\u001b[0m\u001b[0;34m)\u001b[0m\u001b[0;34m\u001b[0m\u001b[0;34m\u001b[0m\u001b[0m\n\u001b[0m\u001b[1;32m    622\u001b[0m                     \u001b[0;32melse\u001b[0m\u001b[0;34m:\u001b[0m\u001b[0;34m\u001b[0m\u001b[0;34m\u001b[0m\u001b[0m\n\u001b[1;32m    623\u001b[0m                         \u001b[0;32myield\u001b[0m \u001b[0m_result_or_cancel\u001b[0m\u001b[0;34m(\u001b[0m\u001b[0mfs\u001b[0m\u001b[0;34m.\u001b[0m\u001b[0mpop\u001b[0m\u001b[0;34m(\u001b[0m\u001b[0;34m)\u001b[0m\u001b[0;34m,\u001b[0m \u001b[0mend_time\u001b[0m \u001b[0;34m-\u001b[0m \u001b[0mtime\u001b[0m\u001b[0;34m.\u001b[0m\u001b[0mmonotonic\u001b[0m\u001b[0;34m(\u001b[0m\u001b[0;34m)\u001b[0m\u001b[0;34m)\u001b[0m\u001b[0;34m\u001b[0m\u001b[0;34m\u001b[0m\u001b[0m\n",
            "\u001b[0;32m/usr/lib/python3.10/concurrent/futures/_base.py\u001b[0m in \u001b[0;36m_result_or_cancel\u001b[0;34m(***failed resolving arguments***)\u001b[0m\n\u001b[1;32m    317\u001b[0m     \u001b[0;32mtry\u001b[0m\u001b[0;34m:\u001b[0m\u001b[0;34m\u001b[0m\u001b[0;34m\u001b[0m\u001b[0m\n\u001b[1;32m    318\u001b[0m         \u001b[0;32mtry\u001b[0m\u001b[0;34m:\u001b[0m\u001b[0;34m\u001b[0m\u001b[0;34m\u001b[0m\u001b[0m\n\u001b[0;32m--> 319\u001b[0;31m             \u001b[0;32mreturn\u001b[0m \u001b[0mfut\u001b[0m\u001b[0;34m.\u001b[0m\u001b[0mresult\u001b[0m\u001b[0;34m(\u001b[0m\u001b[0mtimeout\u001b[0m\u001b[0;34m)\u001b[0m\u001b[0;34m\u001b[0m\u001b[0;34m\u001b[0m\u001b[0m\n\u001b[0m\u001b[1;32m    320\u001b[0m         \u001b[0;32mfinally\u001b[0m\u001b[0;34m:\u001b[0m\u001b[0;34m\u001b[0m\u001b[0;34m\u001b[0m\u001b[0m\n\u001b[1;32m    321\u001b[0m             \u001b[0mfut\u001b[0m\u001b[0;34m.\u001b[0m\u001b[0mcancel\u001b[0m\u001b[0;34m(\u001b[0m\u001b[0;34m)\u001b[0m\u001b[0;34m\u001b[0m\u001b[0;34m\u001b[0m\u001b[0m\n",
            "\u001b[0;32m/usr/lib/python3.10/concurrent/futures/_base.py\u001b[0m in \u001b[0;36mresult\u001b[0;34m(self, timeout)\u001b[0m\n\u001b[1;32m    456\u001b[0m                     \u001b[0;32mraise\u001b[0m \u001b[0mCancelledError\u001b[0m\u001b[0;34m(\u001b[0m\u001b[0;34m)\u001b[0m\u001b[0;34m\u001b[0m\u001b[0;34m\u001b[0m\u001b[0m\n\u001b[1;32m    457\u001b[0m                 \u001b[0;32melif\u001b[0m \u001b[0mself\u001b[0m\u001b[0;34m.\u001b[0m\u001b[0m_state\u001b[0m \u001b[0;34m==\u001b[0m \u001b[0mFINISHED\u001b[0m\u001b[0;34m:\u001b[0m\u001b[0;34m\u001b[0m\u001b[0;34m\u001b[0m\u001b[0m\n\u001b[0;32m--> 458\u001b[0;31m                     \u001b[0;32mreturn\u001b[0m \u001b[0mself\u001b[0m\u001b[0;34m.\u001b[0m\u001b[0m__get_result\u001b[0m\u001b[0;34m(\u001b[0m\u001b[0;34m)\u001b[0m\u001b[0;34m\u001b[0m\u001b[0;34m\u001b[0m\u001b[0m\n\u001b[0m\u001b[1;32m    459\u001b[0m                 \u001b[0;32melse\u001b[0m\u001b[0;34m:\u001b[0m\u001b[0;34m\u001b[0m\u001b[0;34m\u001b[0m\u001b[0m\n\u001b[1;32m    460\u001b[0m                     \u001b[0;32mraise\u001b[0m \u001b[0mTimeoutError\u001b[0m\u001b[0;34m(\u001b[0m\u001b[0;34m)\u001b[0m\u001b[0;34m\u001b[0m\u001b[0;34m\u001b[0m\u001b[0m\n",
            "\u001b[0;32m/usr/lib/python3.10/concurrent/futures/_base.py\u001b[0m in \u001b[0;36m__get_result\u001b[0;34m(self)\u001b[0m\n\u001b[1;32m    401\u001b[0m         \u001b[0;32mif\u001b[0m \u001b[0mself\u001b[0m\u001b[0;34m.\u001b[0m\u001b[0m_exception\u001b[0m\u001b[0;34m:\u001b[0m\u001b[0;34m\u001b[0m\u001b[0;34m\u001b[0m\u001b[0m\n\u001b[1;32m    402\u001b[0m             \u001b[0;32mtry\u001b[0m\u001b[0;34m:\u001b[0m\u001b[0;34m\u001b[0m\u001b[0;34m\u001b[0m\u001b[0m\n\u001b[0;32m--> 403\u001b[0;31m                 \u001b[0;32mraise\u001b[0m \u001b[0mself\u001b[0m\u001b[0;34m.\u001b[0m\u001b[0m_exception\u001b[0m\u001b[0;34m\u001b[0m\u001b[0;34m\u001b[0m\u001b[0m\n\u001b[0m\u001b[1;32m    404\u001b[0m             \u001b[0;32mfinally\u001b[0m\u001b[0;34m:\u001b[0m\u001b[0;34m\u001b[0m\u001b[0;34m\u001b[0m\u001b[0m\n\u001b[1;32m    405\u001b[0m                 \u001b[0;31m# Break a reference cycle with the exception in self._exception\u001b[0m\u001b[0;34m\u001b[0m\u001b[0;34m\u001b[0m\u001b[0m\n",
            "\u001b[0;32m/usr/lib/python3.10/concurrent/futures/thread.py\u001b[0m in \u001b[0;36mrun\u001b[0;34m(self)\u001b[0m\n\u001b[1;32m     56\u001b[0m \u001b[0;34m\u001b[0m\u001b[0m\n\u001b[1;32m     57\u001b[0m         \u001b[0;32mtry\u001b[0m\u001b[0;34m:\u001b[0m\u001b[0;34m\u001b[0m\u001b[0;34m\u001b[0m\u001b[0m\n\u001b[0;32m---> 58\u001b[0;31m             \u001b[0mresult\u001b[0m \u001b[0;34m=\u001b[0m \u001b[0mself\u001b[0m\u001b[0;34m.\u001b[0m\u001b[0mfn\u001b[0m\u001b[0;34m(\u001b[0m\u001b[0;34m*\u001b[0m\u001b[0mself\u001b[0m\u001b[0;34m.\u001b[0m\u001b[0margs\u001b[0m\u001b[0;34m,\u001b[0m \u001b[0;34m**\u001b[0m\u001b[0mself\u001b[0m\u001b[0;34m.\u001b[0m\u001b[0mkwargs\u001b[0m\u001b[0;34m)\u001b[0m\u001b[0;34m\u001b[0m\u001b[0;34m\u001b[0m\u001b[0m\n\u001b[0m\u001b[1;32m     59\u001b[0m         \u001b[0;32mexcept\u001b[0m \u001b[0mBaseException\u001b[0m \u001b[0;32mas\u001b[0m \u001b[0mexc\u001b[0m\u001b[0;34m:\u001b[0m\u001b[0;34m\u001b[0m\u001b[0;34m\u001b[0m\u001b[0m\n\u001b[1;32m     60\u001b[0m             \u001b[0mself\u001b[0m\u001b[0;34m.\u001b[0m\u001b[0mfuture\u001b[0m\u001b[0;34m.\u001b[0m\u001b[0mset_exception\u001b[0m\u001b[0;34m(\u001b[0m\u001b[0mexc\u001b[0m\u001b[0;34m)\u001b[0m\u001b[0;34m\u001b[0m\u001b[0;34m\u001b[0m\u001b[0m\n",
            "\u001b[0;32m<ipython-input-119-9a570958277f>\u001b[0m in \u001b[0;36mload_image\u001b[0;34m(img)\u001b[0m\n\u001b[1;32m      1\u001b[0m \u001b[0;32mdef\u001b[0m \u001b[0mload_image\u001b[0m\u001b[0;34m(\u001b[0m\u001b[0mimg\u001b[0m\u001b[0;34m)\u001b[0m\u001b[0;34m:\u001b[0m\u001b[0;34m\u001b[0m\u001b[0;34m\u001b[0m\u001b[0m\n\u001b[1;32m      2\u001b[0m     \u001b[0mc_img\u001b[0m \u001b[0;34m=\u001b[0m \u001b[0mcv2\u001b[0m\u001b[0;34m.\u001b[0m\u001b[0mimread\u001b[0m\u001b[0;34m(\u001b[0m\u001b[0mimg\u001b[0m\u001b[0;34m,\u001b[0m \u001b[0mcv2\u001b[0m\u001b[0;34m.\u001b[0m\u001b[0mIMREAD_COLOR\u001b[0m\u001b[0;34m)\u001b[0m\u001b[0;34m\u001b[0m\u001b[0;34m\u001b[0m\u001b[0m\n\u001b[0;32m----> 3\u001b[0;31m     \u001b[0mc_img_size\u001b[0m \u001b[0;34m=\u001b[0m \u001b[0mcv2\u001b[0m\u001b[0;34m.\u001b[0m\u001b[0mresize\u001b[0m\u001b[0;34m(\u001b[0m\u001b[0mc_img\u001b[0m\u001b[0;34m,\u001b[0m \u001b[0;34m(\u001b[0m\u001b[0;36m224\u001b[0m\u001b[0;34m,\u001b[0m \u001b[0;36m224\u001b[0m\u001b[0;34m)\u001b[0m\u001b[0;34m,\u001b[0m \u001b[0minterpolation\u001b[0m \u001b[0;34m=\u001b[0m \u001b[0mcv2\u001b[0m\u001b[0;34m.\u001b[0m\u001b[0mINTER_LINEAR\u001b[0m\u001b[0;34m)\u001b[0m\u001b[0;34m\u001b[0m\u001b[0;34m\u001b[0m\u001b[0m\n\u001b[0m\u001b[1;32m      4\u001b[0m     \u001b[0;32mreturn\u001b[0m \u001b[0mc_img_size\u001b[0m\u001b[0;34m\u001b[0m\u001b[0;34m\u001b[0m\u001b[0m\n\u001b[1;32m      5\u001b[0m \u001b[0;34m\u001b[0m\u001b[0m\n",
            "\u001b[0;31merror\u001b[0m: OpenCV(4.8.0) /io/opencv/modules/imgproc/src/resize.cpp:4062: error: (-215:Assertion failed) !ssize.empty() in function 'resize'\n"
          ]
        }
      ]
    },
    {
      "cell_type": "code",
      "source": [
        "base_model = tf.keras.applications.vgg16.VGG16(\n",
        "    weights = 'imagenet',\n",
        "    include_top = False,\n",
        "    input_shape = (224, 224, 3)\n",
        ")\n",
        "\n",
        "for layer in base_model.layers:\n",
        "    layer.trainable = False\n",
        "\n",
        "model = tf.keras.Sequential()\n",
        "model.add(base_model)\n",
        "model.add(tf.keras.layers.GlobalAveragePooling2D())\n",
        "model.add(tf.keras.layers.Dropout(0.5))\n",
        "model.add(tf.keras.layers.Dense(4096, activation = 'relu'))\n",
        "model.add(tf.keras.layers.Dropout(0.5))\n",
        "model.add(tf.keras.layers.Dense(1024, activation = 'relu'))\n",
        "model.add(tf.keras.layers.Dense(2, activation = 'softmax'))\n",
        "\n",
        "learningRate = 0.0001\n",
        "adam_opt = tf.keras.optimizers.Adam(learning_rate = learningRate)\n",
        "model.compile(optimizer = adam_opt, loss='binary_crossentropy',metrics=['accuracy'])\n",
        "\n",
        "model.summary()"
      ],
      "metadata": {
        "id": "WDcf24D6hHDq"
      },
      "execution_count": null,
      "outputs": []
    },
    {
      "cell_type": "code",
      "source": [
        "model.evaluate(X_test,y_test)"
      ],
      "metadata": {
        "id": "-5c7xwhQhKv1"
      },
      "execution_count": null,
      "outputs": []
    },
    {
      "cell_type": "code",
      "source": [
        "Y_pred = model.predict(X_test)\n",
        "Y_pred_classes = np.argmax(Y_pred,axis = 1)\n",
        "Y_true = np.argmax(y_test,axis = 1)\n",
        "\n",
        "confusion_mtx = confusion_matrix(Y_true, Y_pred_classes)\n",
        "f,ax = plt.subplots(figsize=(5, 4))\n",
        "sns.heatmap(confusion_mtx, annot=True, linewidths=0.01,cmap=\"BuPu\",linecolor=\"gray\", fmt= '.1f',ax=ax)\n",
        "plt.xlabel(\"Predicted Label\")\n",
        "plt.ylabel(\"True Label\")\n",
        "plt.title(\"Confusion Matrix Calcification Cancer Case\")\n",
        "plt.show()"
      ],
      "metadata": {
        "id": "tT44KTjRhMnp"
      },
      "execution_count": null,
      "outputs": []
    }
  ]
}